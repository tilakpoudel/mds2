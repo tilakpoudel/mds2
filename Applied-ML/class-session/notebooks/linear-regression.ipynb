{
 "cells": [
  {
   "cell_type": "markdown",
   "id": "69ba113d",
   "metadata": {},
   "source": [
    "# Linear Regression"
   ]
  },
  {
   "cell_type": "code",
   "execution_count": 140,
   "id": "e4b63333",
   "metadata": {},
   "outputs": [],
   "source": [
    "import numpy as np\n",
    "\n",
    "np.random.seed(10)  # For reproducibility"
   ]
  },
  {
   "cell_type": "code",
   "execution_count": 141,
   "id": "3b0d4bb5",
   "metadata": {},
   "outputs": [
    {
     "name": "stdout",
     "output_type": "stream",
     "text": [
      "<class 'numpy.ndarray'>\n"
     ]
    }
   ],
   "source": [
    "n = 10000000\n",
    "\n",
    "x = np.random.rand(n)\n",
    "y = np.random.rand(n)\n",
    "# print(x)\n",
    "# print(y)\n",
    "print(type(x))"
   ]
  },
  {
   "cell_type": "code",
   "execution_count": 142,
   "id": "cd55d158",
   "metadata": {},
   "outputs": [
    {
     "data": {
      "text/plain": [
       "((10000000,), (10000000,))"
      ]
     },
     "execution_count": 142,
     "metadata": {},
     "output_type": "execute_result"
    }
   ],
   "source": [
    "# Generate 100 random number\n",
    "x.shape, y.shape"
   ]
  },
  {
   "cell_type": "code",
   "execution_count": 143,
   "id": "14fcc182",
   "metadata": {},
   "outputs": [
    {
     "name": "stdout",
     "output_type": "stream",
     "text": [
      "Execution time = 3.8985135555267334\n"
     ]
    }
   ],
   "source": [
    "import time\n",
    "\n",
    "start_time = time.time()\n",
    "\n",
    "for i in range(len(x)):\n",
    "    # print(f\"x[{i}] = {x[i]}\")\n",
    "    sum = x[i] + y[i]\n",
    "    # print(f\"sum_{i} = {sum}\")\n",
    "\n",
    "end_time = time.time()\n",
    "\n",
    "print(\"Execution time =\", end_time - start_time)"
   ]
  },
  {
   "cell_type": "code",
   "execution_count": 144,
   "id": "dddd4a2d",
   "metadata": {},
   "outputs": [
    {
     "name": "stdout",
     "output_type": "stream",
     "text": [
      "Execution time = 0.04803919792175293\n"
     ]
    }
   ],
   "source": [
    "start_time = time.time()\n",
    "z = np.add(x,y)\n",
    "\n",
    "end_time = time.time()\n",
    "print(\"Execution time =\", end_time - start_time)"
   ]
  },
  {
   "cell_type": "code",
   "execution_count": 145,
   "id": "83ad2138",
   "metadata": {},
   "outputs": [
    {
     "name": "stdout",
     "output_type": "stream",
     "text": [
      "(100,)\n",
      "[217.52965869 255.7476268  377.08385258 323.15310958 371.00022103\n",
      " 269.38712856 339.93005946 371.72708543 311.46864548 229.24484097\n",
      " 205.0759146  371.36856826 265.44667535 325.20838321 351.72210097\n",
      " 277.68723691 369.99576013 243.6492485  237.90149348 245.38729983\n",
      " 309.87967615 341.60016051 321.00739897 261.57213634 391.35762296\n",
      " 381.12754698 351.73940374 237.93478366 267.42991244 387.54217216\n",
      " 339.59724468 265.68019079 371.25705868 245.81613233 241.7074627\n",
      " 251.04254324 385.53718573 383.94944203 265.40050621 205.06724436\n",
      " 337.94097891 331.40062203 235.52617448 265.1551935  289.53388046\n",
      " 297.34687063 255.09999167 217.83760969 295.1635753  337.44118001\n",
      " 215.74377277 243.03153663 331.76250972 249.9651691  401.95101239\n",
      " 269.05609826 321.25652776 385.66540449 283.14364264 291.29178602\n",
      " 269.72795494 235.43296227 333.19081954 237.49238062 253.98516778\n",
      " 361.57959142 327.4924717  397.70894107 387.85853826 287.12223314\n",
      " 269.88490998 299.2627348  321.01540854 395.3478576  329.62181667\n",
      " 277.90246429 255.60527517 323.44000742 321.44920695 273.68388649\n",
      " 241.29840703 235.27289232 393.55827505 233.31898468 249.13207685\n",
      " 213.87126442 243.66618354 377.71165324 297.94830156 273.39252386\n",
      " 215.26222502 209.19628976 297.54963264 355.40134737 367.43954589\n",
      " 357.71291415 285.96068541 291.24961538 237.23319272 245.39790991]\n"
     ]
    }
   ],
   "source": [
    "w = 2\n",
    "b = 5\n",
    "# y = 2x + 5\n",
    "x = np.random.randint(100, 200, 100)\n",
    "random_noise = np.random.rand(100)\n",
    "y = 2 * x + 5 + random_noise\n",
    "\n",
    "print(y.shape)\n",
    "print(y)"
   ]
  },
  {
   "cell_type": "code",
   "execution_count": 146,
   "id": "b33e2b56",
   "metadata": {},
   "outputs": [
    {
     "data": {
      "text/plain": [
       "((100,), (100,))"
      ]
     },
     "execution_count": 146,
     "metadata": {},
     "output_type": "execute_result"
    }
   ],
   "source": [
    "x.shape, y.shape"
   ]
  },
  {
   "cell_type": "code",
   "execution_count": 147,
   "id": "1703cc8d",
   "metadata": {},
   "outputs": [
    {
     "name": "stdout",
     "output_type": "stream",
     "text": [
      "0.5787669992409038 0.2672503772909416\n"
     ]
    }
   ],
   "source": [
    "w1 = np.random.rand()\n",
    "w0 = np.random.rand()\n",
    "\n",
    "print(w1, w0)"
   ]
  },
  {
   "cell_type": "code",
   "execution_count": 148,
   "id": "70f75eef",
   "metadata": {},
   "outputs": [
    {
     "name": "stdout",
     "output_type": "stream",
     "text": [
      "[ 61.6165523   72.61312528 107.91791224  92.29120326 106.18161124\n",
      "  76.66449428  96.92133925 106.18161124  88.81860126  65.08915429\n",
      "  58.1439503  106.18161124  75.50696028  92.86997026 100.39394125\n",
      "  78.97956227 105.60284424  69.14052329  67.40422229  69.71929029\n",
      "  88.23983426  97.50010625  91.71243626  74.34942628 111.96928123\n",
      " 109.07544623 100.39394125  67.40422229  76.08572728 110.81174723\n",
      "  96.92133925  75.50696028 106.18161124  69.71929029  68.56175629\n",
      "  71.45559128 110.23298023 109.65421323  75.50696028  58.1439503\n",
      "  96.34257225  94.60627125  66.82545529  75.50696028  82.45216427\n",
      "  84.76723227  72.61312528  61.6165523   84.18846527  96.34257225\n",
      "  61.0377853   69.14052329  94.60627125  70.87682428 114.86311623\n",
      "  76.66449428  91.71243626 110.23298023  80.71586327  83.03093127\n",
      "  76.66449428  66.82545529  95.18503825  67.40422229  72.03435828\n",
      " 103.28777624  93.44873726 113.70558223 110.81174723  81.87339727\n",
      "  76.66449428  85.34599927  91.71243626 113.12681523  94.02750425\n",
      "  78.97956227  72.61312528  92.29120326  91.71243626  77.82202828\n",
      "  68.56175629  66.82545529 112.54804823  66.24668829  70.87682428\n",
      "  60.4590183   69.14052329 107.91791224  84.76723227  77.82202828\n",
      "  61.0377853   59.3014843   84.76723227 101.55147524 105.02407724\n",
      " 102.13024224  81.29463027  83.03093127  67.40422229  69.71929029]\n"
     ]
    }
   ],
   "source": [
    "y_predicted = w1 * x + w0\n",
    "print(y_predicted)\n"
   ]
  },
  {
   "cell_type": "code",
   "execution_count": 149,
   "id": "565e80f6",
   "metadata": {},
   "outputs": [
    {
     "name": "stdout",
     "output_type": "stream",
     "text": [
      "-0.002130988165178112\n"
     ]
    }
   ],
   "source": [
    "# calculate error\n",
    "error = y_predicted - y\n",
    "print(np.sum(error) / n)"
   ]
  },
  {
   "cell_type": "code",
   "execution_count": 150,
   "id": "53b778ad",
   "metadata": {},
   "outputs": [
    {
     "name": "stdout",
     "output_type": "stream",
     "text": [
      "0.6110616742652591 0.2674634761074594\n"
     ]
    }
   ],
   "source": [
    "# weight updated rule\n",
    "learning_rate = 0.1\n",
    "\n",
    "w1 = w1 - learning_rate * np.dot(error, x) / n\n",
    "w0 = w0 - learning_rate * np.sum(error) / n\n",
    "\n",
    "print(w1, w0)"
   ]
  },
  {
   "cell_type": "code",
   "execution_count": 151,
   "id": "5431fdee",
   "metadata": {},
   "outputs": [
    {
     "data": {
      "text/plain": [
       "-3229467.5024355394"
      ]
     },
     "execution_count": 151,
     "metadata": {},
     "output_type": "execute_result"
    }
   ],
   "source": [
    "np.dot(error, x)"
   ]
  },
  {
   "cell_type": "code",
   "execution_count": 153,
   "id": "1e668d03",
   "metadata": {},
   "outputs": [
    {
     "name": "stdout",
     "output_type": "stream",
     "text": [
      "Epoch: 0/10, Average error: 5.308650295703018\n",
      "Epoch: 1/10, Average error: 5.308650826568027\n",
      "Epoch: 2/10, Average error: 5.308651357433141\n",
      "Epoch: 3/10, Average error: 5.308651888298263\n",
      "Epoch: 4/10, Average error: 5.30865241916345\n",
      "Epoch: 5/10, Average error: 5.308652950028686\n",
      "Epoch: 6/10, Average error: 5.30865348089398\n",
      "Epoch: 7/10, Average error: 5.30865401175933\n",
      "Epoch: 8/10, Average error: 5.308654542624736\n",
      "Epoch: 9/10, Average error: 5.3086550734901925\n",
      "After the completion of training w1= 0.17556842854215596 , w0 = 0.18787259972103174\n"
     ]
    }
   ],
   "source": [
    "w1 = np.random.rand()\n",
    "w0 = np.random.rand()\n",
    "\n",
    "epochs = 10\n",
    "learning_rate = 0.01\n",
    "\n",
    "for t in range(epochs):\n",
    "    y_predicted = w * x + w0\n",
    "\n",
    "    error = y - y_predicted\n",
    "\n",
    "    avg_error = np.sum(error) / len(y)\n",
    "\n",
    "    print(f\"Epoch: {t}/{epochs}, Average error: {avg_error}\")\n",
    "\n",
    "    w1 = w1 - learning_rate * np.dot(error, x) / n\n",
    "    w0 = w0 - learning_rate * np.sum(error) / n\n",
    "\n",
    "print(f\"After the completion of training w1= {w1} , w0 = {w0}\")"
   ]
  },
  {
   "cell_type": "code",
   "execution_count": null,
   "id": "48b7ab2f",
   "metadata": {},
   "outputs": [],
   "source": []
  }
 ],
 "metadata": {
  "kernelspec": {
   "display_name": "Python 3",
   "language": "python",
   "name": "python3"
  },
  "language_info": {
   "codemirror_mode": {
    "name": "ipython",
    "version": 3
   },
   "file_extension": ".py",
   "mimetype": "text/x-python",
   "name": "python",
   "nbconvert_exporter": "python",
   "pygments_lexer": "ipython3",
   "version": "3.10.12"
  }
 },
 "nbformat": 4,
 "nbformat_minor": 5
}
