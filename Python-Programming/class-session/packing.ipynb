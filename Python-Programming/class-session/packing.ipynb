{
 "cells": [
  {
   "cell_type": "code",
   "execution_count": 10,
   "id": "7916cc74",
   "metadata": {},
   "outputs": [
    {
     "name": "stdout",
     "output_type": "stream",
     "text": [
      "20.14\n",
      "apple banana orange\n",
      "----------\n",
      "apple ['banana', 'orange']\n",
      "----------\n",
      "apple orange\n",
      "----------\n",
      "orange\n"
     ]
    }
   ],
   "source": [
    "def add(*a):\n",
    "    return sum(a)\n",
    "print(add(2,3.14, 15))\n",
    "\n",
    "fruits = (\"apple\", \"banana\", \"orange\")\n",
    "\n",
    "(f1, f2, f3) = fruits\n",
    "print(f1, f2, f3)\n",
    "\n",
    "print(\"-\" * 10)\n",
    "(f1, *f2) = fruits\n",
    "print(f1, f2)\n",
    "\n",
    "print(\"-\" * 10)\n",
    "(f1, _ ,f2) = fruits\n",
    "print(f1, f2)\n",
    "\n",
    "print(\"-\" * 10)\n",
    "(_, _ ,f2) = fruits\n",
    "print(f2)\n"
   ]
  },
  {
   "cell_type": "markdown",
   "id": "0b696a8a",
   "metadata": {},
   "source": [
    "# Set\n",
    "Unordered, changable (can add or remove item), no duplicate\n",
    "Unordered collection, no duplicates\n",
    "\n",
    "# frozen set \n",
    "Immutable\n",
    "\n",
    "\n"
   ]
  },
  {
   "cell_type": "code",
   "execution_count": null,
   "id": "6e721acc",
   "metadata": {},
   "outputs": [],
   "source": [
    "# frozen sets\n",
    "fs = frozenset(fruits)"
   ]
  }
 ],
 "metadata": {
  "kernelspec": {
   "display_name": "Python 3",
   "language": "python",
   "name": "python3"
  },
  "language_info": {
   "codemirror_mode": {
    "name": "ipython",
    "version": 3
   },
   "file_extension": ".py",
   "mimetype": "text/x-python",
   "name": "python",
   "nbconvert_exporter": "python",
   "pygments_lexer": "ipython3",
   "version": "3.10.12"
  }
 },
 "nbformat": 4,
 "nbformat_minor": 5
}
