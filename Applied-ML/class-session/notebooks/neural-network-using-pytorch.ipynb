{
 "cells": [
  {
   "cell_type": "code",
   "execution_count": 6,
   "id": "12498194",
   "metadata": {},
   "outputs": [],
   "source": [
    "import torch\n",
    "import torch.nn as nn\n",
    "import torch.optim as optim\n",
    "import torchvision\n",
    "import torchvision.transforms as transforms\n",
    "from torch.utils.data import DataLoader\n"
   ]
  },
  {
   "cell_type": "code",
   "execution_count": 12,
   "id": "44ad83a6",
   "metadata": {},
   "outputs": [],
   "source": [
    "# Define the Neural Network Architecture\n",
    "class SimpleNN(nn.Module):\n",
    "    \"\"\"\n",
    "    A simple feed-forward neural network for image classification.\n",
    "    \"\"\"\n",
    "    def __init__(self, input_size, hidden_size1, hidden_size2, num_classes):\n",
    "        super(SimpleNN, self).__init__()\n",
    "        self.flatten = nn.Flatten()\n",
    "        self.network = nn.Sequential(\n",
    "            nn.Linear(input_size, hidden_size1),\n",
    "            nn.ReLU(),\n",
    "            nn.Linear(hidden_size1, hidden_size2),\n",
    "            nn.ReLU(),\n",
    "            nn.Linear(hidden_size2, num_classes)\n",
    "        )\n",
    "\n",
    "    def forward(self, x):\n",
    "        \"\"\"\n",
    "        Defines the forward pass of the neural network.\n",
    "        \"\"\"\n",
    "        x = self.flatten(x)\n",
    "        logits = self.network(x)\n",
    "\n",
    "        return logits\n"
   ]
  },
  {
   "cell_type": "code",
   "execution_count": 13,
   "id": "9487fd64",
   "metadata": {},
   "outputs": [
    {
     "name": "stdout",
     "output_type": "stream",
     "text": [
      "Using device: cpu\n"
     ]
    }
   ],
   "source": [
    "# Set up Hyperparameters and Device\n",
    "INPUT_SIZE = 784\n",
    "HIDDEN_SIZE1 = 128\n",
    "HIDDEN_SIZE2 = 64\n",
    "NUM_CLASSES = 10\n",
    "LEARNING_RATE = 0.001\n",
    "BATCH_SIZE = 64\n",
    "NUM_EPOCHS = 5\n",
    "\n",
    "device = torch.device('cuda' if torch.cuda.is_available() else 'cpu')\n",
    "print(f\"Using device: {device}\")"
   ]
  },
  {
   "cell_type": "code",
   "execution_count": 14,
   "id": "15c2aa21",
   "metadata": {},
   "outputs": [],
   "source": [
    "# Load and prepare data \n",
    "# Define a transform to normalize the data\n",
    "transform = transforms.Compose([\n",
    "    transforms.ToTensor(),\n",
    "    transforms.Normalize((0.5,), (0.5,))\n",
    "])\n",
    "\n",
    "# Download and load the datasets\n",
    "train_dataset = torchvision.datasets.MNIST(\n",
    "    root='./data',\n",
    "    train=True,\n",
    "    transform=transform,\n",
    "    download=True\n",
    ")\n",
    "\n",
    "test_dataset = torchvision.datasets.MNIST(\n",
    "    root='./data',\n",
    "    train=False,\n",
    "    transform=transform\n",
    ")"
   ]
  },
  {
   "cell_type": "code",
   "execution_count": 15,
   "id": "5941d511",
   "metadata": {},
   "outputs": [],
   "source": [
    "# Create DataLoaders\n",
    "train_loaders = DataLoader(\n",
    "    dataset=train_dataset,\n",
    "    batch_size=BATCH_SIZE,\n",
    "    shuffle=True\n",
    ")\n",
    "\n",
    "test_loader = DataLoader(\n",
    "    dataset=test_dataset,\n",
    "    batch_size=BATCH_SIZE,\n",
    "    shuffle=True\n",
    ")"
   ]
  },
  {
   "cell_type": "code",
   "execution_count": 16,
   "id": "bbbde4c3",
   "metadata": {},
   "outputs": [],
   "source": [
    "# Initialize the Model, Loss Function and Optimizer\n",
    "model = SimpleNN(INPUT_SIZE, HIDDEN_SIZE1, HIDDEN_SIZE2, NUM_CLASSES).to(device)\n",
    "criterion = nn.CrossEntropyLoss()\n",
    "optimizer = optim.Adam(model.parameters(), lr=LEARNING_RATE)"
   ]
  },
  {
   "cell_type": "code",
   "execution_count": 17,
   "id": "9dcc7732",
   "metadata": {},
   "outputs": [
    {
     "name": "stdout",
     "output_type": "stream",
     "text": [
      "\n",
      " Starting Training... \n",
      "\n",
      "Epoch [1/5], Step [100/938], Loss: 0.5558\n",
      "Epoch [1/5], Step [200/938], Loss: 0.5109\n",
      "Epoch [1/5], Step [300/938], Loss: 0.2030\n",
      "Epoch [1/5], Step [400/938], Loss: 0.3530\n",
      "Epoch [1/5], Step [500/938], Loss: 0.3674\n",
      "Epoch [1/5], Step [600/938], Loss: 0.1706\n",
      "Epoch [1/5], Step [700/938], Loss: 0.2283\n",
      "Epoch [1/5], Step [800/938], Loss: 0.1956\n",
      "Epoch [1/5], Step [900/938], Loss: 0.3906\n",
      "Epoch [2/5], Step [100/938], Loss: 0.2362\n",
      "Epoch [2/5], Step [200/938], Loss: 0.2176\n",
      "Epoch [2/5], Step [300/938], Loss: 0.2065\n",
      "Epoch [2/5], Step [400/938], Loss: 0.0483\n",
      "Epoch [2/5], Step [500/938], Loss: 0.2332\n",
      "Epoch [2/5], Step [600/938], Loss: 0.1448\n",
      "Epoch [2/5], Step [700/938], Loss: 0.2084\n",
      "Epoch [2/5], Step [800/938], Loss: 0.1631\n",
      "Epoch [2/5], Step [900/938], Loss: 0.1146\n",
      "Epoch [3/5], Step [100/938], Loss: 0.2169\n",
      "Epoch [3/5], Step [200/938], Loss: 0.1256\n",
      "Epoch [3/5], Step [300/938], Loss: 0.0958\n",
      "Epoch [3/5], Step [400/938], Loss: 0.1063\n",
      "Epoch [3/5], Step [500/938], Loss: 0.2103\n",
      "Epoch [3/5], Step [600/938], Loss: 0.0879\n",
      "Epoch [3/5], Step [700/938], Loss: 0.1044\n",
      "Epoch [3/5], Step [800/938], Loss: 0.2384\n",
      "Epoch [3/5], Step [900/938], Loss: 0.0287\n",
      "Epoch [4/5], Step [100/938], Loss: 0.1743\n",
      "Epoch [4/5], Step [200/938], Loss: 0.0318\n",
      "Epoch [4/5], Step [300/938], Loss: 0.0575\n",
      "Epoch [4/5], Step [400/938], Loss: 0.1637\n",
      "Epoch [4/5], Step [500/938], Loss: 0.0837\n",
      "Epoch [4/5], Step [600/938], Loss: 0.1381\n",
      "Epoch [4/5], Step [700/938], Loss: 0.0332\n",
      "Epoch [4/5], Step [800/938], Loss: 0.1304\n",
      "Epoch [4/5], Step [900/938], Loss: 0.0826\n",
      "Epoch [5/5], Step [100/938], Loss: 0.0197\n",
      "Epoch [5/5], Step [200/938], Loss: 0.2243\n",
      "Epoch [5/5], Step [300/938], Loss: 0.1708\n",
      "Epoch [5/5], Step [400/938], Loss: 0.0109\n",
      "Epoch [5/5], Step [500/938], Loss: 0.1184\n",
      "Epoch [5/5], Step [600/938], Loss: 0.0706\n",
      "Epoch [5/5], Step [700/938], Loss: 0.0847\n",
      "Epoch [5/5], Step [800/938], Loss: 0.0436\n",
      "Epoch [5/5], Step [900/938], Loss: 0.0996\n",
      "Finished training epoch 5\n"
     ]
    }
   ],
   "source": [
    "# Train the Network\n",
    "print(\"\\n Starting Training... \\n\")\n",
    "for epoch in range(NUM_EPOCHS):\n",
    "    for i, (images, labels) in enumerate(train_loaders):\n",
    "        images = images.to(device)\n",
    "        labels = labels.to(device)\n",
    "\n",
    "        # Forward pass\n",
    "        outputs = model(images)\n",
    "        loss = criterion(outputs, labels)\n",
    "\n",
    "        # Backward pass and optimization\n",
    "        optimizer.zero_grad()\n",
    "        loss.backward()\n",
    "        optimizer.step()\n",
    "\n",
    "        if (i+1) % 100 == 0:\n",
    "            print(f'Epoch [{epoch+1}/{NUM_EPOCHS}], Step [{i+1}/{len(train_loaders)}], Loss: {loss.item():.4f}')\n",
    "\n",
    "print(\"Finished training epoch\", epoch + 1)"
   ]
  },
  {
   "cell_type": "code",
   "execution_count": 18,
   "id": "ce5310ae",
   "metadata": {},
   "outputs": [
    {
     "name": "stdout",
     "output_type": "stream",
     "text": [
      "Accuracy of the network on the 10000 test images :  96.99 %\n"
     ]
    }
   ],
   "source": [
    "# Model evaluation\n",
    "model.eval()\n",
    "with torch.no_grad():\n",
    "  correct = 0\n",
    "  total = 0\n",
    "  for images, labels in test_loader:\n",
    "    images = images.to(device)\n",
    "    labels = labels.to(device)\n",
    "\n",
    "    outputs = model(images)\n",
    "    _, predicted = torch.max(outputs.data, 1)\n",
    "\n",
    "    total += labels.size(0)\n",
    "    correct += (predicted == labels).sum().item()\n",
    "\n",
    "  accuracy = 100 * correct / total\n",
    "  print(f'Accuracy of the network on the 10000 test images : {accuracy: .2f} %')"
   ]
  }
 ],
 "metadata": {
  "kernelspec": {
   "display_name": "Python 3",
   "language": "python",
   "name": "python3"
  },
  "language_info": {
   "codemirror_mode": {
    "name": "ipython",
    "version": 3
   },
   "file_extension": ".py",
   "mimetype": "text/x-python",
   "name": "python",
   "nbconvert_exporter": "python",
   "pygments_lexer": "ipython3",
   "version": "3.10.12"
  }
 },
 "nbformat": 4,
 "nbformat_minor": 5
}
