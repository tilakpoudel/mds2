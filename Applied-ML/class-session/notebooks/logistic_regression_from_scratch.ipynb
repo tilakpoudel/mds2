{
 "cells": [
  {
   "cell_type": "code",
   "execution_count": 12,
   "id": "0fc1b54b",
   "metadata": {},
   "outputs": [],
   "source": [
    "import numpy as np\n",
    "import pandas as pd\n",
    "from sklearn.linear_model import LogisticRegression"
   ]
  },
  {
   "cell_type": "code",
   "execution_count": null,
   "id": "b8562f40",
   "metadata": {},
   "outputs": [],
   "source": [
    "class LogisticRegression:\n",
    "    \"\"\"\n",
    "    This is the scratch implementation of Logistic Regression.\n",
    "    \"\"\"\n",
    "\n",
    "    def __init__(self, X, y):\n",
    "        self.param = {}\n",
    "        self.m, self.n = X.shape\n",
    "        self.param['W'] = np.random.randn(self.n, 1) * 0.001\n",
    "        self.param['b'] = np.zeros(1)\n",
    "\n",
    "        self.X = X\n",
    "        self.y = y\n",
    "        self.result = pd.DataFrame()\n",
    "\n",
    "\n",
    "    def train(self, alpha = 0.001, epochs = 10):\n",
    "        for epoch in range(epochs):\n",
    "            print(\"Epoch: \", epoch, end=\"\")\n",
    "            z = np.dot(self.X, self.param['W']) + self.param['b']\n",
    "\n",
    "            self.y_pred = self.sigmoid(z)\n",
    "            # print(y_pred)\n",
    "\n",
    "            self.result[0] = self.y\n",
    "            \n",
    "            # Update the parameters\n",
    "            self.param['W'] = self.param['W'] - alpha * 1 / self.m * np.dot(self.X.transpose(), (self.y_pred - np.reshape(self.y, (self.m, 1))))\n",
    "\n",
    "            self.param['b'] = self.param['b'] - alpha * 1 / self.m * np.sum(self.y_pred - np.reshape(self.y, (self.m, 1)))\n",
    "\n",
    "            self.y_pred = self.sigmoid(np.dot(self.X, self.param['W']) + self.param['b'])\n",
    "            loss = self.loss(self.y, self.y_pred)\n",
    "\n",
    "            self.result[1] = self.y_pred\n",
    "            print(\", Loss = \", loss)\n",
    "\n",
    "        print(\", Final loss = \", loss)\n",
    "        print(\" W: {}, b = {}\". format(self.param['W'], self.param['b']))\n",
    "\n",
    "\n",
    "    def loss(self, y, y_pred):\n",
    "        # print(np.log(1-y_pred))\n",
    "        y_zero_loss = y.T.dot(np.log(y_pred))\n",
    "        y_one_loss = (1 - y).T.dot(np.log(1 - y_pred))\n",
    "\n",
    "        return -np.sum(y_zero_loss + y_one_loss) / len(y)\n",
    "    \n",
    "\n",
    "    def sigmoid(self, z):\n",
    "        return 1 / (1 + np.exp(-z))\n",
    "\n",
    "\n",
    "    def predict(self, X):\n",
    "        return self.sigmoid(np.dot(X, self.param[\"W\"]) + self.param[\"b\"])"
   ]
  },
  {
   "cell_type": "code",
   "execution_count": null,
   "id": "d9cfbad4",
   "metadata": {},
   "outputs": [],
   "source": []
  }
 ],
 "metadata": {
  "kernelspec": {
   "display_name": "Python 3",
   "language": "python",
   "name": "python3"
  },
  "language_info": {
   "codemirror_mode": {
    "name": "ipython",
    "version": 3
   },
   "file_extension": ".py",
   "mimetype": "text/x-python",
   "name": "python",
   "nbconvert_exporter": "python",
   "pygments_lexer": "ipython3",
   "version": "3.10.12"
  }
 },
 "nbformat": 4,
 "nbformat_minor": 5
}
