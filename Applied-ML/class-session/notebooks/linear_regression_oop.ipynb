{
 "cells": [
  {
   "cell_type": "code",
   "execution_count": 49,
   "id": "af327581",
   "metadata": {},
   "outputs": [],
   "source": [
    "import numpy as np\n",
    "\n",
    "np.random.seed(10)"
   ]
  },
  {
   "cell_type": "code",
   "execution_count": 50,
   "id": "49b3e967",
   "metadata": {},
   "outputs": [],
   "source": [
    "def mse(y, y_predicted):\n",
    "    \"\"\"\n",
    "    Computes mean squared error\n",
    "\n",
    "    :params y: actual value\n",
    "    :params y_predicted: predicted value\n",
    "    \"\"\"\n",
    "\n",
    "    return np.sum((y - y_predicted) ** 2 ) / len(y)\n",
    "    # return np.mean((y-y_predicted) ** 2)"
   ]
  },
  {
   "cell_type": "code",
   "execution_count": null,
   "id": "7b47751b",
   "metadata": {},
   "outputs": [],
   "source": [
    "class LinearRegression:\n",
    "\n",
    "    def __init__(self, x, y):\n",
    "        self.weights = {\n",
    "            \"w1\": np.random.rand(),\n",
    "            \"w0\" : np.random.rand() \n",
    "        }\n",
    "\n",
    "        self.x = x\n",
    "        self.y = y\n",
    "\n",
    "    def train(self, epochs , learning_rate):\n",
    "        \"\"\"\n",
    "        For training linear regression using gradient descent\n",
    "        \"\"\"\n",
    "\n",
    "        for t in range(epochs):\n",
    "            y_predicted = self.predict()\n",
    "\n",
    "            mse_error = mse(self.y, y_predicted)\n",
    "\n",
    "            print(f\"Error: {mse_error}\")\n",
    "\n",
    "            error = y_predicted - self.y\n",
    "\n",
    "            self.weights[\"w1\"] = self.weights[\"w1\"] - learning_rate * np.dot(error, self.x)\n",
    "            \n",
    "            print(f\"New weight: {self.weights['w1']}\")\n",
    "\n",
    "\n",
    "    def predict(self):\n",
    "        \"\"\"\n",
    "        A linear function that processes single variable in a data with bias.\n",
    "\n",
    "        :returns y: numpy array after linear transformation\n",
    "        \"\"\"\n",
    "        w1 = self.weights[\"w1\"]\n",
    "        w0 =self. weights[\"w0\"]\n",
    "\n",
    "        y_predicted = w1 * self.x + w0\n",
    "\n",
    "        return y_predicted"
   ]
  },
  {
   "cell_type": "code",
   "execution_count": null,
   "id": "1f146b44",
   "metadata": {},
   "outputs": [],
   "source": []
  },
  {
   "cell_type": "code",
   "execution_count": 52,
   "id": "c3e7e803",
   "metadata": {},
   "outputs": [
    {
     "name": "stdout",
     "output_type": "stream",
     "text": [
      "[0.77132064 0.02075195] [9.80993776 8.30880037]\n",
      "Error: 68.51927680042142\n",
      "New weight: 0.7488728661891894\n",
      "Error: 68.51880092743333\n",
      "New weight: 0.7489418494290616\n",
      "Error: 68.51832506011156\n",
      "New weight: 0.749010832258231\n",
      "Error: 68.51784919845612\n",
      "New weight: 0.7490798146766998\n",
      "Error: 68.51737334246688\n",
      "New weight: 0.7491487966844708\n",
      "Error: 68.51689749214381\n",
      "New weight: 0.7492177782815461\n",
      "Error: 68.51642164748681\n",
      "New weight: 0.7492867594679284\n",
      "Error: 68.51594580849584\n",
      "New weight: 0.7493557402436201\n",
      "Error: 68.51546997517082\n",
      "New weight: 0.7494247206086235\n",
      "Error: 68.51499414751167\n",
      "New weight: 0.7494937005629412\n"
     ]
    }
   ],
   "source": [
    "n = 2\n",
    "x = np.random.rand(n)\n",
    "y = 2 * x + 7 + (np.random.rand() * 2)\n",
    "\n",
    "# Set the static values\n",
    "EPOCHS = 10\n",
    "LEARNING_RATE = 0.00001\n",
    "\n",
    "print(x, y)\n",
    "\n",
    "linear_regression = LinearRegression(x, y)\n",
    "\n",
    "linear_regression.train(epochs = EPOCHS, learning_rate = LEARNING_RATE)"
   ]
  },
  {
   "cell_type": "code",
   "execution_count": null,
   "id": "c4037a5d",
   "metadata": {},
   "outputs": [],
   "source": []
  }
 ],
 "metadata": {
  "kernelspec": {
   "display_name": "Python 3",
   "language": "python",
   "name": "python3"
  },
  "language_info": {
   "codemirror_mode": {
    "name": "ipython",
    "version": 3
   },
   "file_extension": ".py",
   "mimetype": "text/x-python",
   "name": "python",
   "nbconvert_exporter": "python",
   "pygments_lexer": "ipython3",
   "version": "3.10.12"
  }
 },
 "nbformat": 4,
 "nbformat_minor": 5
}
