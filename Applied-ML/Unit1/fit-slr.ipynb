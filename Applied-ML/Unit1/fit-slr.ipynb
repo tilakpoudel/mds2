{
 "cells": [
  {
   "cell_type": "code",
   "execution_count": 1,
   "id": "53baaea6",
   "metadata": {},
   "outputs": [],
   "source": [
    "import numpy as np\n",
    "import pandas as pd\n",
    "from matplotlib import pyplot as plt\n",
    "\n",
    "from sklearn.model_selection import train_test_split\n",
    "from sklearn.metrics import mean_squared_error, r2_score"
   ]
  },
  {
   "cell_type": "code",
   "execution_count": 3,
   "id": "76a213bd",
   "metadata": {},
   "outputs": [],
   "source": [
    "# Read data from CSV\n",
    "# df = pd.read_csv('data.csv')\n",
    "# df.head()"
   ]
  },
  {
   "cell_type": "code",
   "execution_count": 4,
   "id": "ffb2d1a4",
   "metadata": {},
   "outputs": [],
   "source": [
    "def scale(d):\n",
    "    mean = d.mean()\n",
    "    sd = d.std()\n",
    "\n",
    "    return (d- mean) / sd\n",
    "\n",
    "def data_iter(batch_size, features, labels):\n",
    "    num_examples = len(features)\n",
    "    indices = list(range(num_examples))\n",
    "\n",
    "    # The examples are read at random, in no particular order\n",
    "    np.random.shuffle(indices)\n",
    "    for i in range(0, num_examples, batch_size):\n",
    "        batch_indices = np.array(\n",
    "            indices[i: min(i + batch_size, num_examples)]\n",
    "        )\n",
    "\n",
    "        yield features[batch_indices], labels[batch_indices]\n",
    "        \n",
    "    "
   ]
  },
  {
   "cell_type": "markdown",
   "id": "aa41b681",
   "metadata": {},
   "source": []
  },
  {
   "cell_type": "code",
   "execution_count": 5,
   "id": "39718c41",
   "metadata": {},
   "outputs": [
    {
     "ename": "NameError",
     "evalue": "name 'data' is not defined",
     "output_type": "error",
     "traceback": [
      "\u001b[0;31m---------------------------------------------------------------------------\u001b[0m",
      "\u001b[0;31mNameError\u001b[0m                                 Traceback (most recent call last)",
      "Cell \u001b[0;32mIn[5], line 2\u001b[0m\n\u001b[1;32m      1\u001b[0m \u001b[38;5;66;03m# Get features and labels with scaling place\u001b[39;00m\n\u001b[0;32m----> 2\u001b[0m features \u001b[38;5;241m=\u001b[39m scale(np\u001b[38;5;241m.\u001b[39mreshape(np\u001b[38;5;241m.\u001b[39marray(\u001b[43mdata\u001b[49m\u001b[38;5;241m.\u001b[39miloc[:, \u001b[38;5;241m0\u001b[39m]), (\u001b[38;5;28mlen\u001b[39m(data), \u001b[38;5;241m1\u001b[39m)))\n\u001b[1;32m      4\u001b[0m labels \u001b[38;5;241m=\u001b[39m scale(np\u001b[38;5;241m.\u001b[39mreshape(np\u001b[38;5;241m.\u001b[39marray(data\u001b[38;5;241m.\u001b[39miloc[:, \u001b[38;5;241m1\u001b[39m]), (\u001b[38;5;28mlen\u001b[39m(data), \u001b[38;5;241m1\u001b[39m)))\n",
      "\u001b[0;31mNameError\u001b[0m: name 'data' is not defined"
     ]
    }
   ],
   "source": [
    "# Get features and labels with scaling place\n",
    "features = scale(np.reshape(np.array(data.iloc[:, 0]), (len(data), 1)))\n",
    "\n",
    "labels = scale(np.reshape(np.array(data.iloc[:, 1]), (len(data), 1)))"
   ]
  },
  {
   "cell_type": "code",
   "execution_count": null,
   "id": "5c5d061d",
   "metadata": {},
   "outputs": [],
   "source": [
    "# Plot the data for Exploration\n",
    "plt.scatter(features, labels)\n",
    "plt.show()"
   ]
  }
 ],
 "metadata": {
  "kernelspec": {
   "display_name": "Python 3",
   "language": "python",
   "name": "python3"
  },
  "language_info": {
   "codemirror_mode": {
    "name": "ipython",
    "version": 3
   },
   "file_extension": ".py",
   "mimetype": "text/x-python",
   "name": "python",
   "nbconvert_exporter": "python",
   "pygments_lexer": "ipython3",
   "version": "3.10.12"
  }
 },
 "nbformat": 4,
 "nbformat_minor": 5
}
