{
 "cells": [
  {
   "cell_type": "code",
   "execution_count": 9,
   "id": "2e8a2ffd",
   "metadata": {},
   "outputs": [],
   "source": [
    "import numpy as np\n",
    "np.random.seed(10)"
   ]
  },
  {
   "cell_type": "code",
   "execution_count": 10,
   "id": "e6353141",
   "metadata": {},
   "outputs": [],
   "source": [
    "def relu(z):\n",
    "    return np.maximum(0, z)\n",
    "\n",
    "def relu_derivative(z):\n",
    "    return 1 if z > 0 else 0\n",
    "\n",
    "def sigmoid(z):\n",
    "    return 1 / (1 + np.exp(z))\n",
    "\n",
    "def sigmoid_derivative(z):\n",
    "    return sigmoid(z) * (1 - sigmoid(z))\n",
    "\n",
    "\n",
    "class Neuron:\n",
    "    def __init__(self, x, y):\n",
    "        self.x = np.expand_dims(x, axis=1)\n",
    "        self.y = np.expand_dims(y, axis=1)\n",
    "        m,n = self.x.shape\n",
    "        self.w = np.array(np.random.randn(n))\n",
    "        self.b = np.random.randn()\n",
    "\n",
    "    def forward (self, activation = 'relu'):\n",
    "        z = self.w * self.x + self.b\n",
    "\n",
    "        if activation == 'relu':\n",
    "            a = relu(z)\n",
    "        elif activation == 'sigmoid':\n",
    "            a = sigmoid(z)\n",
    "\n",
    "        return a"
   ]
  },
  {
   "cell_type": "code",
   "execution_count": 11,
   "id": "4d67992b",
   "metadata": {},
   "outputs": [
    {
     "data": {
      "text/plain": [
       "array([[14.03114402],\n",
       "       [27.34700906]])"
      ]
     },
     "execution_count": 11,
     "metadata": {},
     "output_type": "execute_result"
    }
   ],
   "source": [
    "x = np.array((10, 20))\n",
    "y = np.array((1, 2.2))\n",
    "neuron = Neuron(x, y)\n",
    "neuron.forward()"
   ]
  },
  {
   "cell_type": "code",
   "execution_count": 17,
   "id": "7de09ca1",
   "metadata": {},
   "outputs": [],
   "source": [
    "def softmax(z):\n",
    "    return np.exp(z) / np.sum(np.exp(z))\n",
    "\n",
    "class Neuron:\n",
    "    def __init__(self, x, y):\n",
    "        self.x = np.expand_dims(x, axis=1)\n",
    "        self.y = np.expand_dims(y, axis=1)\n",
    "        m,n = self.x.shape\n",
    "        self.w = np.array(np.random.randn(n))\n",
    "        self.b = np.random.randn()\n",
    "\n",
    "    def forward (self, activation = 'relu'):\n",
    "        z = self.w * self.x + self.b\n",
    "\n",
    "        _activation = {\n",
    "            'relu': relu,\n",
    "            'sigmoid': sigmoid,\n",
    "            'softmax': softmax\n",
    "        }\n",
    "\n",
    "        return _activation[activation](z)"
   ]
  },
  {
   "cell_type": "code",
   "execution_count": 18,
   "id": "1509e6b4",
   "metadata": {},
   "outputs": [
    {
     "data": {
      "text/plain": [
       "array([[0.],\n",
       "       [0.]])"
      ]
     },
     "execution_count": 18,
     "metadata": {},
     "output_type": "execute_result"
    }
   ],
   "source": [
    "x = np.array((0.4, 20))\n",
    "y = np.array((1.1, 2.2))\n",
    "neuron = Neuron(x, y)\n",
    "neuron.forward()"
   ]
  },
  {
   "cell_type": "code",
   "execution_count": 36,
   "id": "cfd31f56",
   "metadata": {},
   "outputs": [],
   "source": [
    "def binary_cross_entropy(y_true, y_pred):\n",
    "    eps = 1e-10\n",
    "    y_pred = np.clip(y_pred, eps, 1 - eps)\n",
    "    return -np.mean(y_true * np.log(y_pred) + (1 - y_true) * np.log(1 - y_pred))"
   ]
  },
  {
   "cell_type": "code",
   "execution_count": 22,
   "id": "0ca75fe7",
   "metadata": {},
   "outputs": [
    {
     "data": {
      "text/plain": [
       "1.000000082790371e-10"
      ]
     },
     "execution_count": 22,
     "metadata": {},
     "output_type": "execute_result"
    }
   ],
   "source": [
    "binary_cross_entropy(1, 1)"
   ]
  },
  {
   "cell_type": "code",
   "execution_count": 37,
   "id": "aa35dfba",
   "metadata": {},
   "outputs": [],
   "source": [
    "class Neuron:\n",
    "    def __init__(self, x, y):\n",
    "        self.x = np.expand_dims(x, axis = 1) if x.ndim == 1 else x\n",
    "        self.y = np.expand_dims (y, axis = 1) if y.ndim == 1 else y\n",
    "        m, n = self.x.shape\n",
    "        self.w = np.array(np.random.randn(n, 1)) # shape (n, 1) for matrix multiplication\n",
    "        self.b = np.random.randn()\n",
    "\n",
    "    def _forward (self, activation = 'relu'):\n",
    "        z = self.w * self.x + self.b\n",
    "\n",
    "        _activation = {\n",
    "            'relu': relu,\n",
    "            'sigmoid': sigmoid,\n",
    "            'softmax': softmax\n",
    "        }\n",
    "\n",
    "        return _activation[activation](z)\n",
    "    \n",
    "    def backward (self, epochs, learning_rate = 0.001, activation = 'sigmoid'):\n",
    "        for e in range(epochs):\n",
    "            y_pred = self._forward(activation)\n",
    "\n",
    "            m = self.x.shape[0]\n",
    "            dw = (1 / m) * np.dot(self.x.T, (y_pred - self.y))\n",
    "            db = (1 / m) * np.sum(y_pred - self.y)\n",
    "\n",
    "            self.w -= learning_rate * dw\n",
    "            self.b -= learning_rate * db\n",
    "\n",
    "            loss = np.mean(binary_cross_entropy(self.y, y_pred))\n",
    "            print(f\"Epoch {e+1}/{epochs}, \\tLoss: {loss:.4f}\")"
   ]
  },
  {
   "cell_type": "code",
   "execution_count": 38,
   "id": "1837774a",
   "metadata": {},
   "outputs": [
    {
     "name": "stdout",
     "output_type": "stream",
     "text": [
      "Epoch 1/20, \tLoss: -13.9041\n",
      "Epoch 2/20, \tLoss: -13.9036\n",
      "Epoch 3/20, \tLoss: -13.9031\n",
      "Epoch 4/20, \tLoss: -13.9026\n",
      "Epoch 5/20, \tLoss: -13.9022\n",
      "Epoch 6/20, \tLoss: -13.9017\n",
      "Epoch 7/20, \tLoss: -13.9012\n",
      "Epoch 8/20, \tLoss: -13.9007\n",
      "Epoch 9/20, \tLoss: -13.9002\n",
      "Epoch 10/20, \tLoss: -13.8997\n",
      "Epoch 11/20, \tLoss: -13.8993\n",
      "Epoch 12/20, \tLoss: -13.8988\n",
      "Epoch 13/20, \tLoss: -13.8983\n",
      "Epoch 14/20, \tLoss: -13.8978\n",
      "Epoch 15/20, \tLoss: -13.8973\n",
      "Epoch 16/20, \tLoss: -13.8968\n",
      "Epoch 17/20, \tLoss: -13.8963\n",
      "Epoch 18/20, \tLoss: -13.8958\n",
      "Epoch 19/20, \tLoss: -13.8953\n",
      "Epoch 20/20, \tLoss: -13.8948\n"
     ]
    }
   ],
   "source": [
    "neuron = Neuron(x, y)\n",
    "neuron.backward(epochs = 20)"
   ]
  }
 ],
 "metadata": {
  "kernelspec": {
   "display_name": "Python 3",
   "language": "python",
   "name": "python3"
  },
  "language_info": {
   "codemirror_mode": {
    "name": "ipython",
    "version": 3
   },
   "file_extension": ".py",
   "mimetype": "text/x-python",
   "name": "python",
   "nbconvert_exporter": "python",
   "pygments_lexer": "ipython3",
   "version": "3.10.12"
  }
 },
 "nbformat": 4,
 "nbformat_minor": 5
}
