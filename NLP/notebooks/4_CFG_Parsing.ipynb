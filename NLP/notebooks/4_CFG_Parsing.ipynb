{
  "cells": [
    {
      "cell_type": "markdown",
      "metadata": {
        "id": "jQUdMHL4vX15"
      },
      "source": [
        "# Syntax parser in NLTK\n",
        "\n",
        "\n"
      ]
    },
    {
      "cell_type": "markdown",
      "metadata": {
        "id": "anVnL5QNGejL"
      },
      "source": [
        "## Context free Grammer\n",
        "\n",
        "Context Free Grammar is the ability of a set of rules to generate well-formed sentences from it.\n",
        "\n",
        "Reading from left to right, the left part represents the syntactical POS and at the right side represents its alternative."
      ]
    },
    {
      "cell_type": "code",
      "execution_count": 1,
      "metadata": {
        "id": "Q0X_RICwbWgQ"
      },
      "outputs": [],
      "source": [
        "import nltk\n",
        "from nltk.tree import Tree\n",
        "import matplotlib.pyplot as plt"
      ]
    },
    {
      "cell_type": "code",
      "execution_count": null,
      "metadata": {
        "id": "nbyocvNmbSzs"
      },
      "outputs": [],
      "source": [
        "grammar = nltk.CFG.fromstring(\"\"\"\n",
        "S -> NP VP\n",
        "PP -> P NP\n",
        "NP -> Det N | Det N PP | 'I' | Det\n",
        "VP -> V NP | VP PP | NP\n",
        "Det -> 'an' | 'my'\n",
        "N -> 'elephant' | 'pajamas'\n",
        "V -> 'shot'\n",
        "P -> 'in'\n",
        "\"\"\")"
      ]
    },
    {
      "cell_type": "code",
      "execution_count": 47,
      "metadata": {
        "colab": {
          "base_uri": "https://localhost:8080/"
        },
        "id": "IT8x0OkXbas2",
        "outputId": "cc9724c4-749f-4f91-c032-36b98896e9ba"
      },
      "outputs": [
        {
          "data": {
            "text/plain": [
              "<Grammar with 15 productions>"
            ]
          },
          "execution_count": 47,
          "metadata": {},
          "output_type": "execute_result"
        }
      ],
      "source": [
        "grammar"
      ]
    },
    {
      "cell_type": "code",
      "execution_count": 15,
      "metadata": {
        "colab": {
          "base_uri": "https://localhost:8080/"
        },
        "id": "arPVCQ0abfYF",
        "outputId": "34e8dc14-00a8-46e0-c214-76f47cec9e03"
      },
      "outputs": [
        {
          "data": {
            "text/plain": [
              "S"
            ]
          },
          "execution_count": 15,
          "metadata": {},
          "output_type": "execute_result"
        }
      ],
      "source": [
        "grammar.start()"
      ]
    },
    {
      "cell_type": "code",
      "execution_count": 41,
      "metadata": {
        "colab": {
          "base_uri": "https://localhost:8080/"
        },
        "id": "NI8NULwFbfxX",
        "outputId": "a509e2ba-8fca-4000-bf97-7004e6c0d3a9"
      },
      "outputs": [
        {
          "data": {
            "text/plain": [
              "[S -> NP VP,\n",
              " PP -> P NP,\n",
              " NP -> Det N,\n",
              " NP -> Det N PP,\n",
              " NP -> 'I',\n",
              " NP -> Det,\n",
              " VP -> V NP,\n",
              " VP -> VP PP,\n",
              " Det -> 'an',\n",
              " Det -> 'my',\n",
              " N -> 'elephant',\n",
              " N -> 'pajamas',\n",
              " V -> 'shot',\n",
              " P -> 'in']"
            ]
          },
          "execution_count": 41,
          "metadata": {},
          "output_type": "execute_result"
        }
      ],
      "source": [
        "grammar.productions()"
      ]
    },
    {
      "cell_type": "code",
      "execution_count": 48,
      "metadata": {
        "colab": {
          "base_uri": "https://localhost:8080/"
        },
        "id": "I2sQJ5IGbu9P",
        "outputId": "a1d0bb0e-fee2-4e9e-e2f3-fa5f611486f7"
      },
      "outputs": [
        {
          "name": "stdout",
          "output_type": "stream",
          "text": [
            "[NP -> Det N, NP -> Det N PP, NP -> 'I', NP -> Det]\n",
            "[NP -> Det N, NP -> Det N PP, NP -> Det]\n"
          ]
        }
      ],
      "source": [
        "lh_np = grammar.productions(lhs=nltk.Nonterminal(\"NP\"))\n",
        "print(lh_np)\n",
        "rh_np = grammar.productions(rhs=nltk.Nonterminal(\"Det\"))\n",
        "print(rh_np)"
      ]
    },
    {
      "cell_type": "markdown",
      "metadata": {
        "id": "o89Xe_tjcHUV"
      },
      "source": [
        "### ChartParser\n",
        "Chart parsing is an example of dynamic programming – for example, the Left Corner (LC) parser above is not simply an LC parser, but an LC chart parser.\n",
        "Chart parsers make use of dynamic programming in the sense that every time we parse a sub-part of our input, we store the intermediate results and re-use them when appropriate. That is, unlike the top-down algorithm above, we never do the same work multiple times.\n",
        "\n",
        "The first time we build a structure, e.g., an NP, based on some sub-part of our input, we saveit in a table, then we look it up when we need to use it as a subconstituent of higher phrases.\n"
      ]
    },
    {
      "cell_type": "code",
      "execution_count": 49,
      "metadata": {
        "id": "DtG_LTfmcE_V"
      },
      "outputs": [],
      "source": [
        "sent = ['I', 'shot', 'an', 'elephant', 'in', 'my', 'pajamas']\n",
        "sent1 = ['an', 'elephant', 'in', 'my', 'pajamas']\n",
        "parser = nltk.ChartParser(grammar)\n",
        "trees = list(parser.parse(sent))\n",
        "trees1 = list(parser.parse(sent1))"
      ]
    },
    {
      "cell_type": "code",
      "execution_count": 50,
      "metadata": {
        "colab": {
          "base_uri": "https://localhost:8080/"
        },
        "id": "AVCMlKuUekkQ",
        "outputId": "d3318710-a322-4d31-ee1a-53ad15fc52ff"
      },
      "outputs": [
        {
          "data": {
            "text/plain": [
              "0"
            ]
          },
          "execution_count": 50,
          "metadata": {},
          "output_type": "execute_result"
        }
      ],
      "source": [
        "len(trees1)"
      ]
    },
    {
      "cell_type": "code",
      "execution_count": 32,
      "metadata": {
        "colab": {
          "base_uri": "https://localhost:8080/"
        },
        "id": "3CJOjZtZemKU",
        "outputId": "ca7b8778-fdd1-40e1-f10c-96992b0cb2ed"
      },
      "outputs": [],
      "source": [
        "for tree in trees1:\n",
        "    print(tree)"
      ]
    },
    {
      "cell_type": "code",
      "execution_count": 21,
      "metadata": {
        "colab": {
          "base_uri": "https://localhost:8080/"
        },
        "id": "cS2YScBJew5b",
        "outputId": "526432c8-ec98-4015-95c1-6a855c95cb09"
      },
      "outputs": [
        {
          "name": "stdout",
          "output_type": "stream",
          "text": [
            "Error processing line 1 of /home/tilak/.local/lib/python3.10/site-packages/vision-1.0.0-nspkg.pth:\n",
            "\n",
            "  Traceback (most recent call last):\n",
            "    File \"/usr/lib/python3.10/site.py\", line 192, in addpackage\n",
            "      exec(line)\n",
            "    File \"<string>\", line 1, in <module>\n",
            "    File \"<frozen importlib._bootstrap>\", line 568, in module_from_spec\n",
            "  AttributeError: 'NoneType' object has no attribute 'loader'\n",
            "\n",
            "Remainder of file ignored\n",
            "Defaulting to user installation because normal site-packages is not writeable\n",
            "Collecting svgling\n",
            "  Downloading svgling-0.5.0-py3-none-any.whl (31 kB)\n",
            "Collecting svgwrite\n",
            "  Downloading svgwrite-1.4.3-py3-none-any.whl (67 kB)\n",
            "\u001b[2K     \u001b[90m━━━━━━━━━━━━━━━━━━━━━━━━━━━━━━━━━━━━━━━\u001b[0m \u001b[32m67.1/67.1 KB\u001b[0m \u001b[31m526.2 kB/s\u001b[0m eta \u001b[36m0:00:00\u001b[0ma \u001b[36m0:00:01\u001b[0m\n",
            "\u001b[?25hInstalling collected packages: svgwrite, svgling\n",
            "Successfully installed svgling-0.5.0 svgwrite-1.4.3\n"
          ]
        }
      ],
      "source": [
        "!pip install svgling"
      ]
    },
    {
      "cell_type": "code",
      "execution_count": null,
      "metadata": {
        "colab": {
          "base_uri": "https://localhost:8080/",
          "height": 284
        },
        "id": "RIdhoGLtes4Q",
        "outputId": "bdc78794-be6a-44a8-a2d6-1254626fccc4"
      },
      "outputs": [
        {
          "ename": "IndexError",
          "evalue": "list index out of range",
          "output_type": "error",
          "traceback": [
            "\u001b[0;31m---------------------------------------------------------------------------\u001b[0m",
            "\u001b[0;31mIndexError\u001b[0m                                Traceback (most recent call last)",
            "Cell \u001b[0;32mIn[34], line 1\u001b[0m\n\u001b[0;32m----> 1\u001b[0m \u001b[43mtrees1\u001b[49m\u001b[43m[\u001b[49m\u001b[38;5;241;43m0\u001b[39;49m\u001b[43m]\u001b[49m\n",
            "\u001b[0;31mIndexError\u001b[0m: list index out of range"
          ]
        }
      ],
      "source": [
        "trees[0]"
      ]
    },
    {
      "cell_type": "code",
      "execution_count": 23,
      "metadata": {
        "colab": {
          "base_uri": "https://localhost:8080/",
          "height": 284
        },
        "id": "aGv1-QO7e1FD",
        "outputId": "a4804213-89fe-4936-ee7a-40dded55135e"
      },
      "outputs": [
        {
          "data": {
            "image/svg+xml": [
              "<svg baseProfile=\"full\" height=\"264px\" preserveAspectRatio=\"xMidYMid meet\" style=\"font-family: times, serif; font-weight: normal; font-style: normal; font-size: 16px\" version=\"1.1\" viewBox=\"0,0,312.0,264.0\" width=\"312px\" xmlns=\"http://www.w3.org/2000/svg\" xmlns:ev=\"http://www.w3.org/2001/xml-events\" xmlns:xlink=\"http://www.w3.org/1999/xlink\"><defs /><svg width=\"100%\" x=\"0\" y=\"0px\"><defs /><text text-anchor=\"middle\" x=\"50%\" y=\"16px\">VP</text></svg><svg width=\"15.3846%\" x=\"0%\" y=\"48px\"><defs /><svg width=\"100%\" x=\"0\" y=\"0px\"><defs /><text text-anchor=\"middle\" x=\"50%\" y=\"16px\">V</text></svg><svg width=\"100%\" x=\"0%\" y=\"48px\"><defs /><svg width=\"100%\" x=\"0\" y=\"0px\"><defs /><text text-anchor=\"middle\" x=\"50%\" y=\"16px\">shot</text></svg></svg><line stroke=\"black\" x1=\"50%\" x2=\"50%\" y1=\"20px\" y2=\"48px\" /></svg><line stroke=\"black\" x1=\"50%\" x2=\"7.69231%\" y1=\"20px\" y2=\"48px\" /><svg width=\"84.6154%\" x=\"15.3846%\" y=\"48px\"><defs /><svg width=\"100%\" x=\"0\" y=\"0px\"><defs /><text text-anchor=\"middle\" x=\"50%\" y=\"16px\">NP</text></svg><svg width=\"15.1515%\" x=\"0%\" y=\"48px\"><defs /><svg width=\"100%\" x=\"0\" y=\"0px\"><defs /><text text-anchor=\"middle\" x=\"50%\" y=\"16px\">Det</text></svg><svg width=\"100%\" x=\"0%\" y=\"48px\"><defs /><svg width=\"100%\" x=\"0\" y=\"0px\"><defs /><text text-anchor=\"middle\" x=\"50%\" y=\"16px\">an</text></svg></svg><line stroke=\"black\" x1=\"50%\" x2=\"50%\" y1=\"20px\" y2=\"48px\" /></svg><line stroke=\"black\" x1=\"50%\" x2=\"7.57576%\" y1=\"20px\" y2=\"48px\" /><svg width=\"30.303%\" x=\"15.1515%\" y=\"48px\"><defs /><svg width=\"100%\" x=\"0\" y=\"0px\"><defs /><text text-anchor=\"middle\" x=\"50%\" y=\"16px\">N</text></svg><svg width=\"100%\" x=\"0%\" y=\"48px\"><defs /><svg width=\"100%\" x=\"0\" y=\"0px\"><defs /><text text-anchor=\"middle\" x=\"50%\" y=\"16px\">elephant</text></svg></svg><line stroke=\"black\" x1=\"50%\" x2=\"50%\" y1=\"20px\" y2=\"48px\" /></svg><line stroke=\"black\" x1=\"50%\" x2=\"30.303%\" y1=\"20px\" y2=\"48px\" /><svg width=\"54.5455%\" x=\"45.4545%\" y=\"48px\"><defs /><svg width=\"100%\" x=\"0\" y=\"0px\"><defs /><text text-anchor=\"middle\" x=\"50%\" y=\"16px\">PP</text></svg><svg width=\"22.2222%\" x=\"0%\" y=\"48px\"><defs /><svg width=\"100%\" x=\"0\" y=\"0px\"><defs /><text text-anchor=\"middle\" x=\"50%\" y=\"16px\">P</text></svg><svg width=\"100%\" x=\"0%\" y=\"48px\"><defs /><svg width=\"100%\" x=\"0\" y=\"0px\"><defs /><text text-anchor=\"middle\" x=\"50%\" y=\"16px\">in</text></svg></svg><line stroke=\"black\" x1=\"50%\" x2=\"50%\" y1=\"20px\" y2=\"48px\" /></svg><line stroke=\"black\" x1=\"50%\" x2=\"11.1111%\" y1=\"20px\" y2=\"48px\" /><svg width=\"77.7778%\" x=\"22.2222%\" y=\"48px\"><defs /><svg width=\"100%\" x=\"0\" y=\"0px\"><defs /><text text-anchor=\"middle\" x=\"50%\" y=\"16px\">NP</text></svg><svg width=\"35.7143%\" x=\"0%\" y=\"48px\"><defs /><svg width=\"100%\" x=\"0\" y=\"0px\"><defs /><text text-anchor=\"middle\" x=\"50%\" y=\"16px\">Det</text></svg><svg width=\"100%\" x=\"0%\" y=\"48px\"><defs /><svg width=\"100%\" x=\"0\" y=\"0px\"><defs /><text text-anchor=\"middle\" x=\"50%\" y=\"16px\">my</text></svg></svg><line stroke=\"black\" x1=\"50%\" x2=\"50%\" y1=\"20px\" y2=\"48px\" /></svg><line stroke=\"black\" x1=\"50%\" x2=\"17.8571%\" y1=\"20px\" y2=\"48px\" /><svg width=\"64.2857%\" x=\"35.7143%\" y=\"48px\"><defs /><svg width=\"100%\" x=\"0\" y=\"0px\"><defs /><text text-anchor=\"middle\" x=\"50%\" y=\"16px\">N</text></svg><svg width=\"100%\" x=\"0%\" y=\"48px\"><defs /><svg width=\"100%\" x=\"0\" y=\"0px\"><defs /><text text-anchor=\"middle\" x=\"50%\" y=\"16px\">pajamas</text></svg></svg><line stroke=\"black\" x1=\"50%\" x2=\"50%\" y1=\"20px\" y2=\"48px\" /></svg><line stroke=\"black\" x1=\"50%\" x2=\"67.8571%\" y1=\"20px\" y2=\"48px\" /></svg><line stroke=\"black\" x1=\"50%\" x2=\"61.1111%\" y1=\"20px\" y2=\"48px\" /></svg><line stroke=\"black\" x1=\"50%\" x2=\"72.7273%\" y1=\"20px\" y2=\"48px\" /></svg><line stroke=\"black\" x1=\"50%\" x2=\"57.6923%\" y1=\"20px\" y2=\"48px\" /></svg>"
            ],
            "text/plain": [
              "Tree('VP', [Tree('V', ['shot']), Tree('NP', [Tree('Det', ['an']), Tree('N', ['elephant']), Tree('PP', [Tree('P', ['in']), Tree('NP', [Tree('Det', ['my']), Tree('N', ['pajamas'])])])])])"
            ]
          },
          "execution_count": 23,
          "metadata": {},
          "output_type": "execute_result"
        }
      ],
      "source": [
        "tree[1]"
      ]
    },
    {
      "cell_type": "markdown",
      "metadata": {
        "id": "saLh-WEnPVXP"
      },
      "source": [
        "## Parsing"
      ]
    },
    {
      "cell_type": "code",
      "execution_count": 26,
      "metadata": {
        "id": "Z6qdvFfir42t"
      },
      "outputs": [],
      "source": [
        "import nltk\n",
        "from nltk.tree import Tree\n",
        "import matplotlib.pyplot as plt"
      ]
    },
    {
      "cell_type": "code",
      "execution_count": 27,
      "metadata": {
        "colab": {
          "base_uri": "https://localhost:8080/"
        },
        "id": "ZVd_VHJrs2Pm",
        "outputId": "fa622030-2fe1-4c1f-f6b0-2b73fe074bc8"
      },
      "outputs": [
        {
          "name": "stderr",
          "output_type": "stream",
          "text": [
            "[nltk_data] Downloading package punkt to /home/tilak/nltk_data...\n",
            "[nltk_data]   Package punkt is already up-to-date!\n",
            "[nltk_data] Downloading package averaged_perceptron_tagger to\n",
            "[nltk_data]     /home/tilak/nltk_data...\n",
            "[nltk_data]   Unzipping taggers/averaged_perceptron_tagger.zip.\n"
          ]
        },
        {
          "data": {
            "text/plain": [
              "True"
            ]
          },
          "execution_count": 27,
          "metadata": {},
          "output_type": "execute_result"
        }
      ],
      "source": [
        "nltk.download('punkt')\n",
        "nltk.download('averaged_perceptron_tagger')"
      ]
    },
    {
      "cell_type": "markdown",
      "metadata": {
        "id": "hMai1J99vVI3"
      },
      "source": [
        "## RegexpParser"
      ]
    },
    {
      "cell_type": "code",
      "execution_count": 15,
      "metadata": {
        "colab": {
          "base_uri": "https://localhost:8080/"
        },
        "id": "_6ilZ9GrshzE",
        "outputId": "7226de8f-57f9-49e6-c3ae-65f56221406d"
      },
      "outputs": [
        {
          "name": "stdout",
          "output_type": "stream",
          "text": [
            "\n",
            "After Extracting the parts\n",
            "\n",
            " (S\n",
            "  (NP This/DT tree/NN)\n",
            "  (VP (V is/VBZ))\n",
            "  (VP\n",
            "    (V illustrating/VBG)\n",
            "    (NP the/DT constituency/NN)\n",
            "    (NP relation/NN))) \n",
            "\n"
          ]
        }
      ],
      "source": [
        "# parsing using Regular expression\n",
        "\n",
        "from nltk import pos_tag, word_tokenize, RegexpParser\n",
        "\n",
        "# String to parse\n",
        "to_parse = \"This tree is illustrating the constituency relation\"\n",
        "\n",
        "# Find all parts of speech in above sentence\n",
        "tagged_parts = pos_tag(word_tokenize(to_parse))\n",
        "\n",
        "# Defining grammar on basis of which we 've to extract\n",
        "grammar = r\"\"\"NP: {<DT>?<JJ>*<NN>}\n",
        "P: {<IN>}\n",
        "V: {<V.*>}\n",
        "PP: {<p> <NP>}\n",
        "VP: {<V> <NP|PP>*}\"\"\"\n",
        "\n",
        "#Extracting all parts of speech\n",
        "parser = RegexpParser(grammar)\n",
        "\n",
        "# Print all parts of speech in above sentence\n",
        "output = parser.parse(tagged_parts)\n",
        "print(\"\\nAfter Extracting the parts\\n\\n\", output,\"\\n\")"
      ]
    },
    {
      "cell_type": "code",
      "execution_count": 16,
      "metadata": {
        "colab": {
          "base_uri": "https://localhost:8080/"
        },
        "id": "yqKv2mR9ufJI",
        "outputId": "79f2719b-edf8-498c-e94c-a7883a80cff4"
      },
      "outputs": [
        {
          "name": "stdout",
          "output_type": "stream",
          "text": [
            "Requirement already satisfied: svgling in /usr/local/lib/python3.10/dist-packages (0.3.1)\n",
            "Requirement already satisfied: svgwrite in /usr/local/lib/python3.10/dist-packages (from svgling) (1.4.3)\n"
          ]
        }
      ],
      "source": [
        "!pip install svgling"
      ]
    },
    {
      "cell_type": "code",
      "execution_count": 17,
      "metadata": {
        "colab": {
          "base_uri": "https://localhost:8080/",
          "height": 188
        },
        "id": "eLWsaAu4tG6s",
        "outputId": "a0be72fa-d1e6-4562-c71e-362e72495a54"
      },
      "outputs": [
        {
          "data": {
            "image/svg+xml": [
              "<svg baseProfile=\"full\" height=\"168px\" preserveAspectRatio=\"xMidYMid meet\" style=\"font-family: times, serif; font-weight:normal; font-style: normal; font-size: 16px;\" version=\"1.1\" viewBox=\"0,0,656.0,168.0\" width=\"656px\" xmlns=\"http://www.w3.org/2000/svg\" xmlns:ev=\"http://www.w3.org/2001/xml-events\" xmlns:xlink=\"http://www.w3.org/1999/xlink\"><defs /><svg width=\"100%\" x=\"0\" y=\"0em\"><defs /><text text-anchor=\"middle\" x=\"50%\" y=\"1em\">S</text></svg><svg width=\"21.9512%\" x=\"0%\" y=\"3em\"><defs /><svg width=\"100%\" x=\"0\" y=\"0em\"><defs /><text text-anchor=\"middle\" x=\"50%\" y=\"1em\">NP</text></svg><svg width=\"50%\" x=\"0%\" y=\"3em\"><defs /><svg width=\"100%\" x=\"0\" y=\"0em\"><defs /><text text-anchor=\"middle\" x=\"50%\" y=\"1em\">This/DT</text></svg></svg><line stroke=\"black\" x1=\"50%\" x2=\"25%\" y1=\"1.2em\" y2=\"3em\" /><svg width=\"50%\" x=\"50%\" y=\"3em\"><defs /><svg width=\"100%\" x=\"0\" y=\"0em\"><defs /><text text-anchor=\"middle\" x=\"50%\" y=\"1em\">tree/NN</text></svg></svg><line stroke=\"black\" x1=\"50%\" x2=\"75%\" y1=\"1.2em\" y2=\"3em\" /></svg><line stroke=\"black\" x1=\"50%\" x2=\"10.9756%\" y1=\"1.2em\" y2=\"3em\" /><svg width=\"9.7561%\" x=\"21.9512%\" y=\"3em\"><defs /><svg width=\"100%\" x=\"0\" y=\"0em\"><defs /><text text-anchor=\"middle\" x=\"50%\" y=\"1em\">VP</text></svg><svg width=\"100%\" x=\"0%\" y=\"3em\"><defs /><svg width=\"100%\" x=\"0\" y=\"0em\"><defs /><text text-anchor=\"middle\" x=\"50%\" y=\"1em\">V</text></svg><svg width=\"100%\" x=\"0%\" y=\"3em\"><defs /><svg width=\"100%\" x=\"0\" y=\"0em\"><defs /><text text-anchor=\"middle\" x=\"50%\" y=\"1em\">is/VBZ</text></svg></svg><line stroke=\"black\" x1=\"50%\" x2=\"50%\" y1=\"1.2em\" y2=\"3em\" /></svg><line stroke=\"black\" x1=\"50%\" x2=\"50%\" y1=\"1.2em\" y2=\"3em\" /></svg><line stroke=\"black\" x1=\"50%\" x2=\"26.8293%\" y1=\"1.2em\" y2=\"3em\" /><svg width=\"68.2927%\" x=\"31.7073%\" y=\"3em\"><defs /><svg width=\"100%\" x=\"0\" y=\"0em\"><defs /><text text-anchor=\"middle\" x=\"50%\" y=\"1em\">VP</text></svg><svg width=\"32.1429%\" x=\"0%\" y=\"3em\"><defs /><svg width=\"100%\" x=\"0\" y=\"0em\"><defs /><text text-anchor=\"middle\" x=\"50%\" y=\"1em\">V</text></svg><svg width=\"100%\" x=\"0%\" y=\"3em\"><defs /><svg width=\"100%\" x=\"0\" y=\"0em\"><defs /><text text-anchor=\"middle\" x=\"50%\" y=\"1em\">illustrating/VBG</text></svg></svg><line stroke=\"black\" x1=\"50%\" x2=\"50%\" y1=\"1.2em\" y2=\"3em\" /></svg><line stroke=\"black\" x1=\"50%\" x2=\"16.0714%\" y1=\"1.2em\" y2=\"3em\" /><svg width=\"44.6429%\" x=\"32.1429%\" y=\"3em\"><defs /><svg width=\"100%\" x=\"0\" y=\"0em\"><defs /><text text-anchor=\"middle\" x=\"50%\" y=\"1em\">NP</text></svg><svg width=\"32%\" x=\"0%\" y=\"3em\"><defs /><svg width=\"100%\" x=\"0\" y=\"0em\"><defs /><text text-anchor=\"middle\" x=\"50%\" y=\"1em\">the/DT</text></svg></svg><line stroke=\"black\" x1=\"50%\" x2=\"16%\" y1=\"1.2em\" y2=\"3em\" /><svg width=\"68%\" x=\"32%\" y=\"3em\"><defs /><svg width=\"100%\" x=\"0\" y=\"0em\"><defs /><text text-anchor=\"middle\" x=\"50%\" y=\"1em\">constituency/NN</text></svg></svg><line stroke=\"black\" x1=\"50%\" x2=\"66%\" y1=\"1.2em\" y2=\"3em\" /></svg><line stroke=\"black\" x1=\"50%\" x2=\"54.4643%\" y1=\"1.2em\" y2=\"3em\" /><svg width=\"23.2143%\" x=\"76.7857%\" y=\"3em\"><defs /><svg width=\"100%\" x=\"0\" y=\"0em\"><defs /><text text-anchor=\"middle\" x=\"50%\" y=\"1em\">NP</text></svg><svg width=\"100%\" x=\"0%\" y=\"3em\"><defs /><svg width=\"100%\" x=\"0\" y=\"0em\"><defs /><text text-anchor=\"middle\" x=\"50%\" y=\"1em\">relation/NN</text></svg></svg><line stroke=\"black\" x1=\"50%\" x2=\"50%\" y1=\"1.2em\" y2=\"3em\" /></svg><line stroke=\"black\" x1=\"50%\" x2=\"88.3929%\" y1=\"1.2em\" y2=\"3em\" /></svg><line stroke=\"black\" x1=\"50%\" x2=\"65.8537%\" y1=\"1.2em\" y2=\"3em\" /></svg>"
            ],
            "text/plain": [
              "Tree('S', [Tree('NP', ['This/DT', 'tree/NN']), Tree('VP', [Tree('V', ['is/VBZ'])]), Tree('VP', [Tree('V', ['illustrating/VBG']), Tree('NP', ['the/DT', 'constituency/NN']), Tree('NP', ['relation/NN'])])])"
            ]
          },
          "metadata": {},
          "output_type": "display_data"
        }
      ],
      "source": [
        "# tree = Tree.fromstring('(S (NP this tree) (VP (V is) (AdjP pretty)))')\n",
        "# display(tree)\n",
        "\n",
        "tree = Tree.fromstring(str(output))\n",
        "display(tree)"
      ]
    },
    {
      "cell_type": "markdown",
      "metadata": {
        "id": "pdmUa3IyvQTH"
      },
      "source": [
        "### POS Tagging and parsing"
      ]
    },
    {
      "cell_type": "code",
      "execution_count": 18,
      "metadata": {
        "colab": {
          "base_uri": "https://localhost:8080/"
        },
        "id": "OC5nbi1SrK22",
        "outputId": "77248645-522a-4127-9063-70b831cc9f78"
      },
      "outputs": [
        {
          "data": {
            "text/plain": [
              "[('A', 'DT'),\n",
              " ('very', 'RB'),\n",
              " ('beautiful', 'JJ'),\n",
              " ('young', 'JJ'),\n",
              " ('lady', 'NN'),\n",
              " ('is', 'VBZ'),\n",
              " ('walking', 'VBG'),\n",
              " ('on', 'IN'),\n",
              " ('the', 'DT'),\n",
              " ('beach', 'NN')]"
            ]
          },
          "execution_count": 18,
          "metadata": {},
          "output_type": "execute_result"
        }
      ],
      "source": [
        "#PoS tagging example :\n",
        "\n",
        "sentence = \"A very beautiful young lady is walking on the beach\"\n",
        "\n",
        "#Tokenizing words :\n",
        "tokenized_words = word_tokenize(sentence)\n",
        "\n",
        "for words in tokenized_words:\n",
        "    tagged_words = nltk.pos_tag(tokenized_words)\n",
        "\n",
        "tagged_words"
      ]
    },
    {
      "cell_type": "code",
      "execution_count": 19,
      "metadata": {
        "colab": {
          "base_uri": "https://localhost:8080/",
          "height": 279
        },
        "id": "uLBLGEBTwhpe",
        "outputId": "cc6a6f97-08b9-409e-c51b-19e430e22f45"
      },
      "outputs": [
        {
          "name": "stdout",
          "output_type": "stream",
          "text": [
            "(S\n",
            "  A/DT\n",
            "  very/RB\n",
            "  (NP beautiful/JJ young/JJ lady/NN)\n",
            "  is/VBZ\n",
            "  walking/VBG\n",
            "  on/IN\n",
            "  (NP the/DT beach/NN))\n"
          ]
        },
        {
          "data": {
            "image/svg+xml": [
              "<svg baseProfile=\"full\" height=\"120px\" preserveAspectRatio=\"xMidYMid meet\" style=\"font-family: times, serif; font-weight:normal; font-style: normal; font-size: 16px;\" version=\"1.1\" viewBox=\"0,0,752.0,120.0\" width=\"752px\" xmlns=\"http://www.w3.org/2000/svg\" xmlns:ev=\"http://www.w3.org/2001/xml-events\" xmlns:xlink=\"http://www.w3.org/1999/xlink\"><defs /><svg width=\"100%\" x=\"0\" y=\"0em\"><defs /><text text-anchor=\"middle\" x=\"50%\" y=\"1em\">S</text></svg><svg width=\"6.38298%\" x=\"0%\" y=\"3em\"><defs /><svg width=\"100%\" x=\"0\" y=\"0em\"><defs /><text text-anchor=\"middle\" x=\"50%\" y=\"1em\">A/DT</text></svg></svg><line stroke=\"black\" x1=\"50%\" x2=\"3.19149%\" y1=\"1.2em\" y2=\"3em\" /><svg width=\"9.57447%\" x=\"6.38298%\" y=\"3em\"><defs /><svg width=\"100%\" x=\"0\" y=\"0em\"><defs /><text text-anchor=\"middle\" x=\"50%\" y=\"1em\">very/RB</text></svg></svg><line stroke=\"black\" x1=\"50%\" x2=\"11.1702%\" y1=\"1.2em\" y2=\"3em\" /><svg width=\"35.1064%\" x=\"15.9574%\" y=\"3em\"><defs /><svg width=\"100%\" x=\"0\" y=\"0em\"><defs /><text text-anchor=\"middle\" x=\"50%\" y=\"1em\">NP</text></svg><svg width=\"42.4242%\" x=\"0%\" y=\"3em\"><defs /><svg width=\"100%\" x=\"0\" y=\"0em\"><defs /><text text-anchor=\"middle\" x=\"50%\" y=\"1em\">beautiful/JJ</text></svg></svg><line stroke=\"black\" x1=\"50%\" x2=\"21.2121%\" y1=\"1.2em\" y2=\"3em\" /><svg width=\"30.303%\" x=\"42.4242%\" y=\"3em\"><defs /><svg width=\"100%\" x=\"0\" y=\"0em\"><defs /><text text-anchor=\"middle\" x=\"50%\" y=\"1em\">young/JJ</text></svg></svg><line stroke=\"black\" x1=\"50%\" x2=\"57.5758%\" y1=\"1.2em\" y2=\"3em\" /><svg width=\"27.2727%\" x=\"72.7273%\" y=\"3em\"><defs /><svg width=\"100%\" x=\"0\" y=\"0em\"><defs /><text text-anchor=\"middle\" x=\"50%\" y=\"1em\">lady/NN</text></svg></svg><line stroke=\"black\" x1=\"50%\" x2=\"86.3636%\" y1=\"1.2em\" y2=\"3em\" /></svg><line stroke=\"black\" x1=\"50%\" x2=\"33.5106%\" y1=\"1.2em\" y2=\"3em\" /><svg width=\"8.51064%\" x=\"51.0638%\" y=\"3em\"><defs /><svg width=\"100%\" x=\"0\" y=\"0em\"><defs /><text text-anchor=\"middle\" x=\"50%\" y=\"1em\">is/VBZ</text></svg></svg><line stroke=\"black\" x1=\"50%\" x2=\"55.3191%\" y1=\"1.2em\" y2=\"3em\" /><svg width=\"13.8298%\" x=\"59.5745%\" y=\"3em\"><defs /><svg width=\"100%\" x=\"0\" y=\"0em\"><defs /><text text-anchor=\"middle\" x=\"50%\" y=\"1em\">walking/VBG</text></svg></svg><line stroke=\"black\" x1=\"50%\" x2=\"66.4894%\" y1=\"1.2em\" y2=\"3em\" /><svg width=\"7.44681%\" x=\"73.4043%\" y=\"3em\"><defs /><svg width=\"100%\" x=\"0\" y=\"0em\"><defs /><text text-anchor=\"middle\" x=\"50%\" y=\"1em\">on/IN</text></svg></svg><line stroke=\"black\" x1=\"50%\" x2=\"77.1277%\" y1=\"1.2em\" y2=\"3em\" /><svg width=\"19.1489%\" x=\"80.8511%\" y=\"3em\"><defs /><svg width=\"100%\" x=\"0\" y=\"0em\"><defs /><text text-anchor=\"middle\" x=\"50%\" y=\"1em\">NP</text></svg><svg width=\"44.4444%\" x=\"0%\" y=\"3em\"><defs /><svg width=\"100%\" x=\"0\" y=\"0em\"><defs /><text text-anchor=\"middle\" x=\"50%\" y=\"1em\">the/DT</text></svg></svg><line stroke=\"black\" x1=\"50%\" x2=\"22.2222%\" y1=\"1.2em\" y2=\"3em\" /><svg width=\"55.5556%\" x=\"44.4444%\" y=\"3em\"><defs /><svg width=\"100%\" x=\"0\" y=\"0em\"><defs /><text text-anchor=\"middle\" x=\"50%\" y=\"1em\">beach/NN</text></svg></svg><line stroke=\"black\" x1=\"50%\" x2=\"72.2222%\" y1=\"1.2em\" y2=\"3em\" /></svg><line stroke=\"black\" x1=\"50%\" x2=\"90.4255%\" y1=\"1.2em\" y2=\"3em\" /></svg>"
            ],
            "text/plain": [
              "Tree('S', ['A/DT', 'very/RB', Tree('NP', ['beautiful/JJ', 'young/JJ', 'lady/NN']), 'is/VBZ', 'walking/VBG', 'on/IN', Tree('NP', ['the/DT', 'beach/NN'])])"
            ]
          },
          "metadata": {},
          "output_type": "display_data"
        }
      ],
      "source": [
        "#Extracting Noun Phrase from text :\n",
        "\n",
        "# ? - optional character\n",
        "# * - 0 or more repetations\n",
        "grammar = \"NP : {<DT>?<JJ>*<NN>} \"\n",
        "\n",
        "#Creating a parser :\n",
        "parser = nltk.RegexpParser(grammar)\n",
        "\n",
        "#Parsing text :\n",
        "output = parser.parse(tagged_words)\n",
        "print (output)\n",
        "display(Tree.fromstring(str(output)))"
      ]
    }
  ],
  "metadata": {
    "colab": {
      "provenance": []
    },
    "kernelspec": {
      "display_name": "Python 3",
      "language": "python",
      "name": "python3"
    },
    "language_info": {
      "codemirror_mode": {
        "name": "ipython",
        "version": 3
      },
      "file_extension": ".py",
      "mimetype": "text/x-python",
      "name": "python",
      "nbconvert_exporter": "python",
      "pygments_lexer": "ipython3",
      "version": "3.10.12"
    }
  },
  "nbformat": 4,
  "nbformat_minor": 0
}
