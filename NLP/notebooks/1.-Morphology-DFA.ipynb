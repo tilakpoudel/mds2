{
 "cells": [
  {
   "cell_type": "markdown",
   "metadata": {
    "id": "oJi_bKrnJIE2"
   },
   "source": [
    "# Finite state automata\n",
    "\n",
    "**Question**\n",
    "- Write DFA to check if given word has `ing` at the end\n"
   ]
  },
  {
   "cell_type": "code",
   "execution_count": 2,
   "metadata": {
    "id": "idcXK9k9Gyav"
   },
   "outputs": [],
   "source": [
    "def q3(s, i):\n",
    "    print('q3 -> ', end='')\n",
    "    # Condition to check end of string\n",
    "    if (i == len(s)):\n",
    "        print(\"YES\")\n",
    "        return\n",
    "    # State transitions  # ANY char -> take to q0\n",
    "    q0(s, i )\n",
    "\n",
    "def q2(s, i):\n",
    "    print('q2 -> ', end='')\n",
    "    # Condition to check end of string\n",
    "    if (i == len(s)):\n",
    "        print(\"No\")\n",
    "        return\n",
    "    # State transitions: # IF current char is 'i' -> takes to q1 ELSE REMAIN in same state\n",
    "    if (s[i] == 'g'):\n",
    "        q3(s, i + 1)\n",
    "    else:\n",
    "        q0(s, i + 1)\n",
    "\n",
    "\n",
    "def q1(s, i):\n",
    "    print('q1 -> ', end='')\n",
    "    # Condition to check end of string\n",
    "    if (i == len(s)):\n",
    "        print(\"No\")\n",
    "        return\n",
    "    # State transitions: # IF current char is 'n' -> takes to q2 ELSE move to state q0\n",
    "    # if (s[i] == 'n'):\n",
    "    if (s[i] == 'n'):\n",
    "        q2(s, i + 1)\n",
    "    elif (s[i] == 'i'):\n",
    "        q1(s, i + 1)\n",
    "    else:\n",
    "        q0(s, i + 1)\n",
    "\n",
    "\n",
    "def q0(s, i):\n",
    "    print('q0 -> ', end='')\n",
    "    # Condition to check end of string\n",
    "    if (i == len(s)):\n",
    "        print(\"No\")\n",
    "        return\n",
    "    # State transitions : # IF current char is 'i' -> takes to q1 ELSE REMAIN in same state\n",
    "    if (s[i] == 'i'):\n",
    "        q1(s, i + 1)\n",
    "    else:\n",
    "        q0(s, i + 1)\n"
   ]
  },
  {
   "cell_type": "code",
   "execution_count": 3,
   "metadata": {
    "id": "lrQEERkYGyaw",
    "outputId": "455cfc10-7b4d-486c-dbd5-2feb8e12925e"
   },
   "outputs": [
    {
     "name": "stdout",
     "output_type": "stream",
     "text": [
      "q0 -> q0 -> q0 -> q0 -> q1 -> q2 -> q3 -> q0 -> q1 -> q2 -> q3 -> YES\n"
     ]
    }
   ],
   "source": [
    "input = \"runinging\"\n",
    "q0(input, 0)"
   ]
  },
  {
   "cell_type": "markdown",
   "metadata": {
    "id": "YSjnQiQfJp9g"
   },
   "source": [
    "# Using Library\n",
    "\n",
    "1. OpenFst - C++ library: Very useful if you are planning for the linguistic\n",
    "analysis of the text - [Learn More](https://www.openfst.org/twiki/bin/view/FST/FstExamples)\n",
    "\n",
    "2. pynini  - Python library\n"
   ]
  },
  {
   "cell_type": "code",
   "execution_count": 6,
   "metadata": {
    "colab": {
     "base_uri": "https://localhost:8080/"
    },
    "executionInfo": {
     "elapsed": 18928,
     "status": "ok",
     "timestamp": 1753976832682,
     "user": {
      "displayName": "Rupak Ghimire",
      "userId": "14487243991408801434"
     },
     "user_tz": -345
    },
    "id": "GOt3Wz9qKgnK",
    "outputId": "bbdf387b-3139-494f-9d56-675024c19625"
   },
   "outputs": [
    {
     "name": "stdout",
     "output_type": "stream",
     "text": [
      "Defaulting to user installation because normal site-packages is not writeable\n",
      "Collecting pynini\n",
      "  Downloading pynini-2.1.6.post1-cp310-cp310-manylinux_2_28_x86_64.whl (154.5 MB)\n",
      "\u001b[2K     \u001b[90m━━━━━━━━━━━━━━━━━━━━━━━━━━━━━━━━━━━━━━━\u001b[0m \u001b[32m154.5/154.5 MB\u001b[0m \u001b[31m1.1 MB/s\u001b[0m eta \u001b[36m0:00:00\u001b[0m00:01\u001b[0m00:03\u001b[0m\n",
      "\u001b[?25hInstalling collected packages: pynini\n",
      "Successfully installed pynini-2.1.6.post1\n"
     ]
    }
   ],
   "source": [
    "!pip install pynini"
   ]
  },
  {
   "cell_type": "code",
   "execution_count": 7,
   "metadata": {
    "id": "fQc2MyvtKscp"
   },
   "outputs": [],
   "source": [
    "import pynini\n"
   ]
  },
  {
   "cell_type": "markdown",
   "metadata": {
    "id": "lbNOQ-KvK2pT"
   },
   "source": [
    "## Recognize plural nouns in English\n",
    "\n",
    "Let's say we want to recognize plural nouns in English (`cat -> cats, dog -> dogs`)."
   ]
  },
  {
   "cell_type": "code",
   "execution_count": 8,
   "metadata": {
    "id": "nu_HS652LAyP"
   },
   "outputs": [],
   "source": [
    "alphabets = pynini.union(*\"abcdefghijklmnopqrstuvwxyz\").closure().optimize()\n",
    "# alphabets"
   ]
  },
  {
   "cell_type": "markdown",
   "metadata": {
    "id": "XpRI8EqDMItK"
   },
   "source": [
    "### Rule: plural nouns ending in 's'"
   ]
  },
  {
   "cell_type": "code",
   "execution_count": 9,
   "metadata": {
    "id": "lyghTTf-Lb3F"
   },
   "outputs": [],
   "source": [
    "plural_s = alphabets + pynini.cross(\"\", \"s\")"
   ]
  },
  {
   "cell_type": "code",
   "execution_count": 10,
   "metadata": {
    "id": "yc8-PZhyLes-"
   },
   "outputs": [],
   "source": [
    "# Example words\n",
    "cat = pynini.accep(\"cat\")\n",
    "dog = pynini.accep(\"dog\")"
   ]
  },
  {
   "cell_type": "code",
   "execution_count": 11,
   "metadata": {
    "colab": {
     "base_uri": "https://localhost:8080/"
    },
    "executionInfo": {
     "elapsed": 7,
     "status": "ok",
     "timestamp": 1753977260729,
     "user": {
      "displayName": "Rupak Ghimire",
      "userId": "14487243991408801434"
     },
     "user_tz": -345
    },
    "id": "4iPa11OZLhrO",
    "outputId": "c604d394-7471-47cb-a684-c1dfa7c1f138"
   },
   "outputs": [
    {
     "name": "stdout",
     "output_type": "stream",
     "text": [
      "cats\n",
      "dogs\n"
     ]
    }
   ],
   "source": [
    "# Compose with plural rule\n",
    "print((cat @ plural_s).string())  # cats\n",
    "print((dog @ plural_s).string())  # dogs"
   ]
  },
  {
   "cell_type": "markdown",
   "metadata": {
    "id": "mF4RvXB9MGaR"
   },
   "source": [
    "### Rule: plural nouns ending in 'es'\n",
    "\n",
    "To form the plural of most nouns in English, you add -s or -es to the end of the word. The choice between -s and -es depends on the ending of the singular noun.\n",
    "- For example, if a word ends in `'s', 'ch', 'sh', 'ss', 'x', or 'z'`, you add -es to make it plural.\n",
    "- This rule applies to words like \"church\" (churches), \"box\" (boxes), and \"bus\" (buses).\n",
    "\n",
    "Additionally, words ending in `y` can be a bit more complex. If the `'y'` is preceded by a consonant, you typically change the `'y'` to `'i'` and add `-es`, as in \"baby\" (babies).\n",
    "-\n",
    "\n",
    "```\n",
    "# This is formatted as code\n",
    "```\n",
    "\n",
    "However, if the 'y' is preceded by a vowel, you simply add -s, as in \"boy\" (boys)."
   ]
  },
  {
   "cell_type": "code",
   "execution_count": null,
   "metadata": {
    "id": "L-vpC2gxLyNB"
   },
   "outputs": [],
   "source": [
    "plural_es = alphabets + pynini.cross(\"\", \"es\")\n",
    "# plural_es"
   ]
  },
  {
   "cell_type": "code",
   "execution_count": null,
   "metadata": {
    "colab": {
     "base_uri": "https://localhost:8080/",
     "height": 91
    },
    "executionInfo": {
     "elapsed": 91,
     "status": "ok",
     "timestamp": 1753977873290,
     "user": {
      "displayName": "Rupak Ghimire",
      "userId": "14487243991408801434"
     },
     "user_tz": -345
    },
    "id": "hfg36H1SNGDr",
    "outputId": "8739a656-e3b8-4ba6-d3c5-e11ad4df03f9"
   },
   "outputs": [
    {
     "data": {
      "image/svg+xml": [
       "<?xml version=\"1.0\" encoding=\"UTF-8\"?>\n",
       "<svg xmlns=\"http://www.w3.org/2000/svg\" xmlns:xlink=\"http://www.w3.org/1999/xlink\" width=\"480pt\" height=\"52pt\" viewBox=\"0 0 480 52\" version=\"1.1\">\n",
       "<defs>\n",
       "<g>\n",
       "<symbol overflow=\"visible\" id=\"glyph0-0\">\n",
       "<path style=\"stroke:none;\" d=\"M 0.46875 0 L 0.46875 -10 L 4.1875 -10 L 4.1875 0 Z M 0.9375 -1 L 3.71875 -1 L 3.71875 -9 L 0.9375 -9 Z M 0.9375 -1 \"/>\n",
       "</symbol>\n",
       "<symbol overflow=\"visible\" id=\"glyph0-1\">\n",
       "<path style=\"stroke:none;\" d=\"M 6.46875 -5.03125 C 6.46875 -4.226562 6.40625 -3.507812 6.28125 -2.875 C 6.164062 -2.25 5.984375 -1.722656 5.734375 -1.296875 C 5.492188 -0.867188 5.179688 -0.546875 4.796875 -0.328125 C 4.421875 -0.109375 3.972656 0 3.453125 0 C 2.492188 0 1.765625 -0.425781 1.265625 -1.28125 C 0.773438 -2.144531 0.53125 -3.394531 0.53125 -5.03125 C 0.53125 -6.644531 0.773438 -7.875 1.265625 -8.71875 C 1.765625 -9.570312 2.515625 -10 3.515625 -10 C 4.484375 -10 5.21875 -9.578125 5.71875 -8.734375 C 6.21875 -7.890625 6.46875 -6.65625 6.46875 -5.03125 Z M 5.203125 -5.03125 C 5.203125 -5.664062 5.171875 -6.226562 5.109375 -6.71875 C 5.054688 -7.207031 4.960938 -7.617188 4.828125 -7.953125 C 4.691406 -8.296875 4.507812 -8.554688 4.28125 -8.734375 C 4.0625 -8.910156 3.785156 -9 3.453125 -9 C 3.117188 -9 2.84375 -8.910156 2.625 -8.734375 C 2.414062 -8.554688 2.25 -8.296875 2.125 -7.953125 C 2 -7.617188 1.910156 -7.207031 1.859375 -6.71875 C 1.816406 -6.226562 1.796875 -5.664062 1.796875 -5.03125 C 1.796875 -4.40625 1.816406 -3.84375 1.859375 -3.34375 C 1.910156 -2.84375 2 -2.421875 2.125 -2.078125 C 2.25 -1.734375 2.414062 -1.46875 2.625 -1.28125 C 2.84375 -1.09375 3.117188 -1 3.453125 -1 C 3.785156 -1 4.0625 -1.09375 4.28125 -1.28125 C 4.507812 -1.46875 4.691406 -1.734375 4.828125 -2.078125 C 4.960938 -2.421875 5.054688 -2.84375 5.109375 -3.34375 C 5.171875 -3.84375 5.203125 -4.40625 5.203125 -5.03125 Z M 5.203125 -5.03125 \"/>\n",
       "</symbol>\n",
       "<symbol overflow=\"visible\" id=\"glyph0-2\">\n",
       "<path style=\"stroke:none;\" d=\"M 4.28125 -1 L 6.15625 -0.65625 L 6.15625 0 L 1.234375 0 L 1.234375 -0.65625 L 3.109375 -1 L 3.109375 -8.671875 L 1.265625 -8 L 1.265625 -8.390625 L 3.921875 -10 L 4.28125 -10 Z M 4.28125 -1 \"/>\n",
       "</symbol>\n",
       "<symbol overflow=\"visible\" id=\"glyph0-3\">\n",
       "<path style=\"stroke:none;\" d=\"M 0.453125 -6.90625 C 0.453125 -7.40625 0.519531 -7.847656 0.65625 -8.234375 C 0.789062 -8.628906 0.984375 -8.953125 1.234375 -9.203125 C 1.492188 -9.460938 1.804688 -9.660156 2.171875 -9.796875 C 2.535156 -9.929688 2.945312 -10 3.40625 -10 C 3.925781 -10 4.375 -9.898438 4.75 -9.703125 C 5.125 -9.515625 5.4375 -9.21875 5.6875 -8.8125 C 5.9375 -8.40625 6.117188 -7.890625 6.234375 -7.265625 C 6.359375 -6.640625 6.421875 -5.898438 6.421875 -5.046875 C 6.421875 -4.421875 6.375 -3.859375 6.28125 -3.359375 C 6.195312 -2.867188 6.070312 -2.4375 5.90625 -2.0625 C 5.75 -1.695312 5.5625 -1.378906 5.34375 -1.109375 C 5.125 -0.847656 4.878906 -0.632812 4.609375 -0.46875 C 4.347656 -0.300781 4.066406 -0.179688 3.765625 -0.109375 C 3.472656 -0.0351562 3.171875 0 2.859375 0 C 2.453125 0 2.085938 -0.0195312 1.765625 -0.0625 C 1.441406 -0.101562 1.125 -0.164062 0.8125 -0.25 L 0.8125 -2 L 1.25 -2 L 1.5 -1.21875 C 1.582031 -1.175781 1.675781 -1.144531 1.78125 -1.125 C 1.894531 -1.101562 2.007812 -1.082031 2.125 -1.0625 C 2.238281 -1.039062 2.351562 -1.023438 2.46875 -1.015625 C 2.59375 -1.003906 2.710938 -1 2.828125 -1 C 3.148438 -1 3.445312 -1.054688 3.71875 -1.171875 C 3.988281 -1.296875 4.226562 -1.488281 4.4375 -1.75 C 4.644531 -2.019531 4.8125 -2.367188 4.9375 -2.796875 C 5.0625 -3.222656 5.132812 -3.742188 5.15625 -4.359375 C 4.851562 -4.253906 4.523438 -4.164062 4.171875 -4.09375 C 3.828125 -4.03125 3.453125 -4 3.046875 -4 C 2.660156 -4 2.304688 -4.0625 1.984375 -4.1875 C 1.671875 -4.3125 1.398438 -4.492188 1.171875 -4.734375 C 0.941406 -4.984375 0.765625 -5.289062 0.640625 -5.65625 C 0.515625 -6.019531 0.453125 -6.4375 0.453125 -6.90625 Z M 3.421875 -9 C 2.828125 -9 2.390625 -8.8125 2.109375 -8.4375 C 1.835938 -8.070312 1.703125 -7.539062 1.703125 -6.84375 C 1.703125 -6.507812 1.738281 -6.222656 1.8125 -5.984375 C 1.882812 -5.753906 1.992188 -5.566406 2.140625 -5.421875 C 2.285156 -5.273438 2.460938 -5.164062 2.671875 -5.09375 C 2.878906 -5.03125 3.117188 -5 3.390625 -5 C 3.691406 -5 3.992188 -5.03125 4.296875 -5.09375 C 4.597656 -5.15625 4.890625 -5.242188 5.171875 -5.359375 C 5.171875 -5.960938 5.140625 -6.488281 5.078125 -6.9375 C 5.015625 -7.394531 4.910156 -7.773438 4.765625 -8.078125 C 4.628906 -8.390625 4.445312 -8.617188 4.21875 -8.765625 C 4 -8.921875 3.734375 -9 3.421875 -9 Z M 3.421875 -9 \"/>\n",
       "</symbol>\n",
       "<symbol overflow=\"visible\" id=\"glyph0-4\">\n",
       "<path style=\"stroke:none;\" d=\"M 6.1875 -7.609375 C 6.1875 -7.097656 6.0625 -6.664062 5.8125 -6.3125 C 5.570312 -5.96875 5.242188 -5.703125 4.828125 -5.515625 C 5.078125 -5.410156 5.300781 -5.273438 5.5 -5.109375 C 5.695312 -4.953125 5.867188 -4.765625 6.015625 -4.546875 C 6.160156 -4.328125 6.269531 -4.078125 6.34375 -3.796875 C 6.425781 -3.523438 6.46875 -3.21875 6.46875 -2.875 C 6.46875 -1.925781 6.222656 -1.207031 5.734375 -0.71875 C 5.242188 -0.238281 4.484375 0 3.453125 0 C 2.484375 0 1.753906 -0.234375 1.265625 -0.703125 C 0.773438 -1.179688 0.53125 -1.90625 0.53125 -2.875 C 0.53125 -3.550781 0.675781 -4.109375 0.96875 -4.546875 C 1.257812 -4.984375 1.65625 -5.304688 2.15625 -5.515625 C 1.757812 -5.703125 1.4375 -5.96875 1.1875 -6.3125 C 0.9375 -6.664062 0.8125 -7.097656 0.8125 -7.609375 C 0.8125 -7.960938 0.863281 -8.285156 0.96875 -8.578125 C 1.082031 -8.878906 1.25 -9.132812 1.46875 -9.34375 C 1.695312 -9.550781 1.976562 -9.710938 2.3125 -9.828125 C 2.65625 -9.941406 3.054688 -10 3.515625 -10 C 3.953125 -10 4.335938 -9.941406 4.671875 -9.828125 C 5.003906 -9.722656 5.28125 -9.566406 5.5 -9.359375 C 5.726562 -9.148438 5.898438 -8.894531 6.015625 -8.59375 C 6.128906 -8.300781 6.1875 -7.972656 6.1875 -7.609375 Z M 5.234375 -3 C 5.234375 -3.320312 5.203125 -3.601562 5.140625 -3.84375 C 5.085938 -4.09375 4.988281 -4.300781 4.84375 -4.46875 C 4.707031 -4.644531 4.523438 -4.773438 4.296875 -4.859375 C 4.066406 -4.953125 3.785156 -5 3.453125 -5 C 3.117188 -5 2.84375 -4.953125 2.625 -4.859375 C 2.40625 -4.773438 2.234375 -4.644531 2.109375 -4.46875 C 1.984375 -4.300781 1.894531 -4.09375 1.84375 -3.84375 C 1.789062 -3.601562 1.765625 -3.320312 1.765625 -3 C 1.765625 -2.675781 1.789062 -2.390625 1.84375 -2.140625 C 1.894531 -1.890625 1.984375 -1.679688 2.109375 -1.515625 C 2.234375 -1.347656 2.40625 -1.21875 2.625 -1.125 C 2.84375 -1.039062 3.117188 -1 3.453125 -1 C 3.785156 -1 4.066406 -1.039062 4.296875 -1.125 C 4.523438 -1.21875 4.707031 -1.347656 4.84375 -1.515625 C 4.988281 -1.679688 5.085938 -1.890625 5.140625 -2.140625 C 5.203125 -2.390625 5.234375 -2.675781 5.234375 -3 Z M 4.953125 -7.484375 C 4.953125 -7.703125 4.925781 -7.90625 4.875 -8.09375 C 4.832031 -8.28125 4.753906 -8.4375 4.640625 -8.5625 C 4.523438 -8.695312 4.367188 -8.800781 4.171875 -8.875 C 3.984375 -8.957031 3.75 -9 3.46875 -9 C 3.1875 -9 2.953125 -8.957031 2.765625 -8.875 C 2.585938 -8.800781 2.441406 -8.695312 2.328125 -8.5625 C 2.222656 -8.4375 2.148438 -8.28125 2.109375 -8.09375 C 2.066406 -7.90625 2.046875 -7.703125 2.046875 -7.484375 C 2.046875 -7.253906 2.066406 -7.046875 2.109375 -6.859375 C 2.148438 -6.679688 2.222656 -6.523438 2.328125 -6.390625 C 2.441406 -6.265625 2.585938 -6.164062 2.765625 -6.09375 C 2.953125 -6.03125 3.1875 -6 3.46875 -6 C 3.75 -6 3.984375 -6.03125 4.171875 -6.09375 C 4.367188 -6.164062 4.523438 -6.265625 4.640625 -6.390625 C 4.753906 -6.523438 4.832031 -6.679688 4.875 -6.859375 C 4.925781 -7.046875 4.953125 -7.253906 4.953125 -7.484375 Z M 4.953125 -7.484375 \"/>\n",
       "</symbol>\n",
       "<symbol overflow=\"visible\" id=\"glyph0-5\">\n",
       "<path style=\"stroke:none;\" d=\"M 6.234375 0 L 0.609375 0 L 0.609375 -0.953125 C 1.066406 -1.421875 1.488281 -1.835938 1.875 -2.203125 C 2.269531 -2.578125 2.617188 -2.925781 2.921875 -3.25 C 3.234375 -3.570312 3.503906 -3.878906 3.734375 -4.171875 C 3.960938 -4.460938 4.15625 -4.769531 4.3125 -5.09375 C 4.46875 -5.414062 4.582031 -5.757812 4.65625 -6.125 C 4.726562 -6.5 4.765625 -6.914062 4.765625 -7.375 C 4.765625 -7.90625 4.628906 -8.304688 4.359375 -8.578125 C 4.085938 -8.859375 3.644531 -9 3.03125 -9 C 2.894531 -9 2.757812 -8.988281 2.625 -8.96875 C 2.488281 -8.957031 2.359375 -8.941406 2.234375 -8.921875 C 2.117188 -8.898438 2.003906 -8.875 1.890625 -8.84375 C 1.785156 -8.8125 1.691406 -8.78125 1.609375 -8.75 L 1.375 -8 L 0.921875 -8 L 0.921875 -9.71875 C 1.265625 -9.789062 1.601562 -9.851562 1.9375 -9.90625 C 2.28125 -9.96875 2.644531 -10 3.03125 -10 C 4.03125 -10 4.78125 -9.769531 5.28125 -9.3125 C 5.789062 -8.851562 6.046875 -8.207031 6.046875 -7.375 C 6.046875 -6.96875 5.992188 -6.585938 5.890625 -6.234375 C 5.796875 -5.890625 5.65625 -5.554688 5.46875 -5.234375 C 5.289062 -4.910156 5.070312 -4.59375 4.8125 -4.28125 C 4.550781 -3.96875 4.25 -3.644531 3.90625 -3.3125 C 3.570312 -2.976562 3.203125 -2.625 2.796875 -2.25 C 2.398438 -1.875 1.972656 -1.457031 1.515625 -1 L 6.234375 -1 Z M 6.234375 0 \"/>\n",
       "</symbol>\n",
       "<symbol overflow=\"visible\" id=\"glyph0-6\">\n",
       "<path style=\"stroke:none;\" d=\"M 6.453125 -2.953125 C 6.453125 -2.484375 6.378906 -2.066406 6.234375 -1.703125 C 6.085938 -1.335938 5.875 -1.023438 5.59375 -0.765625 C 5.320312 -0.515625 4.984375 -0.320312 4.578125 -0.1875 C 4.179688 -0.0625 3.722656 0 3.203125 0 C 2.753906 0 2.316406 -0.0195312 1.890625 -0.0625 C 1.472656 -0.113281 1.09375 -0.179688 0.75 -0.265625 L 0.671875 -2 L 1.125 -2 L 1.4375 -1.21875 C 1.519531 -1.195312 1.625 -1.171875 1.75 -1.140625 C 1.882812 -1.109375 2.023438 -1.082031 2.171875 -1.0625 C 2.328125 -1.039062 2.484375 -1.023438 2.640625 -1.015625 C 2.804688 -1.003906 2.960938 -1 3.109375 -1 C 3.523438 -1 3.867188 -1.050781 4.140625 -1.15625 C 4.410156 -1.257812 4.625 -1.398438 4.78125 -1.578125 C 4.945312 -1.765625 5.054688 -1.988281 5.109375 -2.25 C 5.171875 -2.507812 5.203125 -2.789062 5.203125 -3.09375 C 5.203125 -3.445312 5.148438 -3.738281 5.046875 -3.96875 C 4.953125 -4.195312 4.816406 -4.378906 4.640625 -4.515625 C 4.460938 -4.660156 4.253906 -4.765625 4.015625 -4.828125 C 3.785156 -4.890625 3.535156 -4.929688 3.265625 -4.953125 L 2.28125 -5 L 2.28125 -6 L 3.25 -6.046875 C 3.769531 -6.066406 4.148438 -6.195312 4.390625 -6.4375 C 4.640625 -6.6875 4.765625 -7.054688 4.765625 -7.546875 C 4.765625 -7.785156 4.734375 -7.992188 4.671875 -8.171875 C 4.609375 -8.359375 4.507812 -8.507812 4.375 -8.625 C 4.25 -8.75 4.078125 -8.84375 3.859375 -8.90625 C 3.648438 -8.96875 3.394531 -9 3.09375 -9 C 2.957031 -9 2.816406 -8.988281 2.671875 -8.96875 C 2.535156 -8.957031 2.40625 -8.941406 2.28125 -8.921875 C 2.15625 -8.898438 2.035156 -8.875 1.921875 -8.84375 C 1.816406 -8.8125 1.722656 -8.78125 1.640625 -8.75 L 1.40625 -8 L 0.953125 -8 L 0.953125 -9.71875 C 1.109375 -9.757812 1.265625 -9.796875 1.421875 -9.828125 C 1.585938 -9.859375 1.753906 -9.882812 1.921875 -9.90625 C 2.097656 -9.9375 2.28125 -9.957031 2.46875 -9.96875 C 2.664062 -9.988281 2.875 -10 3.09375 -10 C 4.050781 -10 4.78125 -9.8125 5.28125 -9.4375 C 5.78125 -9.070312 6.03125 -8.507812 6.03125 -7.75 C 6.03125 -7.457031 5.988281 -7.1875 5.90625 -6.9375 C 5.832031 -6.6875 5.710938 -6.46875 5.546875 -6.28125 C 5.390625 -6.09375 5.179688 -5.929688 4.921875 -5.796875 C 4.671875 -5.671875 4.375 -5.582031 4.03125 -5.53125 C 4.863281 -5.425781 5.472656 -5.160156 5.859375 -4.734375 C 6.253906 -4.304688 6.453125 -3.710938 6.453125 -2.953125 Z M 6.453125 -2.953125 \"/>\n",
       "</symbol>\n",
       "<symbol overflow=\"visible\" id=\"glyph0-7\">\n",
       "<path style=\"stroke:none;\" d=\"M 5.53125 -2 L 5.53125 0 L 4.359375 0 L 4.359375 -2 L 0.28125 -2 L 0.28125 -2.921875 L 4.75 -10 L 5.53125 -10 L 5.53125 -3 L 6.78125 -3 L 6.78125 -2 Z M 4.359375 -8.390625 L 4.328125 -8.390625 L 1.046875 -3 L 4.359375 -3 Z M 4.359375 -8.390625 \"/>\n",
       "</symbol>\n",
       "<symbol overflow=\"visible\" id=\"glyph0-8\">\n",
       "<path style=\"stroke:none;\" d=\"M 3.3125 -6 C 3.820312 -6 4.269531 -5.941406 4.65625 -5.828125 C 5.050781 -5.722656 5.378906 -5.550781 5.640625 -5.3125 C 5.910156 -5.082031 6.113281 -4.785156 6.25 -4.421875 C 6.382812 -4.054688 6.453125 -3.625 6.453125 -3.125 C 6.453125 -2.65625 6.382812 -2.226562 6.25 -1.84375 C 6.125 -1.457031 5.925781 -1.128906 5.65625 -0.859375 C 5.382812 -0.585938 5.046875 -0.375 4.640625 -0.21875 C 4.234375 -0.0703125 3.753906 0 3.203125 0 C 2.773438 0 2.367188 -0.0195312 1.984375 -0.0625 C 1.597656 -0.101562 1.234375 -0.171875 0.890625 -0.265625 L 0.8125 -2 L 1.265625 -2 L 1.578125 -1.21875 C 1.660156 -1.195312 1.757812 -1.171875 1.875 -1.140625 C 1.988281 -1.109375 2.113281 -1.082031 2.25 -1.0625 C 2.382812 -1.039062 2.523438 -1.023438 2.671875 -1.015625 C 2.816406 -1.003906 2.957031 -1 3.09375 -1 C 3.519531 -1 3.867188 -1.046875 4.140625 -1.140625 C 4.410156 -1.242188 4.625 -1.382812 4.78125 -1.5625 C 4.945312 -1.738281 5.054688 -1.953125 5.109375 -2.203125 C 5.171875 -2.460938 5.203125 -2.742188 5.203125 -3.046875 C 5.203125 -3.367188 5.171875 -3.648438 5.109375 -3.890625 C 5.046875 -4.140625 4.929688 -4.34375 4.765625 -4.5 C 4.609375 -4.664062 4.382812 -4.789062 4.09375 -4.875 C 3.8125 -4.957031 3.445312 -5 3 -5 C 2.726562 -5 2.488281 -4.976562 2.28125 -4.9375 C 2.082031 -4.90625 1.914062 -4.875 1.78125 -4.84375 L 1.125 -4.84375 L 1.125 -10 L 5.765625 -10 L 5.765625 -9 L 1.734375 -9 L 1.734375 -5.84375 C 1.816406 -5.851562 1.910156 -5.867188 2.015625 -5.890625 C 2.117188 -5.910156 2.234375 -5.925781 2.359375 -5.9375 C 2.484375 -5.957031 2.625 -5.972656 2.78125 -5.984375 C 2.9375 -5.992188 3.113281 -6 3.3125 -6 Z M 3.3125 -6 \"/>\n",
       "</symbol>\n",
       "</g>\n",
       "</defs>\n",
       "<g id=\"surface1\">\n",
       "<path style=\"fill:none;stroke-width:2;stroke-linecap:butt;stroke-linejoin:miter;stroke:rgb(0%,0%,0%);stroke-opacity:1;stroke-miterlimit:10;\" d=\"M 36 -22 C 36 -12.058594 27.941406 -4 18 -4 C 8.058594 -4 0 -12.058594 0 -22 C 0 -31.941406 8.058594 -40 18 -40 C 27.941406 -40 36 -31.941406 36 -22 \" transform=\"matrix(1,0,0,1,4,48)\"/>\n",
       "<g style=\"fill:rgb(0%,0%,0%);fill-opacity:1;\">\n",
       "  <use xlink:href=\"#glyph0-1\" x=\"18.5\" y=\"29.699219\"/>\n",
       "</g>\n",
       "<path style=\"fill:none;stroke-width:1;stroke-linecap:butt;stroke-linejoin:miter;stroke:rgb(0%,0%,0%);stroke-opacity:1;stroke-miterlimit:10;\" d=\"M 116 -22 C 116 -12.058594 107.941406 -4 98 -4 C 88.058594 -4 80 -12.058594 80 -22 C 80 -31.941406 88.058594 -40 98 -40 C 107.941406 -40 116 -31.941406 116 -22 \" transform=\"matrix(1,0,0,1,4,48)\"/>\n",
       "<g style=\"fill:rgb(0%,0%,0%);fill-opacity:1;\">\n",
       "  <use xlink:href=\"#glyph0-2\" x=\"98.5\" y=\"29.699219\"/>\n",
       "</g>\n",
       "<path style=\"fill:none;stroke-width:1;stroke-linecap:butt;stroke-linejoin:miter;stroke:rgb(0%,0%,0%);stroke-opacity:1;stroke-miterlimit:10;\" d=\"M 36.3125 -22 C 46.105469 -22 58.578125 -22 69.664062 -22 \" transform=\"matrix(1,0,0,1,4,48)\"/>\n",
       "<path style=\"fill-rule:nonzero;fill:rgb(0%,0%,0%);fill-opacity:1;stroke-width:1;stroke-linecap:butt;stroke-linejoin:miter;stroke:rgb(0%,0%,0%);stroke-opacity:1;stroke-miterlimit:10;\" d=\"M 69.738281 -25.5 L 79.738281 -22 L 69.738281 -18.5 Z M 69.738281 -25.5 \" transform=\"matrix(1,0,0,1,4,48)\"/>\n",
       "<g style=\"fill:rgb(0%,0%,0%);fill-opacity:1;\">\n",
       "  <use xlink:href=\"#glyph0-3\" x=\"55\" y=\"22.199219\"/>\n",
       "  <use xlink:href=\"#glyph0-4\" x=\"61.75\" y=\"22.199219\"/>\n",
       "</g>\n",
       "<path style=\"fill:none;stroke-width:1;stroke-linecap:butt;stroke-linejoin:miter;stroke:rgb(0%,0%,0%);stroke-opacity:1;stroke-miterlimit:10;\" d=\"M 203 -22 C 203 -12.058594 194.941406 -4 185 -4 C 175.058594 -4 167 -12.058594 167 -22 C 167 -31.941406 175.058594 -40 185 -40 C 194.941406 -40 203 -31.941406 203 -22 \" transform=\"matrix(1,0,0,1,4,48)\"/>\n",
       "<g style=\"fill:rgb(0%,0%,0%);fill-opacity:1;\">\n",
       "  <use xlink:href=\"#glyph0-5\" x=\"185.5\" y=\"29.699219\"/>\n",
       "</g>\n",
       "<path style=\"fill:none;stroke-width:1;stroke-linecap:butt;stroke-linejoin:miter;stroke:rgb(0%,0%,0%);stroke-opacity:1;stroke-miterlimit:10;\" d=\"M 116.199219 -22 C 127.835938 -22 143.453125 -22 156.761719 -22 \" transform=\"matrix(1,0,0,1,4,48)\"/>\n",
       "<path style=\"fill-rule:nonzero;fill:rgb(0%,0%,0%);fill-opacity:1;stroke-width:1;stroke-linecap:butt;stroke-linejoin:miter;stroke:rgb(0%,0%,0%);stroke-opacity:1;stroke-miterlimit:10;\" d=\"M 156.824219 -25.5 L 166.824219 -22 L 156.824219 -18.5 Z M 156.824219 -25.5 \" transform=\"matrix(1,0,0,1,4,48)\"/>\n",
       "<g style=\"fill:rgb(0%,0%,0%);fill-opacity:1;\">\n",
       "  <use xlink:href=\"#glyph0-2\" x=\"135\" y=\"22.199219\"/>\n",
       "  <use xlink:href=\"#glyph0-2\" x=\"141.75\" y=\"22.199219\"/>\n",
       "  <use xlink:href=\"#glyph0-2\" x=\"148.5\" y=\"22.199219\"/>\n",
       "</g>\n",
       "<path style=\"fill:none;stroke-width:1;stroke-linecap:butt;stroke-linejoin:miter;stroke:rgb(0%,0%,0%);stroke-opacity:1;stroke-miterlimit:10;\" d=\"M 290 -22 C 290 -12.058594 281.941406 -4 272 -4 C 262.058594 -4 254 -12.058594 254 -22 C 254 -31.941406 262.058594 -40 272 -40 C 281.941406 -40 290 -31.941406 290 -22 \" transform=\"matrix(1,0,0,1,4,48)\"/>\n",
       "<g style=\"fill:rgb(0%,0%,0%);fill-opacity:1;\">\n",
       "  <use xlink:href=\"#glyph0-6\" x=\"272.5\" y=\"29.699219\"/>\n",
       "</g>\n",
       "<path style=\"fill:none;stroke-width:1;stroke-linecap:butt;stroke-linejoin:miter;stroke:rgb(0%,0%,0%);stroke-opacity:1;stroke-miterlimit:10;\" d=\"M 203.199219 -22 C 214.835938 -22 230.453125 -22 243.761719 -22 \" transform=\"matrix(1,0,0,1,4,48)\"/>\n",
       "<path style=\"fill-rule:nonzero;fill:rgb(0%,0%,0%);fill-opacity:1;stroke-width:1;stroke-linecap:butt;stroke-linejoin:miter;stroke:rgb(0%,0%,0%);stroke-opacity:1;stroke-miterlimit:10;\" d=\"M 243.824219 -25.5 L 253.824219 -22 L 243.824219 -18.5 Z M 243.824219 -25.5 \" transform=\"matrix(1,0,0,1,4,48)\"/>\n",
       "<g style=\"fill:rgb(0%,0%,0%);fill-opacity:1;\">\n",
       "  <use xlink:href=\"#glyph0-2\" x=\"222\" y=\"22.199219\"/>\n",
       "  <use xlink:href=\"#glyph0-5\" x=\"228.75\" y=\"22.199219\"/>\n",
       "  <use xlink:href=\"#glyph0-1\" x=\"235.5\" y=\"22.199219\"/>\n",
       "</g>\n",
       "<path style=\"fill:none;stroke-width:1;stroke-linecap:butt;stroke-linejoin:miter;stroke:rgb(0%,0%,0%);stroke-opacity:1;stroke-miterlimit:10;\" d=\"M 377 -22 C 377 -12.058594 368.941406 -4 359 -4 C 349.058594 -4 341 -12.058594 341 -22 C 341 -31.941406 349.058594 -40 359 -40 C 368.941406 -40 377 -31.941406 377 -22 \" transform=\"matrix(1,0,0,1,4,48)\"/>\n",
       "<g style=\"fill:rgb(0%,0%,0%);fill-opacity:1;\">\n",
       "  <use xlink:href=\"#glyph0-7\" x=\"359.5\" y=\"29.699219\"/>\n",
       "</g>\n",
       "<path style=\"fill:none;stroke-width:1;stroke-linecap:butt;stroke-linejoin:miter;stroke:rgb(0%,0%,0%);stroke-opacity:1;stroke-miterlimit:10;\" d=\"M 290.199219 -22 C 301.835938 -22 317.453125 -22 330.761719 -22 \" transform=\"matrix(1,0,0,1,4,48)\"/>\n",
       "<path style=\"fill-rule:nonzero;fill:rgb(0%,0%,0%);fill-opacity:1;stroke-width:1;stroke-linecap:butt;stroke-linejoin:miter;stroke:rgb(0%,0%,0%);stroke-opacity:1;stroke-miterlimit:10;\" d=\"M 330.824219 -25.5 L 340.824219 -22 L 330.824219 -18.5 Z M 330.824219 -25.5 \" transform=\"matrix(1,0,0,1,4,48)\"/>\n",
       "<g style=\"fill:rgb(0%,0%,0%);fill-opacity:1;\">\n",
       "  <use xlink:href=\"#glyph0-2\" x=\"309\" y=\"22.199219\"/>\n",
       "  <use xlink:href=\"#glyph0-1\" x=\"315.75\" y=\"22.199219\"/>\n",
       "  <use xlink:href=\"#glyph0-2\" x=\"322.5\" y=\"22.199219\"/>\n",
       "</g>\n",
       "<path style=\"fill:none;stroke-width:1;stroke-linecap:butt;stroke-linejoin:miter;stroke:rgb(0%,0%,0%);stroke-opacity:1;stroke-miterlimit:10;\" d=\"M 468 -22 C 468 -12.058594 459.941406 -4 450 -4 C 440.058594 -4 432 -12.058594 432 -22 C 432 -31.941406 440.058594 -40 450 -40 C 459.941406 -40 468 -31.941406 468 -22 \" transform=\"matrix(1,0,0,1,4,48)\"/>\n",
       "<path style=\"fill:none;stroke-width:1;stroke-linecap:butt;stroke-linejoin:miter;stroke:rgb(0%,0%,0%);stroke-opacity:1;stroke-miterlimit:10;\" d=\"M 472 -22 C 472 -9.851562 462.148438 0.000000000000007105 450 0.000000000000007105 C 437.851562 0.000000000000007105 428 -9.851562 428 -22 C 428 -34.148437 437.851562 -44 450 -44 C 462.148438 -44 472 -34.148437 472 -22 \" transform=\"matrix(1,0,0,1,4,48)\"/>\n",
       "<g style=\"fill:rgb(0%,0%,0%);fill-opacity:1;\">\n",
       "  <use xlink:href=\"#glyph0-8\" x=\"450.5\" y=\"29.699219\"/>\n",
       "</g>\n",
       "<path style=\"fill:none;stroke-width:1;stroke-linecap:butt;stroke-linejoin:miter;stroke:rgb(0%,0%,0%);stroke-opacity:1;stroke-miterlimit:10;\" d=\"M 377.160156 -22 C 388.558594 -22 403.867188 -22 417.421875 -22 \" transform=\"matrix(1,0,0,1,4,48)\"/>\n",
       "<path style=\"fill-rule:nonzero;fill:rgb(0%,0%,0%);fill-opacity:1;stroke-width:1;stroke-linecap:butt;stroke-linejoin:miter;stroke:rgb(0%,0%,0%);stroke-opacity:1;stroke-miterlimit:10;\" d=\"M 417.808594 -25.5 L 427.808594 -22 L 417.808594 -18.5 Z M 417.808594 -25.5 \" transform=\"matrix(1,0,0,1,4,48)\"/>\n",
       "<g style=\"fill:rgb(0%,0%,0%);fill-opacity:1;\">\n",
       "  <use xlink:href=\"#glyph0-2\" x=\"396\" y=\"22.199219\"/>\n",
       "  <use xlink:href=\"#glyph0-2\" x=\"402.75\" y=\"22.199219\"/>\n",
       "  <use xlink:href=\"#glyph0-8\" x=\"409.5\" y=\"22.199219\"/>\n",
       "</g>\n",
       "</g>\n",
       "</svg>\n"
      ],
      "text/plain": [
       "<vector Fst at 0x789d3b28a670>"
      ]
     },
     "execution_count": 23,
     "metadata": {},
     "output_type": "execute_result"
    }
   ],
   "source": [
    "boxes = pynini.accep(\"boxes\")\n",
    "boxes"
   ]
  },
  {
   "cell_type": "markdown",
   "metadata": {
    "id": "4ADctslxOy-s"
   },
   "source": [
    "## Building a Morphological Analyzer"
   ]
  },
  {
   "cell_type": "markdown",
   "metadata": {
    "id": "N05u2Om9O-kk"
   },
   "source": [
    "Define the rules"
   ]
  },
  {
   "cell_type": "code",
   "execution_count": null,
   "metadata": {
    "id": "C0VhD4OzPAX8"
   },
   "outputs": [],
   "source": [
    "plural_suffix = pynini.cross(\"s\", \"+PL\")\n",
    "singular = pynini.cross(\"\", \"+SG\")"
   ]
  },
  {
   "cell_type": "markdown",
   "metadata": {
    "id": "_VRy8398PGkj"
   },
   "source": [
    "Define morphemes"
   ]
  },
  {
   "cell_type": "code",
   "execution_count": null,
   "metadata": {
    "id": "-3EB64veOxf8"
   },
   "outputs": [],
   "source": [
    "root = pynini.union(\"cat\", \"dog\")"
   ]
  },
  {
   "cell_type": "markdown",
   "metadata": {
    "id": "K4L7D_aWPJ-8"
   },
   "source": [
    "Define analyzer: `root + suffix mapping`"
   ]
  },
  {
   "cell_type": "code",
   "execution_count": null,
   "metadata": {
    "id": "zFQhflf-PEj7"
   },
   "outputs": [],
   "source": [
    "analyzer = (\n",
    "    (root + \"s\") @ (root + plural_suffix)\n",
    ") | (\n",
    "    root @ (root + singular)\n",
    ")"
   ]
  },
  {
   "cell_type": "code",
   "execution_count": null,
   "metadata": {
    "id": "nMRL0wsvPoUc"
   },
   "outputs": [],
   "source": [
    "analyzer.draw(\"analyzer.dot\", portrait=True)"
   ]
  },
  {
   "cell_type": "code",
   "execution_count": null,
   "metadata": {
    "id": "p3KivDapRd65"
   },
   "outputs": [],
   "source": [
    "!dot -Tpng analyzer.dot -o analyzer.png"
   ]
  },
  {
   "cell_type": "code",
   "execution_count": null,
   "metadata": {
    "colab": {
     "base_uri": "https://localhost:8080/"
    },
    "executionInfo": {
     "elapsed": 9,
     "status": "ok",
     "timestamp": 1753978109366,
     "user": {
      "displayName": "Rupak Ghimire",
      "userId": "14487243991408801434"
     },
     "user_tz": -345
    },
    "id": "lJK2YNrCPN9d",
    "outputId": "c93ebd2d-90e3-415f-bdb5-d2186a5dead5"
   },
   "outputs": [
    {
     "name": "stdout",
     "output_type": "stream",
     "text": [
      "cat+PL\n",
      "dog+SG\n"
     ]
    }
   ],
   "source": [
    "from pynini.lib import rewrite\n",
    "\n",
    "print(rewrite.top_rewrite(\"cats\", analyzer))  # cat+PL\n",
    "print(rewrite.top_rewrite(\"dog\", analyzer))   # dog+SG"
   ]
  },
  {
   "cell_type": "markdown",
   "metadata": {
    "id": "Yk1_dbPoP51i"
   },
   "source": [
    "## Nepali Noun Analysis"
   ]
  },
  {
   "cell_type": "code",
   "execution_count": null,
   "metadata": {
    "id": "9mgM8h6UP_8i"
   },
   "outputs": [],
   "source": [
    "import pynini\n",
    "from pynini.lib import rewrite\n",
    "\n",
    "# Define Nepali letters (simple Devanagari subset)\n",
    "sigma = pynini.union(\n",
    "    *\"कखगघङचछजझञटठडढणतथदधनपफबभमयरलवशषसहािीुूेैोौंःृॄ\"\n",
    ").closure().optimize()\n"
   ]
  },
  {
   "cell_type": "markdown",
   "metadata": {
    "id": "sX9VGJBFQF9y"
   },
   "source": [
    "Define noun roots"
   ]
  },
  {
   "cell_type": "code",
   "execution_count": null,
   "metadata": {
    "id": "bqOD66yTQD46"
   },
   "outputs": [],
   "source": [
    "nouns = pynini.union(\n",
    "    \"किताब\",\n",
    "    \"केटा\"\n",
    ")"
   ]
  },
  {
   "cell_type": "markdown",
   "metadata": {
    "id": "qBpm_-CbQNUS"
   },
   "source": [
    "Suffix mapping"
   ]
  },
  {
   "cell_type": "code",
   "execution_count": null,
   "metadata": {
    "id": "7CdopRaxQMm7"
   },
   "outputs": [],
   "source": [
    "plural_suffix = pynini.cross(\"हरु\", \"+PL\")\n",
    "singular = pynini.cross(\"\", \"+SG\")"
   ]
  },
  {
   "cell_type": "code",
   "execution_count": null,
   "metadata": {
    "id": "lmV86tuMQRvy"
   },
   "outputs": [],
   "source": [
    "# Analyzer FST\n",
    "noun_analyzer = (\n",
    "    (nouns + \"हरु\") @ (nouns + plural_suffix)\n",
    ") | (\n",
    "    nouns @ (nouns + singular)\n",
    ")"
   ]
  },
  {
   "cell_type": "code",
   "execution_count": null,
   "metadata": {
    "colab": {
     "base_uri": "https://localhost:8080/"
    },
    "executionInfo": {
     "elapsed": 6,
     "status": "ok",
     "timestamp": 1753978333909,
     "user": {
      "displayName": "Rupak Ghimire",
      "userId": "14487243991408801434"
     },
     "user_tz": -345
    },
    "id": "o5JUrG9xQS6a",
    "outputId": "58a85366-ed2d-423e-be13-a1a9cc9adb3c"
   },
   "outputs": [
    {
     "name": "stdout",
     "output_type": "stream",
     "text": [
      "किताब+PL\n",
      "केटा+SG\n"
     ]
    }
   ],
   "source": [
    "# Test analyzer\n",
    "print(rewrite.top_rewrite(\"किताबहरु\", noun_analyzer))  # किताब+PL\n",
    "print(rewrite.top_rewrite(\"केटा\", noun_analyzer))      # केटा+SG"
   ]
  },
  {
   "cell_type": "markdown",
   "metadata": {
    "id": "1hY-llF9Uccu"
   },
   "source": [
    "### Generator"
   ]
  },
  {
   "cell_type": "code",
   "execution_count": null,
   "metadata": {
    "id": "CzXmdivEUeeW"
   },
   "outputs": [],
   "source": [
    "import pynini\n",
    "from pynini.lib import rewrite\n",
    "\n",
    "# Define lexicon\n",
    "nouns = [\"किताब\", \"केटा\", \"घर\"]\n",
    "\n",
    "# Build analyzer with cross: surface → analysis\n",
    "noun_analyzer = pynini.union(\n",
    "    *[pynini.cross(noun + \"हरु\", noun + \"+PL\") for noun in nouns],\n",
    "    *[pynini.cross(noun, noun + \"+SG\") for noun in nouns]\n",
    ")\n",
    "\n",
    "# Generator: invert the analyzer\n",
    "generator = pynini.invert(noun_analyzer)"
   ]
  },
  {
   "cell_type": "code",
   "execution_count": null,
   "metadata": {
    "colab": {
     "base_uri": "https://localhost:8080/"
    },
    "executionInfo": {
     "elapsed": 14,
     "status": "ok",
     "timestamp": 1753980018139,
     "user": {
      "displayName": "Rupak Ghimire",
      "userId": "14487243991408801434"
     },
     "user_tz": -345
    },
    "id": "siCT1A1DUnbY",
    "outputId": "c1272d0d-42cb-4002-9928-ceb0235921c0"
   },
   "outputs": [
    {
     "name": "stdout",
     "output_type": "stream",
     "text": [
      "किताब+PL\n",
      "केटा+SG\n"
     ]
    }
   ],
   "source": [
    "# analyzer\n",
    "print(rewrite.top_rewrite(\"किताबहरु\", noun_analyzer))  # किताब+PL\n",
    "print(rewrite.top_rewrite(\"केटा\", noun_analyzer))      # केटा+SG"
   ]
  },
  {
   "cell_type": "code",
   "execution_count": null,
   "metadata": {
    "colab": {
     "base_uri": "https://localhost:8080/"
    },
    "executionInfo": {
     "elapsed": 43,
     "status": "ok",
     "timestamp": 1753980022090,
     "user": {
      "displayName": "Rupak Ghimire",
      "userId": "14487243991408801434"
     },
     "user_tz": -345
    },
    "id": "_aZvpCLqWyYH",
    "outputId": "ff253294-bb09-43fb-874f-31261a9b1c86"
   },
   "outputs": [
    {
     "name": "stdout",
     "output_type": "stream",
     "text": [
      "किताबहरु\n",
      "केटा\n"
     ]
    }
   ],
   "source": [
    "# generator\n",
    "print(rewrite.top_rewrite(\"किताब+PL\", generator))      # किताबहरु\n",
    "print(rewrite.top_rewrite(\"केटा+SG\", generator))       # केटा"
   ]
  },
  {
   "cell_type": "markdown",
   "metadata": {
    "id": "NZaCXTpEQfgK"
   },
   "source": [
    "## Assignment1\n",
    "\n",
    "Make a Nepali Rule based morphological analyzer that include\n",
    "- larger lexicon\n",
    "- Rules for the case markers: को, का, कि, मो, मा, etc.\n",
    "- Rules for the noun\n",
    "\n",
    "\n",
    "Sample dataset: NNC: Nepali National Corpus\n",
    "\n",
    "References:\n",
    "- http://www.bhashasanchar.org:80/pdfs/nelralec-wp-tagset.pdf\n",
    "- https://www.lancaster.ac.uk/staff/hardiea/nepali/postag.php\n"
   ]
  }
 ],
 "metadata": {
  "colab": {
   "provenance": []
  },
  "kernelspec": {
   "display_name": "Python 3",
   "language": "python",
   "name": "python3"
  },
  "language_info": {
   "codemirror_mode": {
    "name": "ipython",
    "version": 3
   },
   "file_extension": ".py",
   "mimetype": "text/x-python",
   "name": "python",
   "nbconvert_exporter": "python",
   "pygments_lexer": "ipython3",
   "version": "3.10.12"
  },
  "orig_nbformat": 4
 },
 "nbformat": 4,
 "nbformat_minor": 0
}
