{
 "cells": [
  {
   "cell_type": "markdown",
   "id": "b8785bb8-2610-42c3-a432-ba5e9c0cc742",
   "metadata": {
    "id": "b8785bb8-2610-42c3-a432-ba5e9c0cc742"
   },
   "source": [
    "# Programming with Python - Basic?\n",
    "\n",
    "Python is a popular programming language. It was created by Guido van Rossum, and released in 1991.\n",
    "\n",
    "It is used for:\n",
    "\n",
    "    web development (server-side),\n",
    "    software development,\n",
    "    mathematics,\n",
    "    system scripting.\n",
    "\n",
    "https://docs.python.org/3/italicized text\n",
    "\n",
    "Language specs:  https://docs.python.org/3/reference/index.html\n"
   ]
  },
  {
   "cell_type": "code",
   "execution_count": 1,
   "id": "e9dd2fa9-55ae-4bbf-afc5-71d78fdb7edc",
   "metadata": {
    "colab": {
     "base_uri": "https://localhost:8080/"
    },
    "executionInfo": {
     "elapsed": 6,
     "status": "ok",
     "timestamp": 1753975782875,
     "user": {
      "displayName": "Rupak Ghimire",
      "userId": "14487243991408801434"
     },
     "user_tz": -345
    },
    "id": "e9dd2fa9-55ae-4bbf-afc5-71d78fdb7edc",
    "outputId": "73ac65ba-74c0-486a-ea3f-d7e09d9db0fa"
   },
   "outputs": [
    {
     "name": "stdout",
     "output_type": "stream",
     "text": [
      "Hello, World!\n"
     ]
    }
   ],
   "source": [
    "print(\"Hello, World!\")"
   ]
  },
  {
   "cell_type": "code",
   "execution_count": 2,
   "id": "552817ae-c71e-4d77-b707-839fb2044c40",
   "metadata": {
    "colab": {
     "base_uri": "https://localhost:8080/"
    },
    "executionInfo": {
     "elapsed": 134,
     "status": "ok",
     "timestamp": 1753975783012,
     "user": {
      "displayName": "Rupak Ghimire",
      "userId": "14487243991408801434"
     },
     "user_tz": -345
    },
    "id": "552817ae-c71e-4d77-b707-839fb2044c40",
    "outputId": "5718d577-e12a-4d4b-92c5-f34343cb66ec"
   },
   "outputs": [
    {
     "name": "stdout",
     "output_type": "stream",
     "text": [
      "zsh:1: command not found: python\n"
     ]
    }
   ],
   "source": [
    "!python --version"
   ]
  },
  {
   "cell_type": "code",
   "execution_count": 3,
   "id": "b366a18f-1333-48cb-a878-dd0964ccad50",
   "metadata": {
    "colab": {
     "base_uri": "https://localhost:8080/"
    },
    "executionInfo": {
     "elapsed": 142,
     "status": "ok",
     "timestamp": 1753975783152,
     "user": {
      "displayName": "Rupak Ghimire",
      "userId": "14487243991408801434"
     },
     "user_tz": -345
    },
    "id": "b366a18f-1333-48cb-a878-dd0964ccad50",
    "outputId": "e9839b30-008d-4757-d302-9323226cda24"
   },
   "outputs": [
    {
     "name": "stdout",
     "output_type": "stream",
     "text": [
      "/home/tilak/projects/tilak/mds2/NLP/notebooks\n"
     ]
    }
   ],
   "source": [
    "!pwd"
   ]
  },
  {
   "cell_type": "markdown",
   "id": "a7bee8ea-c574-4c13-be6c-9e7af6335e29",
   "metadata": {
    "id": "a7bee8ea-c574-4c13-be6c-9e7af6335e29"
   },
   "source": [
    "## Python Indentation\n",
    "\n",
    "- Indentation refers to the spaces at the beginning of a code line.\n",
    "- Where in other programming languages the indentation in code is for readability only, the indentation in Python is very important.\n",
    "- Python uses indentation to indicate a block of code."
   ]
  },
  {
   "cell_type": "code",
   "execution_count": 4,
   "id": "9b3c5c70-337d-4863-8226-ab920ae9debb",
   "metadata": {
    "colab": {
     "base_uri": "https://localhost:8080/"
    },
    "executionInfo": {
     "elapsed": 38,
     "status": "ok",
     "timestamp": 1753975783160,
     "user": {
      "displayName": "Rupak Ghimire",
      "userId": "14487243991408801434"
     },
     "user_tz": -345
    },
    "id": "9b3c5c70-337d-4863-8226-ab920ae9debb",
    "outputId": "3e3cd141-8f92-4fc6-cc4f-922aa39b09bf"
   },
   "outputs": [
    {
     "name": "stdout",
     "output_type": "stream",
     "text": [
      "Five is greater than two!\n"
     ]
    }
   ],
   "source": [
    "if 5 > 2:    # expression\n",
    "  print(\"Five is greater than two!\")"
   ]
  },
  {
   "cell_type": "code",
   "execution_count": 5,
   "id": "f9e777a6-f9bb-40eb-b6a7-d01767173141",
   "metadata": {
    "colab": {
     "base_uri": "https://localhost:8080/",
     "height": 110
    },
    "executionInfo": {
     "elapsed": 43,
     "status": "error",
     "timestamp": 1753975792327,
     "user": {
      "displayName": "Rupak Ghimire",
      "userId": "14487243991408801434"
     },
     "user_tz": -345
    },
    "id": "f9e777a6-f9bb-40eb-b6a7-d01767173141",
    "outputId": "534d68bf-b26b-470d-c26b-c238208d0a91"
   },
   "outputs": [
    {
     "ename": "IndentationError",
     "evalue": "expected an indented block after 'if' statement on line 2 (1697862250.py, line 3)",
     "output_type": "error",
     "traceback": [
      "\u001b[0;36m  Cell \u001b[0;32mIn[5], line 3\u001b[0;36m\u001b[0m\n\u001b[0;31m    print(\"Five is greater than two!\")\u001b[0m\n\u001b[0m    ^\u001b[0m\n\u001b[0;31mIndentationError\u001b[0m\u001b[0;31m:\u001b[0m expected an indented block after 'if' statement on line 2\n"
     ]
    }
   ],
   "source": [
    "# Indentation is important in python\n",
    "if 5 > 2:\n",
    "print(\"Five is greater than two!\")"
   ]
  },
  {
   "cell_type": "markdown",
   "id": "a493336a-4239-4482-9038-e73e13a58739",
   "metadata": {
    "id": "a493336a-4239-4482-9038-e73e13a58739"
   },
   "source": [
    "## python variables"
   ]
  },
  {
   "cell_type": "code",
   "execution_count": null,
   "id": "8772cc3c-c48e-4304-8b0e-44e4f52d2b14",
   "metadata": {
    "colab": {
     "base_uri": "https://localhost:8080/"
    },
    "executionInfo": {
     "elapsed": 7,
     "status": "ok",
     "timestamp": 1753975783174,
     "user": {
      "displayName": "Rupak Ghimire",
      "userId": "14487243991408801434"
     },
     "user_tz": -345
    },
    "id": "8772cc3c-c48e-4304-8b0e-44e4f52d2b14",
    "outputId": "050e6fbe-e2c1-4052-a9e8-18d9655ee08d"
   },
   "outputs": [
    {
     "data": {
      "text/plain": [
       "10"
      ]
     },
     "execution_count": 13,
     "metadata": {},
     "output_type": "execute_result"
    }
   ],
   "source": [
    "# Python Variables\n",
    "x =10\n",
    "x\n",
    "\n",
    "# comments"
   ]
  },
  {
   "cell_type": "markdown",
   "id": "08e65d70-ac81-48e6-aea5-b6d0ec3c2eae",
   "metadata": {
    "id": "08e65d70-ac81-48e6-aea5-b6d0ec3c2eae"
   },
   "source": [
    "## Data Types\n",
    "\n",
    "In programming, data type is an important concept.\n",
    "\n",
    "Variables can store data of different types, and different types can do different things.\n",
    "\n",
    "Python has the following data types built-in by default, in these categories:\n",
    "\n",
    "    Text Type:          str\n",
    "    Numeric Types:      int, float, complex\n",
    "    Sequence Types:     list, tuple, range\n",
    "    Mapping Type:       dict\n",
    "    Set Types:          set, frozenset\n",
    "    Boolean Type:       bool\n",
    "    Binary Types:       bytes, bytearray, memoryview\n",
    "    None Type:          NoneType"
   ]
  },
  {
   "cell_type": "markdown",
   "id": "d0a18e4d-adc6-45eb-a301-bb0044d927a5",
   "metadata": {
    "id": "d0a18e4d-adc6-45eb-a301-bb0044d927a5"
   },
   "source": [
    "## Operators\n",
    "\n",
    "- Arithmetic Operators: +, - , / , *\n",
    "- Assignment Operators:  =, += , -=\n",
    "- Comparison Operators: == , <= , >= , < , > !=\n",
    "- Logical Operators: and or not\n",
    "- Identity Operators: is , is not\n",
    "- Membership Operators: in not in"
   ]
  },
  {
   "cell_type": "code",
   "execution_count": 6,
   "id": "7baa26e4-23fa-4918-b38c-49d28ff2564f",
   "metadata": {
    "colab": {
     "base_uri": "https://localhost:8080/"
    },
    "executionInfo": {
     "elapsed": 4,
     "status": "ok",
     "timestamp": 1753975783178,
     "user": {
      "displayName": "Rupak Ghimire",
      "userId": "14487243991408801434"
     },
     "user_tz": -345
    },
    "id": "7baa26e4-23fa-4918-b38c-49d28ff2564f",
    "outputId": "93f52475-ea83-487a-e17e-e612b7027a9e"
   },
   "outputs": [
    {
     "name": "stdout",
     "output_type": "stream",
     "text": [
      "15\n"
     ]
    }
   ],
   "source": [
    "# mathmatical operations\n",
    "a = 5\n",
    "b = 10\n",
    "sum = a + b\n",
    "print(sum)"
   ]
  },
  {
   "cell_type": "markdown",
   "id": "3d99a01c-1ee4-4f30-a899-e289b2620e1a",
   "metadata": {
    "id": "3d99a01c-1ee4-4f30-a899-e289b2620e1a"
   },
   "source": [
    "## Strings\n",
    "\n",
    "Strings in python are surrounded by either single quotation marks, or double quotation marks.\n",
    "\n",
    "`'hello' is the same as \"hello\".`\n",
    "\n",
    "You can display a string literal with the print() function:"
   ]
  },
  {
   "cell_type": "code",
   "execution_count": null,
   "id": "9500d8bb-73ac-426b-8294-f9b57d7ca81b",
   "metadata": {
    "colab": {
     "base_uri": "https://localhost:8080/",
     "height": 72
    },
    "executionInfo": {
     "elapsed": 8,
     "status": "ok",
     "timestamp": 1753975783187,
     "user": {
      "displayName": "Rupak Ghimire",
      "userId": "14487243991408801434"
     },
     "user_tz": -345
    },
    "id": "9500d8bb-73ac-426b-8294-f9b57d7ca81b",
    "outputId": "bcdfb13f-04a7-48a3-eb4e-188a21b81306"
   },
   "outputs": [
    {
     "name": "stdout",
     "output_type": "stream",
     "text": [
      "Hello\n",
      "Hello\n"
     ]
    },
    {
     "data": {
      "application/vnd.google.colaboratory.intrinsic+json": {
       "type": "string"
      },
      "text/plain": [
       "'Hello, welcome to the system'"
      ]
     },
     "execution_count": 15,
     "metadata": {},
     "output_type": "execute_result"
    }
   ],
   "source": [
    "print(\"Hello\")\n",
    "print('Hello')\n",
    "# variable\n",
    "hello = \"Hello, welcome to the system\"\n",
    "hello"
   ]
  },
  {
   "cell_type": "code",
   "execution_count": null,
   "id": "c7424b05-b160-4d35-9a57-89fb90a785c9",
   "metadata": {
    "colab": {
     "base_uri": "https://localhost:8080/"
    },
    "executionInfo": {
     "elapsed": 30,
     "status": "ok",
     "timestamp": 1753975783217,
     "user": {
      "displayName": "Rupak Ghimire",
      "userId": "14487243991408801434"
     },
     "user_tz": -345
    },
    "id": "c7424b05-b160-4d35-9a57-89fb90a785c9",
    "outputId": "bb8e1024-2daf-49ab-8b95-70ac2616e157"
   },
   "outputs": [
    {
     "name": "stdout",
     "output_type": "stream",
     "text": [
      "Lorem ipsum dolor sit amet,\n",
      "consectetur adipiscing elit,\n",
      "sed do eiusmod tempor incididunt\n",
      "ut labore et dolore magna aliqua.\n"
     ]
    }
   ],
   "source": [
    "# multiline string\n",
    "a = \"\"\"Lorem ipsum dolor sit amet,\n",
    "consectetur adipiscing elit,\n",
    "sed do eiusmod tempor incididunt\n",
    "ut labore et dolore magna aliqua.\"\"\"\n",
    "print(a)"
   ]
  },
  {
   "cell_type": "code",
   "execution_count": null,
   "id": "c4699c58-5a73-4860-9634-3dd4cb1e60f3",
   "metadata": {
    "colab": {
     "base_uri": "https://localhost:8080/"
    },
    "executionInfo": {
     "elapsed": 34,
     "status": "ok",
     "timestamp": 1753975783227,
     "user": {
      "displayName": "Rupak Ghimire",
      "userId": "14487243991408801434"
     },
     "user_tz": -345
    },
    "id": "c4699c58-5a73-4860-9634-3dd4cb1e60f3",
    "outputId": "b9aa02c7-8dd5-4a78-e5f2-3ea3a0452396"
   },
   "outputs": [
    {
     "name": "stdout",
     "output_type": "stream",
     "text": [
      "\n",
      "धनुषाकी आरती साहको हत्याको न्यायिक छानबिन र दोषीमाथि कारबाहीको माग राखेर\n",
      "गत असार १ देखि राजधानीको माइतीघरमा\n",
      "धर्ना बसेका विनोद साहको परिवारले थुप्रै सास्ती खेप्नुपरेको छ ।\n",
      "एकसरो लुगाबाहेक केही छैन । बिहान र बेलुका महाँकाल युवा समूहले खाना सहयोग\n",
      "गरे पनि दिउँसो भोकै बस्छन् । धर्ना बसेदेखि नुहाउन पाएका छैनन् । उनी मात्रै होइन,\n",
      "माइतीघरमा धर्ना बस्ने सबैको यस्तै हो । हुनेले पानी किनेर खान्छन्,\n",
      "नहुनेहरू तिर्खाएरै बसेका छन् ।\n"
     ]
    }
   ],
   "source": [
    "# src: https://dailypakistan.com.pk/24-Aug-2022/1477636\n",
    "news = \"\"\"\n",
    "धनुषाकी आरती साहको हत्याको न्यायिक छानबिन र दोषीमाथि कारबाहीको माग राखेर\n",
    "गत असार १ देखि राजधानीको माइतीघरमा\n",
    "धर्ना बसेका विनोद साहको परिवारले थुप्रै सास्ती खेप्नुपरेको छ ।\n",
    "एकसरो लुगाबाहेक केही छैन । बिहान र बेलुका महाँकाल युवा समूहले खाना सहयोग\n",
    "गरे पनि दिउँसो भोकै बस्छन् । धर्ना बसेदेखि नुहाउन पाएका छैनन् । उनी मात्रै होइन,\n",
    "माइतीघरमा धर्ना बस्ने सबैको यस्तै हो । हुनेले पानी किनेर खान्छन्,\n",
    "नहुनेहरू तिर्खाएरै बसेका छन् ।\"\"\"\n",
    "print(news)"
   ]
  },
  {
   "cell_type": "code",
   "execution_count": null,
   "id": "a3800fee-7692-4f7f-8a3c-8d0d58577d64",
   "metadata": {
    "colab": {
     "base_uri": "https://localhost:8080/"
    },
    "executionInfo": {
     "elapsed": 27,
     "status": "ok",
     "timestamp": 1753975783246,
     "user": {
      "displayName": "Rupak Ghimire",
      "userId": "14487243991408801434"
     },
     "user_tz": -345
    },
    "id": "a3800fee-7692-4f7f-8a3c-8d0d58577d64",
    "outputId": "ed364601-38d8-400a-ef04-9dc39e199e5c"
   },
   "outputs": [
    {
     "name": "stdout",
     "output_type": "stream",
     "text": [
      "My name is John, I am 36\n"
     ]
    }
   ],
   "source": [
    "# string formating\n",
    "age = 36\n",
    "txt = \"My name is John, I am \" + str(age)\n",
    "print(txt)"
   ]
  },
  {
   "cell_type": "code",
   "execution_count": null,
   "id": "PgNSRbwXH1s9",
   "metadata": {
    "colab": {
     "base_uri": "https://localhost:8080/"
    },
    "executionInfo": {
     "elapsed": 39,
     "status": "ok",
     "timestamp": 1753975783268,
     "user": {
      "displayName": "Rupak Ghimire",
      "userId": "14487243991408801434"
     },
     "user_tz": -345
    },
    "id": "PgNSRbwXH1s9",
    "outputId": "99166147-332f-4f62-c217-7dd291ac3e96"
   },
   "outputs": [
    {
     "name": "stdout",
     "output_type": "stream",
     "text": [
      "My name is John, I am 36\n"
     ]
    }
   ],
   "source": [
    "# using f string\n",
    "# string formating\n",
    "age = 36\n",
    "txt = f\"My name is John, I am {age}\"\n",
    "print(txt)"
   ]
  },
  {
   "cell_type": "code",
   "execution_count": null,
   "id": "0043d282-0291-4bdc-9100-4f05d0a1cab2",
   "metadata": {
    "colab": {
     "base_uri": "https://localhost:8080/"
    },
    "executionInfo": {
     "elapsed": 38,
     "status": "ok",
     "timestamp": 1753975783275,
     "user": {
      "displayName": "Rupak Ghimire",
      "userId": "14487243991408801434"
     },
     "user_tz": -345
    },
    "id": "0043d282-0291-4bdc-9100-4f05d0a1cab2",
    "outputId": "ab65cdce-dda9-4341-9187-5cf6777d285a"
   },
   "outputs": [
    {
     "name": "stdout",
     "output_type": "stream",
     "text": [
      "I want 3 pieces of item 567 for 49.95 rupees.\n"
     ]
    }
   ],
   "source": [
    "# use format()\n",
    "#   Use the format() method to insert numbers into strings:\n",
    "\n",
    "quantity = 3\n",
    "itemno = 567\n",
    "price = 49.95\n",
    "myorder = \"I want {} pieces of item {} for {} rupees.\"\n",
    "print(myorder.format(quantity, itemno, price))"
   ]
  },
  {
   "cell_type": "code",
   "execution_count": null,
   "id": "64f4c631-0bd4-4715-bcc1-01c3e9d3ee27",
   "metadata": {
    "colab": {
     "base_uri": "https://localhost:8080/"
    },
    "executionInfo": {
     "elapsed": 33,
     "status": "ok",
     "timestamp": 1753975783275,
     "user": {
      "displayName": "Rupak Ghimire",
      "userId": "14487243991408801434"
     },
     "user_tz": -345
    },
    "id": "64f4c631-0bd4-4715-bcc1-01c3e9d3ee27",
    "outputId": "44181165-ceff-42b6-e8b9-e1d09d2ee796"
   },
   "outputs": [
    {
     "name": "stdout",
     "output_type": "stream",
     "text": [
      "Your age is 80\n"
     ]
    }
   ],
   "source": [
    "# fstring\n",
    "age = 80\n",
    "print(f\"Your age is {age}\")"
   ]
  },
  {
   "cell_type": "markdown",
   "id": "deca6877-256b-4ed5-bb74-fb2daea6be4f",
   "metadata": {
    "id": "deca6877-256b-4ed5-bb74-fb2daea6be4f"
   },
   "source": [
    "## Conditionals\n",
    "Python Conditions and If statements\n",
    "\n",
    "    Equals: a == b\n",
    "    Not Equals: a != b\n",
    "    Less than: a < b\n",
    "    Less than or equal to: a <= b\n",
    "    Greater than: a > b\n",
    "    Greater than or equal to: a >= b\n",
    "\n"
   ]
  },
  {
   "cell_type": "code",
   "execution_count": null,
   "id": "5928a140-b8f1-4c9f-95bf-92a34499e977",
   "metadata": {
    "colab": {
     "base_uri": "https://localhost:8080/"
    },
    "executionInfo": {
     "elapsed": 9,
     "status": "ok",
     "timestamp": 1753975783276,
     "user": {
      "displayName": "Rupak Ghimire",
      "userId": "14487243991408801434"
     },
     "user_tz": -345
    },
    "id": "5928a140-b8f1-4c9f-95bf-92a34499e977",
    "outputId": "99c36fc2-ccb7-4bc9-a5d6-41f9f21c7233"
   },
   "outputs": [
    {
     "name": "stdout",
     "output_type": "stream",
     "text": [
      "b is greater than a\n",
      "a and b are equal\n",
      "a is greater than b\n",
      "B\n"
     ]
    }
   ],
   "source": [
    "# If statement:\n",
    "a = 33\n",
    "b = 200\n",
    "if b > a:\n",
    "    print(\"b is greater than a\")\n",
    "\n",
    "\n",
    "# The elif keyword is pythons way of saying \"if the previous conditions were not true, then try this condition\".\n",
    "\n",
    "a = 33\n",
    "b = 33\n",
    "if b > a:\n",
    "    print(\"b is greater than a\")\n",
    "elif a == b:\n",
    "    print(\"a and b are equal\")\n",
    "\n",
    "\n",
    "#The else keyword catches anything which isn't caught by the preceding conditions.\n",
    "a = 200\n",
    "b = 33\n",
    "if b > a:\n",
    "    print(\"b is greater than a\")\n",
    "elif a == b:\n",
    "    print(\"a and b are equal\")\n",
    "else:\n",
    "    print(\"a is greater than b\")\n",
    "\n",
    "# Short Hand If ... Else\n",
    "#If you have only one statement to execute, one for if, and one for else, you can put it all on the same line:\n",
    "# One line if else statement:\n",
    "a = 2\n",
    "b = 330\n",
    "print(\"A\") if a > b else print(\"B\")"
   ]
  },
  {
   "cell_type": "markdown",
   "id": "429dc8cc-96e4-4667-83d7-712d8bccca7e",
   "metadata": {
    "id": "429dc8cc-96e4-4667-83d7-712d8bccca7e"
   },
   "source": [
    "## loop: For Loop\n",
    "- A for loop is used for iterating over a sequence (that is either a list, a tuple, a dictionary, a set, or a string).\n",
    "- This is less like the for keyword in other programming languages, and works more like an iterator method as found in other object-orientated programming languages.\n",
    "- With the for loop we can execute a set of statements, once for each item in a list, tuple, set etc."
   ]
  },
  {
   "cell_type": "code",
   "execution_count": null,
   "id": "fbe538de-918c-4e0e-8005-f728b0f4af0b",
   "metadata": {
    "colab": {
     "base_uri": "https://localhost:8080/"
    },
    "executionInfo": {
     "elapsed": 29,
     "status": "ok",
     "timestamp": 1753975783303,
     "user": {
      "displayName": "Rupak Ghimire",
      "userId": "14487243991408801434"
     },
     "user_tz": -345
    },
    "id": "fbe538de-918c-4e0e-8005-f728b0f4af0b",
    "outputId": "ecd11066-fc01-4087-e290-a121b7bdb192"
   },
   "outputs": [
    {
     "name": "stdout",
     "output_type": "stream",
     "text": [
      "apple\n",
      "banana\n",
      "cherry\n",
      "b\n",
      "a\n",
      "n\n",
      "a\n",
      "n\n",
      "a\n"
     ]
    }
   ],
   "source": [
    "fruits = [\"apple\", \"banana\", \"cherry\"]\n",
    "for x in fruits:\n",
    "    print(x)\n",
    "\n",
    "# Looping Through a String\n",
    "\n",
    "#Even strings are iterable objects, they contain a sequence of characters:\n",
    "# Loop through the letters in the word \"banana\":\n",
    "for x in \"banana\":\n",
    "    print(x)"
   ]
  },
  {
   "cell_type": "markdown",
   "id": "4fb65ed2-9464-46f4-a43e-209cd6308247",
   "metadata": {
    "id": "4fb65ed2-9464-46f4-a43e-209cd6308247"
   },
   "source": [
    "## Python List\n",
    "Lists are used to store multiple items in a single variable.\n",
    "\n",
    "Lists are one of 4 built-in data types in Python used to store collections of data, the other 3 are Tuple, Set, and Dictionary, all with different qualities and usage.\n",
    "\n",
    "Lists are created using square brackets:\n",
    "    \n",
    "     thislist = [\"apple\", \"banana\", \"cherry\"]\n",
    "List are\n",
    "- ordered\n",
    "- changable\n",
    "- allow duplicates\n"
   ]
  },
  {
   "cell_type": "code",
   "execution_count": 8,
   "id": "6ccf2c31-3539-4978-bad7-736607333d79",
   "metadata": {
    "colab": {
     "base_uri": "https://localhost:8080/"
    },
    "executionInfo": {
     "elapsed": 21,
     "status": "ok",
     "timestamp": 1753975783303,
     "user": {
      "displayName": "Rupak Ghimire",
      "userId": "14487243991408801434"
     },
     "user_tz": -345
    },
    "id": "6ccf2c31-3539-4978-bad7-736607333d79",
    "outputId": "b3e83e46-41de-4724-8ba7-6e8de230e749"
   },
   "outputs": [
    {
     "name": "stdout",
     "output_type": "stream",
     "text": [
      "['apple', 'banana', 'cherry']\n",
      "['apple', 'banana', 'cherry', 'apple', 'cherry']\n"
     ]
    },
    {
     "data": {
      "text/plain": [
       "5"
      ]
     },
     "execution_count": 8,
     "metadata": {},
     "output_type": "execute_result"
    }
   ],
   "source": [
    "fruits = [\"apple\", \"banana\", \"cherry\"]\n",
    "print(fruits)\n",
    "\n",
    "x = [\"apple\", \"banana\", \"cherry\", \"apple\", \"cherry\"]\n",
    "print(x)\n",
    "\n",
    "# length of list\n",
    "length = len(x)\n",
    "length"
   ]
  },
  {
   "cell_type": "code",
   "execution_count": 9,
   "id": "99bcaae6-869c-49bc-87d7-614ceb38c3d3",
   "metadata": {
    "colab": {
     "base_uri": "https://localhost:8080/"
    },
    "executionInfo": {
     "elapsed": 12,
     "status": "ok",
     "timestamp": 1753975783303,
     "user": {
      "displayName": "Rupak Ghimire",
      "userId": "14487243991408801434"
     },
     "user_tz": -345
    },
    "id": "99bcaae6-869c-49bc-87d7-614ceb38c3d3",
    "outputId": "1daa9fac-de5d-4592-daae-b8afc2ac38cc"
   },
   "outputs": [
    {
     "name": "stdout",
     "output_type": "stream",
     "text": [
      "apple\n",
      "cherry\n"
     ]
    }
   ],
   "source": [
    "# access by index\n",
    "apple = fruits[0]\n",
    "print(apple)\n",
    "\n",
    "# Negative Indexing\n",
    "a = fruits[-1] # starts from reverse order\n",
    "print(a)\n"
   ]
  },
  {
   "cell_type": "code",
   "execution_count": null,
   "id": "a6d4634d-b3e7-4133-b4cf-bc4ca3e405cb",
   "metadata": {
    "colab": {
     "base_uri": "https://localhost:8080/"
    },
    "executionInfo": {
     "elapsed": 15,
     "status": "ok",
     "timestamp": 1753975783313,
     "user": {
      "displayName": "Rupak Ghimire",
      "userId": "14487243991408801434"
     },
     "user_tz": -345
    },
    "id": "a6d4634d-b3e7-4133-b4cf-bc4ca3e405cb",
    "outputId": "ca91a466-ebdb-4978-98b7-e7e9337d90aa"
   },
   "outputs": [
    {
     "name": "stdout",
     "output_type": "stream",
     "text": [
      "['cherry', 'orange', 'kiwi']\n",
      "['apple', 'banana', 'cherry', 'orange']\n",
      "['cherry', 'orange', 'kiwi', 'melon', 'mango']\n"
     ]
    }
   ],
   "source": [
    "# Range of Indexes\n",
    "\n",
    "# Return the third, fourth, and fifth item:\n",
    "thislist = [\"apple\", \"banana\", \"cherry\", \"orange\", \"kiwi\", \"melon\", \"mango\"]\n",
    "print(thislist[2:5])\n",
    "\n",
    "\n",
    "# This example returns the items from the beginning to, but NOT including, \"kiwi\":\n",
    "thislist = [\"apple\", \"banana\", \"cherry\", \"orange\", \"kiwi\", \"melon\", \"mango\"]\n",
    "print(thislist[:4])\n",
    "\n",
    "\n",
    "# This example returns the items from \"cherry\" to the end:\n",
    "thislist = [\"apple\", \"banana\", \"cherry\", \"orange\", \"kiwi\", \"melon\", \"mango\"]\n",
    "print(thislist[2:])"
   ]
  },
  {
   "cell_type": "code",
   "execution_count": null,
   "id": "e8037ba3-e3d3-4df5-abff-4fef07ea7f24",
   "metadata": {
    "colab": {
     "base_uri": "https://localhost:8080/"
    },
    "executionInfo": {
     "elapsed": 22,
     "status": "ok",
     "timestamp": 1753975783330,
     "user": {
      "displayName": "Rupak Ghimire",
      "userId": "14487243991408801434"
     },
     "user_tz": -345
    },
    "id": "e8037ba3-e3d3-4df5-abff-4fef07ea7f24",
    "outputId": "6f0e0fa0-0718-4e9e-a12c-a4afac1d5d3c"
   },
   "outputs": [
    {
     "name": "stdout",
     "output_type": "stream",
     "text": [
      "Yes, 'apple' is in the fruits list\n"
     ]
    }
   ],
   "source": [
    "# Check if Item Exists\n",
    "# Check if \"apple\" is present in the list:\n",
    "thislist = [\"apple\", \"banana\", \"cherry\"]\n",
    "if \"apple\" in thislist:\n",
    "    print(\"Yes, 'apple' is in the fruits list\")"
   ]
  },
  {
   "cell_type": "code",
   "execution_count": null,
   "id": "6f44e2da-0856-43c2-b913-a62690c9cbe5",
   "metadata": {
    "colab": {
     "base_uri": "https://localhost:8080/"
    },
    "executionInfo": {
     "elapsed": 5,
     "status": "ok",
     "timestamp": 1753975783336,
     "user": {
      "displayName": "Rupak Ghimire",
      "userId": "14487243991408801434"
     },
     "user_tz": -345
    },
    "id": "6f44e2da-0856-43c2-b913-a62690c9cbe5",
    "outputId": "3fed8ad9-38f3-4dee-b069-2e251064f7f8"
   },
   "outputs": [
    {
     "name": "stdout",
     "output_type": "stream",
     "text": [
      "['apple', 'blackcurrant', 'cherry']\n"
     ]
    }
   ],
   "source": [
    "# Change the second item:\n",
    "thislist = [\"apple\", \"banana\", \"cherry\"]\n",
    "thislist[1] = \"blackcurrant\"\n",
    "print(thislist)"
   ]
  },
  {
   "cell_type": "code",
   "execution_count": null,
   "id": "b6d75687-7b4a-4e4e-8e2c-12c473baa7b6",
   "metadata": {
    "colab": {
     "base_uri": "https://localhost:8080/"
    },
    "executionInfo": {
     "elapsed": 4,
     "status": "ok",
     "timestamp": 1753975783341,
     "user": {
      "displayName": "Rupak Ghimire",
      "userId": "14487243991408801434"
     },
     "user_tz": -345
    },
    "id": "b6d75687-7b4a-4e4e-8e2c-12c473baa7b6",
    "outputId": "781cb17a-9974-43cb-997e-19f1bd9758a2"
   },
   "outputs": [
    {
     "name": "stdout",
     "output_type": "stream",
     "text": [
      "apple\n",
      "banana\n",
      "cherry\n",
      "apple\n",
      "banana\n",
      "cherry\n"
     ]
    }
   ],
   "source": [
    "# Loop through the items\n",
    "\n",
    "thislist = [\"apple\", \"banana\", \"cherry\"]\n",
    "for x in thislist:\n",
    "    print(x)\n",
    "\n",
    "\n",
    "# Loop Through the Index Numbers\n",
    "for i in range(len(thislist)):\n",
    "  print(thislist[i])"
   ]
  },
  {
   "cell_type": "code",
   "execution_count": null,
   "id": "91ef2567-a21b-4069-a121-cd67083f6827",
   "metadata": {
    "colab": {
     "base_uri": "https://localhost:8080/"
    },
    "executionInfo": {
     "elapsed": 4,
     "status": "ok",
     "timestamp": 1753975783346,
     "user": {
      "displayName": "Rupak Ghimire",
      "userId": "14487243991408801434"
     },
     "user_tz": -345
    },
    "id": "91ef2567-a21b-4069-a121-cd67083f6827",
    "outputId": "c34c30d3-2def-468a-e6a7-85c5a01a45ed"
   },
   "outputs": [
    {
     "name": "stdout",
     "output_type": "stream",
     "text": [
      "apple\n",
      "banana\n",
      "cherry\n"
     ]
    },
    {
     "data": {
      "text/plain": [
       "[None, None, None]"
      ]
     },
     "execution_count": 30,
     "metadata": {},
     "output_type": "execute_result"
    }
   ],
   "source": [
    "# list comprehention: Looping Using List Comprehension\n",
    "# A short hand for loop that will print all items in a list:\n",
    "thislist = [\"apple\", \"banana\", \"cherry\"]\n",
    "[print(x) for x in thislist]"
   ]
  },
  {
   "cell_type": "markdown",
   "id": "10cedb38-d6c9-45c1-a840-fc465ffe38f9",
   "metadata": {
    "id": "10cedb38-d6c9-45c1-a840-fc465ffe38f9"
   },
   "source": [
    "### List Comprehension\n",
    "\n",
    "List comprehension offers a shorter syntax when you want to create a new list based on the values of an existing list.\n",
    "\n",
    "Example:\n",
    "\n",
    "**Based on a list of fruits, you want a new list, containing only the fruits with the letter \"a\" in the name.**\n",
    "\n",
    "Without list comprehension you will have to write a for statement with a conditional test inside:\n",
    "\n",
    "     newlist = [expression for item in iterable if condition == True]\n",
    "     \n",
    "The return value is a new list, leaving the old list unchanged."
   ]
  },
  {
   "cell_type": "code",
   "execution_count": null,
   "id": "899ae193-64b0-41e0-8354-efe4e5e35340",
   "metadata": {
    "colab": {
     "base_uri": "https://localhost:8080/"
    },
    "executionInfo": {
     "elapsed": 36,
     "status": "ok",
     "timestamp": 1753975783383,
     "user": {
      "displayName": "Rupak Ghimire",
      "userId": "14487243991408801434"
     },
     "user_tz": -345
    },
    "id": "899ae193-64b0-41e0-8354-efe4e5e35340",
    "outputId": "60b7e0af-ec27-446a-eff6-5a872bdcacf2"
   },
   "outputs": [
    {
     "name": "stdout",
     "output_type": "stream",
     "text": [
      "['apple', 'banana', 'mango']\n"
     ]
    }
   ],
   "source": [
    "fruits = [\"apple\", \"banana\", \"cherry\", \"kiwi\", \"mango\"]\n",
    "newlist = []\n",
    "\n",
    "for x in fruits:\n",
    "  if \"a\" in x:\n",
    "    newlist.append(x)\n",
    "\n",
    "print(newlist)"
   ]
  },
  {
   "cell_type": "code",
   "execution_count": null,
   "id": "183c57e1-ab62-4bde-9a29-5ddc0a3ea345",
   "metadata": {
    "colab": {
     "base_uri": "https://localhost:8080/"
    },
    "executionInfo": {
     "elapsed": 21,
     "status": "ok",
     "timestamp": 1753975783384,
     "user": {
      "displayName": "Rupak Ghimire",
      "userId": "14487243991408801434"
     },
     "user_tz": -345
    },
    "id": "183c57e1-ab62-4bde-9a29-5ddc0a3ea345",
    "outputId": "115499c6-26d7-4abc-bea9-2b86795314d1"
   },
   "outputs": [
    {
     "name": "stdout",
     "output_type": "stream",
     "text": [
      "['apple', 'banana', 'mango']\n"
     ]
    }
   ],
   "source": [
    "fruits = [\"apple\", \"banana\", \"cherry\", \"kiwi\", \"mango\"]\n",
    "newlist = [x for x in fruits if \"a\" in x]\n",
    "print(newlist)"
   ]
  },
  {
   "cell_type": "markdown",
   "id": "5aadcbd5-df7e-425d-8a87-060ed2255612",
   "metadata": {
    "id": "5aadcbd5-df7e-425d-8a87-060ed2255612"
   },
   "source": [
    "### list methods\n",
    "```\n",
    "append()    Adds an element at the end of the list\n",
    "clear()     Removes all the elements from the list\n",
    "copy()      Returns a copy of the list\n",
    "count()     Returns the number of elements with the specified value\n",
    "extend()    Add the elements of a list (or any iterable), to the end of the current list\n",
    "\n",
    "index()     Returns the index of the first element with the specified value\n",
    "insert()\tAdds an element at the specified position\n",
    "pop()       Removes the element at the specified position\n",
    "remove()    Removes the item with the specified value\n",
    "reverse()   Reverses the order of the list\n",
    "sort()      Sorts the list\n",
    "```"
   ]
  },
  {
   "cell_type": "code",
   "execution_count": null,
   "id": "cfecb9de-02f3-4e44-9db8-95a033746de1",
   "metadata": {
    "colab": {
     "base_uri": "https://localhost:8080/"
    },
    "executionInfo": {
     "elapsed": 13,
     "status": "ok",
     "timestamp": 1753975783384,
     "user": {
      "displayName": "Rupak Ghimire",
      "userId": "14487243991408801434"
     },
     "user_tz": -345
    },
    "id": "cfecb9de-02f3-4e44-9db8-95a033746de1",
    "outputId": "2d082800-b03c-40ca-f317-0dd3effec0c4"
   },
   "outputs": [
    {
     "name": "stdout",
     "output_type": "stream",
     "text": [
      "['banana', 'kiwi', 'mango', 'orange', 'pineapple']\n",
      "['apple', 'banana', 'cherry']\n",
      "['a', 'b', 'c', 1, 2, 3]\n"
     ]
    }
   ],
   "source": [
    "# sorting the list\n",
    "thislist = [\"orange\", \"mango\", \"kiwi\", \"pineapple\", \"banana\"]\n",
    "thislist.sort()\n",
    "print(thislist)\n",
    "\n",
    "# copy\n",
    "thislist = [\"apple\", \"banana\", \"cherry\"]\n",
    "mylist = thislist.copy()\n",
    "print(mylist)\n",
    "\n",
    "# join list\n",
    "list1 = [\"a\", \"b\", \"c\"]\n",
    "list2 = [1, 2, 3]\n",
    "\n",
    "list3 = list1 + list2\n",
    "print(list3)"
   ]
  },
  {
   "cell_type": "markdown",
   "id": "5ba41681-36b9-461c-82a6-d7927c8cb5a7",
   "metadata": {
    "id": "5ba41681-36b9-461c-82a6-d7927c8cb5a7"
   },
   "source": [
    "## Tuples\n",
    "- Tuples are used to store multiple items in a single variable.\n",
    "- Tuple is one of 4 built-in data types in Python used to store collections of data, the other 3 are List, Set, and Dictionary, all with different qualities and usage.\n",
    "- A tuple is a collection which is ordered and unchangeable.\n",
    "- Tuples are written with round brackets."
   ]
  },
  {
   "cell_type": "code",
   "execution_count": null,
   "id": "a1618253-8e4c-47ae-92db-b5cc060d03b0",
   "metadata": {
    "colab": {
     "base_uri": "https://localhost:8080/"
    },
    "executionInfo": {
     "elapsed": 8,
     "status": "ok",
     "timestamp": 1753975783385,
     "user": {
      "displayName": "Rupak Ghimire",
      "userId": "14487243991408801434"
     },
     "user_tz": -345
    },
    "id": "a1618253-8e4c-47ae-92db-b5cc060d03b0",
    "outputId": "ed634204-f8c7-4d1e-892a-c00096c9d031"
   },
   "outputs": [
    {
     "name": "stdout",
     "output_type": "stream",
     "text": [
      "('apple', 'banana', 'cherry')\n",
      "('apple', 'banana', 'cherry', 'apple', 'cherry')\n"
     ]
    }
   ],
   "source": [
    "thistuple = (\"apple\", \"banana\", \"cherry\")\n",
    "print(thistuple)\n",
    "\n",
    "# allow duplicates\n",
    "thistuple = (\"apple\", \"banana\", \"cherry\", \"apple\", \"cherry\")\n",
    "print(thistuple)"
   ]
  },
  {
   "cell_type": "code",
   "execution_count": null,
   "id": "eb359aac-38d0-4355-9b34-ddd927792153",
   "metadata": {
    "colab": {
     "base_uri": "https://localhost:8080/"
    },
    "executionInfo": {
     "elapsed": 57,
     "status": "ok",
     "timestamp": 1753975783442,
     "user": {
      "displayName": "Rupak Ghimire",
      "userId": "14487243991408801434"
     },
     "user_tz": -345
    },
    "id": "eb359aac-38d0-4355-9b34-ddd927792153",
    "outputId": "4a897650-db75-49ba-c255-6c42a62d24aa"
   },
   "outputs": [
    {
     "name": "stdout",
     "output_type": "stream",
     "text": [
      "banana\n"
     ]
    }
   ],
   "source": [
    "# You can access tuple items by referring to the index number, inside square brackets:\n",
    "thistuple = (\"apple\", \"banana\", \"cherry\")\n",
    "print(thistuple[1])"
   ]
  },
  {
   "cell_type": "code",
   "execution_count": null,
   "id": "5dea062d-8f12-4efc-b6a7-667bc7b84bf2",
   "metadata": {
    "colab": {
     "base_uri": "https://localhost:8080/"
    },
    "executionInfo": {
     "elapsed": 51,
     "status": "ok",
     "timestamp": 1753975783443,
     "user": {
      "displayName": "Rupak Ghimire",
      "userId": "14487243991408801434"
     },
     "user_tz": -345
    },
    "id": "5dea062d-8f12-4efc-b6a7-667bc7b84bf2",
    "outputId": "6f31418c-5590-472e-c23f-4e10fefe5e76"
   },
   "outputs": [
    {
     "name": "stdout",
     "output_type": "stream",
     "text": [
      "apple\n",
      "banana\n",
      "cherry\n",
      "apple\n",
      "banana\n",
      "cherry\n"
     ]
    }
   ],
   "source": [
    "# access via loop\n",
    "thistuple = (\"apple\", \"banana\", \"cherry\")\n",
    "for x in thistuple:\n",
    "    print(x)\n",
    "\n",
    "\n",
    "thistuple = (\"apple\", \"banana\", \"cherry\")\n",
    "for i in range(len(thistuple)):\n",
    "    print(thistuple[i])"
   ]
  },
  {
   "cell_type": "markdown",
   "id": "0f801a7e-cda4-4cf9-ad29-04b6e50b261b",
   "metadata": {
    "id": "0f801a7e-cda4-4cf9-ad29-04b6e50b261b"
   },
   "source": [
    "## Set\n",
    "\n",
    "- Sets are used to store multiple items in a single variable.\n",
    "- Set is one of 4 built-in data types in Python used to store collections of data, the other 3 are List, Tuple, and Dictionary, all with different qualities and usage.\n",
    "- A set is a collection which is unordered, unchangeable*, and unindexed.\n",
    "- Note: Set items are unchangeable, but you can remove items and add new items.\n"
   ]
  },
  {
   "cell_type": "code",
   "execution_count": null,
   "id": "14c08bac-f514-4f8b-8487-4d5f0d5ac473",
   "metadata": {
    "colab": {
     "base_uri": "https://localhost:8080/"
    },
    "executionInfo": {
     "elapsed": 36,
     "status": "ok",
     "timestamp": 1753975783443,
     "user": {
      "displayName": "Rupak Ghimire",
      "userId": "14487243991408801434"
     },
     "user_tz": -345
    },
    "id": "14c08bac-f514-4f8b-8487-4d5f0d5ac473",
    "outputId": "1c37f77b-8089-4c1a-d1a2-f134b31b5cda"
   },
   "outputs": [
    {
     "name": "stdout",
     "output_type": "stream",
     "text": [
      "{'apple', 'banana', 'cherry'}\n"
     ]
    }
   ],
   "source": [
    "thisset = {\"apple\", \"banana\", \"cherry\", \"apple\"}\n",
    "\n",
    "print(thisset)"
   ]
  },
  {
   "cell_type": "code",
   "execution_count": null,
   "id": "0358a5bb-da24-479b-be51-eac8fc28b680",
   "metadata": {
    "colab": {
     "base_uri": "https://localhost:8080/"
    },
    "executionInfo": {
     "elapsed": 31,
     "status": "ok",
     "timestamp": 1753975783444,
     "user": {
      "displayName": "Rupak Ghimire",
      "userId": "14487243991408801434"
     },
     "user_tz": -345
    },
    "id": "0358a5bb-da24-479b-be51-eac8fc28b680",
    "outputId": "6a9d6f1d-b191-45ab-c90b-3383f0f2d785"
   },
   "outputs": [
    {
     "name": "stdout",
     "output_type": "stream",
     "text": [
      "apple\n",
      "banana\n",
      "cherry\n"
     ]
    }
   ],
   "source": [
    "thisset = {\"apple\", \"banana\", \"cherry\"}\n",
    "\n",
    "for x in thisset:\n",
    "    print(x)"
   ]
  },
  {
   "cell_type": "markdown",
   "id": "51ff3477-edbc-48b1-ba05-b78f298792e0",
   "metadata": {
    "id": "51ff3477-edbc-48b1-ba05-b78f298792e0"
   },
   "source": [
    "## Dictionaries\n",
    "\n",
    "- Dictionaries are used to store data values in key:value pairs.\n",
    "- A dictionary is a collection which is ordered*, changeable and do not allow duplicates.\n",
    "- As of Python version 3.7, dictionaries are ordered. In Python 3.6 and earlier, dictionaries are unordered.\n",
    "- Dictionaries are written with curly brackets, and have keys and values:"
   ]
  },
  {
   "cell_type": "code",
   "execution_count": null,
   "id": "79d66e37-9686-4e5d-9a65-a8e554d3f756",
   "metadata": {
    "colab": {
     "base_uri": "https://localhost:8080/"
    },
    "executionInfo": {
     "elapsed": 24,
     "status": "ok",
     "timestamp": 1753975783444,
     "user": {
      "displayName": "Rupak Ghimire",
      "userId": "14487243991408801434"
     },
     "user_tz": -345
    },
    "id": "79d66e37-9686-4e5d-9a65-a8e554d3f756",
    "outputId": "08dc13d3-45bb-4ced-b486-52b4c9ef8b43"
   },
   "outputs": [
    {
     "name": "stdout",
     "output_type": "stream",
     "text": [
      "{'brand': 'Ford', 'model': 'Mustang', 'year': 1964}\n"
     ]
    }
   ],
   "source": [
    "thisdict =\t{\n",
    "  \"brand\": \"Ford\",\n",
    "  \"model\": \"Mustang\",\n",
    "  \"year\": 1964\n",
    "}\n",
    "print(thisdict)"
   ]
  },
  {
   "cell_type": "code",
   "execution_count": null,
   "id": "feae2728-3f8f-4460-ae86-ca3146ac08a5",
   "metadata": {
    "colab": {
     "base_uri": "https://localhost:8080/"
    },
    "executionInfo": {
     "elapsed": 48,
     "status": "ok",
     "timestamp": 1753975783474,
     "user": {
      "displayName": "Rupak Ghimire",
      "userId": "14487243991408801434"
     },
     "user_tz": -345
    },
    "id": "feae2728-3f8f-4460-ae86-ca3146ac08a5",
    "outputId": "cc5ec903-2e45-446e-d511-f904113e9d41"
   },
   "outputs": [
    {
     "name": "stdout",
     "output_type": "stream",
     "text": [
      "{'brand': 'Ford', 'model': 'Mustang', 'year': 2020}\n",
      "3\n"
     ]
    }
   ],
   "source": [
    "# Duplicate values will overwrite existing values:\n",
    "thisdict = {\n",
    "  \"brand\": \"Ford\",\n",
    "  \"model\": \"Mustang\",\n",
    "  \"year\": 1964,\n",
    "  \"year\": 2020\n",
    "}\n",
    "print(thisdict)\n",
    "\n",
    "# length\n",
    "print(len(thisdict))"
   ]
  },
  {
   "cell_type": "code",
   "execution_count": null,
   "id": "9114ad41-d282-48f8-9e22-cf0c56e410ba",
   "metadata": {
    "colab": {
     "base_uri": "https://localhost:8080/"
    },
    "executionInfo": {
     "elapsed": 19,
     "status": "ok",
     "timestamp": 1753975783475,
     "user": {
      "displayName": "Rupak Ghimire",
      "userId": "14487243991408801434"
     },
     "user_tz": -345
    },
    "id": "9114ad41-d282-48f8-9e22-cf0c56e410ba",
    "outputId": "ad19ccbf-d7e0-4899-c83c-0efc2594ccc5"
   },
   "outputs": [
    {
     "data": {
      "text/plain": [
       "{'brand': 'Ford',\n",
       " 'electric': False,\n",
       " 'year': 1964,\n",
       " 'colors': ['red', 'white', 'blue']}"
      ]
     },
     "execution_count": 41,
     "metadata": {},
     "output_type": "execute_result"
    }
   ],
   "source": [
    "# String, int, boolean, and list data types:\n",
    "thisdict = {\n",
    "  \"brand\": \"Ford\",\n",
    "  \"electric\": False,\n",
    "  \"year\": 1964,\n",
    "  \"colors\": [\"red\", \"white\", \"blue\"]\n",
    "}\n",
    "thisdict"
   ]
  },
  {
   "cell_type": "markdown",
   "id": "1d73c0e7-3c33-4d90-997b-cd4919730f67",
   "metadata": {
    "id": "1d73c0e7-3c33-4d90-997b-cd4919730f67"
   },
   "source": [
    "## Python Functions\n",
    "\n",
    "- A function is a block of code which only runs when it is called.\n",
    "- You can pass data, known as parameters, into a function.\n",
    "- A function can return data as a result."
   ]
  },
  {
   "cell_type": "code",
   "execution_count": null,
   "id": "dac6d112-9310-411b-81ad-0cecba45f7ff",
   "metadata": {
    "executionInfo": {
     "elapsed": 18,
     "status": "ok",
     "timestamp": 1753975783480,
     "user": {
      "displayName": "Rupak Ghimire",
      "userId": "14487243991408801434"
     },
     "user_tz": -345
    },
    "id": "dac6d112-9310-411b-81ad-0cecba45f7ff"
   },
   "outputs": [],
   "source": [
    "#In Python a function is defined using the def keyword:\n",
    "\n",
    "def my_function():\n",
    "    print(\"Hello from a function\")\n"
   ]
  },
  {
   "cell_type": "code",
   "execution_count": null,
   "id": "673796d4-44d0-4108-a2cd-3dbf62c88223",
   "metadata": {
    "colab": {
     "base_uri": "https://localhost:8080/"
    },
    "executionInfo": {
     "elapsed": 17,
     "status": "ok",
     "timestamp": 1753975783481,
     "user": {
      "displayName": "Rupak Ghimire",
      "userId": "14487243991408801434"
     },
     "user_tz": -345
    },
    "id": "673796d4-44d0-4108-a2cd-3dbf62c88223",
    "outputId": "55a6fb3a-3b79-4bc4-9bfd-429d4236c29c"
   },
   "outputs": [
    {
     "name": "stdout",
     "output_type": "stream",
     "text": [
      "Hello from a function\n"
     ]
    }
   ],
   "source": [
    "my_function()"
   ]
  },
  {
   "cell_type": "code",
   "execution_count": null,
   "id": "6eccf234-bba0-45ca-9b7a-27ec868c7da4",
   "metadata": {
    "colab": {
     "base_uri": "https://localhost:8080/"
    },
    "executionInfo": {
     "elapsed": 11,
     "status": "ok",
     "timestamp": 1753975783481,
     "user": {
      "displayName": "Rupak Ghimire",
      "userId": "14487243991408801434"
     },
     "user_tz": -345
    },
    "id": "6eccf234-bba0-45ca-9b7a-27ec868c7da4",
    "outputId": "2a57cc54-e03a-4eb2-f6b2-e5977ab29d61"
   },
   "outputs": [
    {
     "name": "stdout",
     "output_type": "stream",
     "text": [
      "Emil Refsnes\n",
      "Tobias Refsnes\n",
      "Linus Refsnes\n"
     ]
    }
   ],
   "source": [
    "#Arguments\n",
    "# Information can be passed into functions as arguments.\n",
    "# Arguments are specified after the function name, inside the parentheses. You can add as many arguments as you want, just separate them with a comma.\n",
    "\n",
    "def my_function(fname):\n",
    "    print(fname + \" Refsnes\")\n",
    "\n",
    "my_function(\"Emil\")\n",
    "my_function(\"Tobias\")\n",
    "my_function(\"Linus\")"
   ]
  },
  {
   "cell_type": "markdown",
   "id": "8207a7ed-47db-4ccf-9384-e7accff66342",
   "metadata": {
    "id": "8207a7ed-47db-4ccf-9384-e7accff66342"
   },
   "source": [
    "## File handeling\n",
    "\n",
    "Python has several functions for creating, reading, updating, and deleting files.\n",
    "File Handling\n",
    "\n",
    "The key function for working with files in Python is the open() function.\n",
    "The open() function takes two parameters; filename, and mode.\n",
    "\n",
    "There are four different methods (modes) for opening a file:\n",
    "\n",
    "    \"r\" - Read - Default value. Opens a file for reading, error if the file does not exist\n",
    "    \"a\" - Append - Opens a file for appending, creates the file if it does not exist\n",
    "    \"w\" - Write - Opens a file for writing, creates the file if it does not exist\n",
    "    \"x\" - Create - Creates the specified file, returns an error if the file exists\n",
    "\n",
    "In addition you can specify if the file should be handled as binary or text mode\n",
    "\n",
    "    \"t\" - Text - Default value. Text mode\n",
    "    \"b\" - Binary - Binary mode (e.g. images)\n",
    "\n",
    "Syntax\n",
    "\n",
    "To open a file for reading it is enough to specify the name of the file:\n",
    "`f = open(\"demofile.txt\")`\n",
    "\n",
    "The code above is the same as:\n",
    "`f = open(\"demofile.txt\", \"rt\")`"
   ]
  },
  {
   "cell_type": "code",
   "execution_count": 10,
   "id": "3e7d9f9f-3089-4fba-97e7-0e3d9db244fb",
   "metadata": {
    "colab": {
     "base_uri": "https://localhost:8080/"
    },
    "executionInfo": {
     "elapsed": 14,
     "status": "ok",
     "timestamp": 1753975783489,
     "user": {
      "displayName": "Rupak Ghimire",
      "userId": "14487243991408801434"
     },
     "user_tz": -345
    },
    "id": "3e7d9f9f-3089-4fba-97e7-0e3d9db244fb",
    "outputId": "7c370703-1d66-4010-9fad-60202afe1b1f"
   },
   "outputs": [
    {
     "name": "stdout",
     "output_type": "stream",
     "text": [
      "धनुषाकी आरती साहको हत्याको न्यायिक छानबिन र दोषीमाथि कारबाहीको माग राखेर\n",
      "गत असार १ देखि राजधानीको माइतीघरमा\n",
      "धर्ना बसेका विनोद साहको परिवारले थुप्रै सास्ती खेप्नुपरेको छ ।\n",
      "एकसरो लुगाबाहेक केही छैन । बिहान र बेलुका महाँकाल युवा समूहले खाना सहयोग\n",
      "गरे पनि दिउँसो भोकै बस्छन् । धर्ना बसेदेखि नुहाउन पाएका छैनन् । उनी मात्रै होइन,\n",
      "माइतीघरमा धर्ना बस्ने सबैको यस्तै हो । हुनेले पानी किनेर खान्छन्,\n",
      "नहुनेहरू तिर्खाएरै बसेका छन् ।\n",
      "----------\n",
      "धनुषा\n",
      "----------\n",
      "धनुषाकी आरती साहको हत्याको न्यायिक छानबिन र दोषीमाथि कारबाहीको माग राखेर\n",
      "\n",
      "----------\n",
      "धनुषाकी आरती साहको हत्याको न्यायिक छानबिन र दोषीमाथि कारबाहीको माग राखेर\n",
      "\n",
      "गत असार १ देखि राजधानीको माइतीघरमा\n",
      "\n",
      "धर्ना बसेका विनोद साहको परिवारले थुप्रै सास्ती खेप्नुपरेको छ ।\n",
      "\n",
      "एकसरो लुगाबाहेक केही छैन । बिहान र बेलुका महाँकाल युवा समूहले खाना सहयोग\n",
      "\n",
      "गरे पनि दिउँसो भोकै बस्छन् । धर्ना बसेदेखि नुहाउन पाएका छैनन् । उनी मात्रै होइन,\n",
      "\n",
      "माइतीघरमा धर्ना बस्ने सबैको यस्तै हो । हुनेले पानी किनेर खान्छन्,\n",
      "\n",
      "नहुनेहरू तिर्खाएरै बसेका छन् ।\n",
      "----------\n",
      "धनुषाकी आरती साहको हत्याको न्यायिक छानबिन र दोषीमाथि कारबाहीको माग राखेर\n",
      "\n"
     ]
    }
   ],
   "source": [
    "# crete file:\n",
    "#    Open the file \"demofile2.txt\" and append content to the file:\n",
    "f = open(\"demofile.txt\", \"a\")\n",
    "f.write(\"\"\"धनुषाकी आरती साहको हत्याको न्यायिक छानबिन र दोषीमाथि कारबाहीको माग राखेर\n",
    "गत असार १ देखि राजधानीको माइतीघरमा\n",
    "धर्ना बसेका विनोद साहको परिवारले थुप्रै सास्ती खेप्नुपरेको छ ।\n",
    "एकसरो लुगाबाहेक केही छैन । बिहान र बेलुका महाँकाल युवा समूहले खाना सहयोग\n",
    "गरे पनि दिउँसो भोकै बस्छन् । धर्ना बसेदेखि नुहाउन पाएका छैनन् । उनी मात्रै होइन,\n",
    "माइतीघरमा धर्ना बस्ने सबैको यस्तै हो । हुनेले पानी किनेर खान्छन्,\n",
    "नहुनेहरू तिर्खाएरै बसेका छन् ।\"\"\")\n",
    "f.close()\n",
    "# read file\n",
    "\n",
    "f = open(\"demofile.txt\", \"r\")\n",
    "print(f.read())\n",
    "\n",
    "print(\"-\"*10)\n",
    "# Return the 5 first characters of the file:\n",
    "f = open(\"demofile.txt\", \"r\")\n",
    "print(f.read(5))\n",
    "\n",
    "print(\"-\"*10)\n",
    "\n",
    "# read line\n",
    "f = open(\"demofile.txt\", \"r\")\n",
    "print(f.readline())\n",
    "print(\"-\"*10)\n",
    "\n",
    "# Loop through the file line by line:\n",
    "f = open(\"demofile.txt\", \"r\")\n",
    "for x in f:\n",
    "    print(x)\n",
    "print(\"-\"*10)\n",
    "\n",
    "# Close the file when you are finish with it:\n",
    "f = open(\"demofile.txt\", \"r\")\n",
    "print(f.readline())\n",
    "f.close()"
   ]
  },
  {
   "cell_type": "code",
   "execution_count": 11,
   "id": "f45606ce-f122-414d-b90a-3d3cf8c7725d",
   "metadata": {
    "colab": {
     "base_uri": "https://localhost:8080/"
    },
    "executionInfo": {
     "elapsed": 18,
     "status": "ok",
     "timestamp": 1753975783509,
     "user": {
      "displayName": "Rupak Ghimire",
      "userId": "14487243991408801434"
     },
     "user_tz": -345
    },
    "id": "f45606ce-f122-414d-b90a-3d3cf8c7725d",
    "outputId": "ee7a78c0-bbbe-4985-b523-e2cdf3ea8b3f"
   },
   "outputs": [
    {
     "name": "stdout",
     "output_type": "stream",
     "text": [
      "Now the file has more content!\n"
     ]
    }
   ],
   "source": [
    "# crete file:\n",
    "#    Open the file \"demofile2.txt\" and append content to the file:\n",
    "f = open(\"demofile2.txt\", \"a\")\n",
    "f.write(\"Now the file has more content!\")\n",
    "f.close()\n",
    "\n",
    "#open and read the file after the appending:\n",
    "f = open(\"demofile2.txt\", \"r\")\n",
    "print(f.read())"
   ]
  },
  {
   "cell_type": "code",
   "execution_count": null,
   "id": "88266e21-4d3c-4fbc-9f7b-b41a306daa2d",
   "metadata": {
    "executionInfo": {
     "elapsed": 3,
     "status": "ok",
     "timestamp": 1753975783510,
     "user": {
      "displayName": "Rupak Ghimire",
      "userId": "14487243991408801434"
     },
     "user_tz": -345
    },
    "id": "88266e21-4d3c-4fbc-9f7b-b41a306daa2d"
   },
   "outputs": [],
   "source": [
    "# remove file: Remove the file \"demofile.txt\":\n",
    "import os\n",
    "os.remove(\"demofile.txt\")"
   ]
  }
 ],
 "metadata": {
  "colab": {
   "provenance": []
  },
  "kernelspec": {
   "display_name": "Python 3",
   "language": "python",
   "name": "python3"
  },
  "language_info": {
   "codemirror_mode": {
    "name": "ipython",
    "version": 3
   },
   "file_extension": ".py",
   "mimetype": "text/x-python",
   "name": "python",
   "nbconvert_exporter": "python",
   "pygments_lexer": "ipython3",
   "version": "3.10.12"
  }
 },
 "nbformat": 4,
 "nbformat_minor": 5
}
