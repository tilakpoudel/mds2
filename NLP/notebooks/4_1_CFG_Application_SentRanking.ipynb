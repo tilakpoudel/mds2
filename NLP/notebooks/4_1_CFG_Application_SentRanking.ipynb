{
  "cells": [
    {
      "cell_type": "markdown",
      "metadata": {
        "id": "XRkxiwsdeSGP"
      },
      "source": [
        "## Lab: Grammar-Aware Re-Ranking generated text with a PCFG\n",
        "\n",
        "Objective\n",
        "- Build and parse with a small PCFG for Nepali SOV word order.\n",
        "- Compute sentence log-probabilities under a PCFG.\n",
        "- Re-rank the best hypothesis"
      ]
    },
    {
      "cell_type": "markdown",
      "metadata": {
        "id": "jp4joql5qspZ"
      },
      "source": [
        "### Setup"
      ]
    },
    {
      "cell_type": "code",
      "execution_count": 1,
      "metadata": {
        "colab": {
          "base_uri": "https://localhost:8080/"
        },
        "id": "rc_30OYmePvA",
        "outputId": "44f95be4-bdcb-4b72-e950-42a250614c4c"
      },
      "outputs": [
        {
          "name": "stdout",
          "output_type": "stream",
          "text": [
            "NLTK version: 3.9.1\n"
          ]
        }
      ],
      "source": [
        "import math\n",
        "from typing import List, Dict, Tuple\n",
        "import nltk\n",
        "from nltk import PCFG, Nonterminal\n",
        "from nltk.parse import ViterbiParser\n",
        "\n",
        "print(\"NLTK version:\", nltk.__version__)"
      ]
    },
    {
      "cell_type": "markdown",
      "metadata": {
        "id": "Jy6iJ01FftqN"
      },
      "source": [
        "### Define the tiny PCFG\n",
        "\n",
        "Encode a minimal SOV grammar with postpositions (ergative “-ले”, dative “लाई”). Probabilities are toy values but plausible."
      ]
    },
    {
      "cell_type": "code",
      "execution_count": 3,
      "metadata": {
        "id": "0DlSqaAkf4Hl"
      },
      "outputs": [],
      "source": [
        "grammar_txt = r\"\"\"\n",
        "S -> NPERG NPACC V [1.0]\n",
        "\n",
        "# Noun phrases\n",
        "NPERG -> PRON_ERG [0.6] | NERG [0.4]\n",
        "NPACC -> N [0.6] | N LAI [0.4]\n",
        "\n",
        "# Lexicon (very small for the lab)\n",
        "PRON_ERG -> 'उसले' [0.6] | 'हामीले' [0.4]\n",
        "NERG     -> 'विद्यार्थीले' [0.5] | 'बालकले' [0.5]\n",
        "N        -> 'कुकुर' [0.5] | 'पत्र' [0.5]\n",
        "LAI      -> 'लाई' [1.0]\n",
        "V        -> 'देख्यो' [0.6] | 'ल्यायो' [0.4]\n",
        "\"\"\""
      ]
    },
    {
      "cell_type": "code",
      "execution_count": 4,
      "metadata": {
        "id": "L-l1jwJ3f7Jb"
      },
      "outputs": [],
      "source": [
        "G = PCFG.fromstring(grammar_txt)\n",
        "parser = ViterbiParser(G)"
      ]
    },
    {
      "cell_type": "code",
      "execution_count": null,
      "metadata": {
        "colab": {
          "base_uri": "https://localhost:8080/"
        },
        "id": "XwnLeWyQkFbH",
        "outputId": "0332cc68-8879-4950-c766-4fb3a0f6b5d3"
      },
      "outputs": [],
      "source": [
        "!pip install svgling"
      ]
    },
    {
      "cell_type": "code",
      "execution_count": 6,
      "metadata": {
        "colab": {
          "base_uri": "https://localhost:8080/",
          "height": 227
        },
        "id": "fdsrdV2KjkrQ",
        "outputId": "fd463eb4-5688-4406-d5ad-2e336e0b1bf7"
      },
      "outputs": [
        {
          "name": "stdout",
          "output_type": "stream",
          "text": [
            "['उसले', 'कुकुर', 'देख्यो']\n",
            "(S (NPERG (PRON_ERG उसले)) (NPACC (N कुकुर)) (V देख्यो)) (p=0.0648)\n"
          ]
        },
        {
          "data": {
            "image/svg+xml": [
              "<svg baseProfile=\"full\" height=\"168px\" preserveAspectRatio=\"xMidYMid meet\" style=\"font-family: times, serif; font-weight: normal; font-style: normal; font-size: 16px\" version=\"1.1\" viewBox=\"0,0,200.0,168.0\" width=\"200px\" xmlns=\"http://www.w3.org/2000/svg\" xmlns:ev=\"http://www.w3.org/2001/xml-events\" xmlns:xlink=\"http://www.w3.org/1999/xlink\"><defs /><svg width=\"100%\" x=\"0\" y=\"0px\"><defs /><text text-anchor=\"middle\" x=\"50%\" y=\"16px\">S</text></svg><svg width=\"40%\" x=\"0%\" y=\"48px\"><defs /><svg width=\"100%\" x=\"0\" y=\"0px\"><defs /><text text-anchor=\"middle\" x=\"50%\" y=\"16px\">NPERG</text></svg><svg width=\"100%\" x=\"0%\" y=\"48px\"><defs /><svg width=\"100%\" x=\"0\" y=\"0px\"><defs /><text text-anchor=\"middle\" x=\"50%\" y=\"16px\">PRON_ERG</text></svg><svg width=\"100%\" x=\"0%\" y=\"48px\"><defs /><svg width=\"100%\" x=\"0\" y=\"0px\"><defs /><text text-anchor=\"middle\" x=\"50%\" y=\"16px\">उसले</text></svg></svg><line stroke=\"black\" x1=\"50%\" x2=\"50%\" y1=\"20px\" y2=\"48px\" /></svg><line stroke=\"black\" x1=\"50%\" x2=\"50%\" y1=\"20px\" y2=\"48px\" /></svg><line stroke=\"black\" x1=\"50%\" x2=\"20%\" y1=\"20px\" y2=\"48px\" /><svg width=\"28%\" x=\"40%\" y=\"48px\"><defs /><svg width=\"100%\" x=\"0\" y=\"0px\"><defs /><text text-anchor=\"middle\" x=\"50%\" y=\"16px\">NPACC</text></svg><svg width=\"100%\" x=\"0%\" y=\"48px\"><defs /><svg width=\"100%\" x=\"0\" y=\"0px\"><defs /><text text-anchor=\"middle\" x=\"50%\" y=\"16px\">N</text></svg><svg width=\"100%\" x=\"0%\" y=\"48px\"><defs /><svg width=\"100%\" x=\"0\" y=\"0px\"><defs /><text text-anchor=\"middle\" x=\"50%\" y=\"16px\">कुकुर</text></svg></svg><line stroke=\"black\" x1=\"50%\" x2=\"50%\" y1=\"20px\" y2=\"48px\" /></svg><line stroke=\"black\" x1=\"50%\" x2=\"50%\" y1=\"20px\" y2=\"48px\" /></svg><line stroke=\"black\" x1=\"50%\" x2=\"54%\" y1=\"20px\" y2=\"48px\" /><svg width=\"32%\" x=\"68%\" y=\"48px\"><defs /><svg width=\"100%\" x=\"0\" y=\"0px\"><defs /><text text-anchor=\"middle\" x=\"50%\" y=\"16px\">V</text></svg><svg width=\"100%\" x=\"0%\" y=\"48px\"><defs /><svg width=\"100%\" x=\"0\" y=\"0px\"><defs /><text text-anchor=\"middle\" x=\"50%\" y=\"16px\">देख्यो</text></svg></svg><line stroke=\"black\" x1=\"50%\" x2=\"50%\" y1=\"20px\" y2=\"48px\" /></svg><line stroke=\"black\" x1=\"50%\" x2=\"84%\" y1=\"20px\" y2=\"48px\" /></svg>"
            ],
            "text/plain": [
              "ProbabilisticTree('S', [ProbabilisticTree('NPERG', [ProbabilisticTree('PRON_ERG', ['उसले']) (p=0.6)]) (p=0.36), ProbabilisticTree('NPACC', [ProbabilisticTree('N', ['कुकुर']) (p=0.5)]) (p=0.3), ProbabilisticTree('V', ['देख्यो']) (p=0.6)]) (p=0.0648)"
            ]
          },
          "execution_count": 6,
          "metadata": {},
          "output_type": "execute_result"
        }
      ],
      "source": [
        "sent = \"उसले कुकुर देख्यो\"\n",
        "tokens = sent.split()\n",
        "print(tokens)\n",
        "parsed = list(parser.parse(tokens))\n",
        "print(parsed[0])\n",
        "parsed[0]"
      ]
    },
    {
      "cell_type": "markdown",
      "metadata": {
        "id": "7K-VHY_dgFZ9"
      },
      "source": [
        "### Compute the log prob\n",
        "\n",
        "Return the best (Viterbi) parse log-probability under the PCFG in natural log.\n",
        "\n",
        "\n",
        "If unparseable, return a large negative penalty."
      ]
    },
    {
      "cell_type": "code",
      "execution_count": 10,
      "metadata": {
        "id": "qiWa9uiAgLfp"
      },
      "outputs": [],
      "source": [
        "def pcfg_logprob(tokens):\n",
        "    try:\n",
        "        parses = list(parser.parse(tokens))\n",
        "        # print(parses[0])\n",
        "        if not parses:\n",
        "            return -1e9\n",
        "        return parses[0].logprob()\n",
        "    except ValueError:\n",
        "        # thrown if some token is out of the grammar's vocabulary\n",
        "        return -1e9"
      ]
    },
    {
      "cell_type": "code",
      "execution_count": 12,
      "metadata": {
        "colab": {
          "base_uri": "https://localhost:8080/"
        },
        "id": "X9p_TgXKh6Ff",
        "outputId": "64375f7c-c427-4856-e24d-aebd0afd6c00"
      },
      "outputs": [
        {
          "data": {
            "text/plain": [
              "-3.9478623766648253"
            ]
          },
          "execution_count": 12,
          "metadata": {},
          "output_type": "execute_result"
        }
      ],
      "source": [
        "pcfg_logprob(\"उसले कुकुर देख्यो\".split())"
      ]
    },
    {
      "cell_type": "code",
      "execution_count": 13,
      "metadata": {
        "colab": {
          "base_uri": "https://localhost:8080/"
        },
        "id": "n5ybq94ogZwZ",
        "outputId": "7322c580-3222-45b5-c3b3-30cdec3e3048"
      },
      "outputs": [
        {
          "name": "stdout",
          "output_type": "stream",
          "text": [
            "उसले कुकुर देख्यो => pcfg_logprob=-3.9478623766648253\n",
            "हामीले पत्र ल्यायो => pcfg_logprob=-5.1177873781071375\n",
            "उसले कुकुर लाई ल्यायो => pcfg_logprob=-5.1177873781071375\n",
            "कुकुर उसले देख्यो => pcfg_logprob=-1000000000.0\n"
          ]
        }
      ],
      "source": [
        "examples = [\n",
        "    \"उसले कुकुर देख्यो\",\n",
        "    \"हामीले पत्र ल्यायो\",\n",
        "    \"उसले कुकुर लाई ल्यायो\",   # NPACC -> N LAI (OK)\n",
        "    \"कुकुर उसले देख्यो\",       # OSV (should be penalized / often unparseable)\n",
        "]\n",
        "for s in examples:\n",
        "    print(f\"{s} => pcfg_logprob={pcfg_logprob(s.split())}\")"
      ]
    },
    {
      "cell_type": "markdown",
      "metadata": {
        "id": "shQpW8hhlFp9"
      },
      "source": [
        "### Re-Rank Generated Candidates\n",
        "\n",
        "We’ll simulate a generator (LLM or simple LM) that provides multiple candidates and an internal model log-prob for each. The PCFG will provide a grammar log-prob, and we’ll combine them."
      ]
    },
    {
      "cell_type": "code",
      "execution_count": 14,
      "metadata": {
        "id": "GgHHcupjlMxr"
      },
      "outputs": [],
      "source": [
        "Dataset = []\n",
        "\n",
        "data: Dataset = [\n",
        "    {\n",
        "        \"prompt\": \"Describe who saw the dog (SOV).\",\n",
        "        \"candidates\": [\n",
        "            {\"text\": \"उसले कुकुर देख्यो\",        \"model_logp\": -5.10},\n",
        "            {\"text\": \"कुकुर उसले देख्यो\",        \"model_logp\": -4.90},  # better model score, wrong order\n",
        "            {\"text\": \"उसले कुकुर लाई देख्यो\",    \"model_logp\": -5.00},  # grammatical with dative\n",
        "        ],\n",
        "    },\n",
        "    {\n",
        "        \"prompt\": \"Who brought the letter (SOV)?\",\n",
        "        \"candidates\": [\n",
        "            {\"text\": \"हामीले पत्र ल्यायो\",        \"model_logp\": -6.00},\n",
        "            {\"text\": \"पत्र हामीले ल्यायो\",        \"model_logp\": -5.60},  # OSV\n",
        "            {\"text\": \"हामीले पत्र लाई ल्यायो\",    \"model_logp\": -5.70},  # OK, with dative object\n",
        "        ],\n",
        "    },\n",
        "    {\n",
        "        \"prompt\": \"Who saw the letter (SOV)?\",\n",
        "        \"candidates\": [\n",
        "            {\"text\": \"विद्यार्थीले पत्र देख्यो\",   \"model_logp\": -5.90},\n",
        "            {\"text\": \"पत्र विद्यार्थीले देख्यो\",   \"model_logp\": -5.40},  # OSV\n",
        "            {\"text\": \"विद्यार्थीले पत्र लाई देख्यो\",\"model_logp\": -5.50},  # OK\n",
        "        ],\n",
        "    },\n",
        "]\n"
      ]
    },
    {
      "cell_type": "markdown",
      "metadata": {
        "id": "ucbB9tUdlT_j"
      },
      "source": [
        "**Scoring rule**\n",
        "\n",
        "We combine the generator’s score with a PCFG score:\n",
        "\n",
        "$$Score(candidate) = \\alpha \\times model\\_logp + γ \\times logP_{PCFG}(candidate)$$"
      ]
    },
    {
      "cell_type": "code",
      "execution_count": 17,
      "metadata": {
        "id": "R1WzhqMTly6A"
      },
      "outputs": [],
      "source": [
        "def rank_with_grammar(cands: List[Dict[str, object]], α: float = 1.0, γ: float = 0.2):\n",
        "    \"\"\"\n",
        "    Return candidates sorted by combined score: α * model_logp + γ * pcfg_logprob.\n",
        "    Highest score is best (note: both are log-probs, i.e., negative numbers typically).\n",
        "    \"\"\"\n",
        "    scored = []\n",
        "    for c in cands:\n",
        "        lp_model = float(c[\"model_logp\"])\n",
        "        lp_pcfg  = pcfg_logprob(str(c[\"text\"]).split())\n",
        "        c = dict(c)  # copy\n",
        "        c[\"pcfg_logp\"] = lp_pcfg\n",
        "        c[\"score\"] = α*lp_model + γ*lp_pcfg\n",
        "        scored.append(c)\n",
        "    return sorted(scored, key=lambda d: d[\"score\"], reverse=True)\n",
        "\n",
        "def rank_baseline(cands: List[Dict[str, object]]):\n",
        "    \"\"\"Baseline: choose purely by model log-prob.\"\"\"\n",
        "    return sorted(cands, key=lambda d: d[\"model_logp\"], reverse=True)"
      ]
    },
    {
      "cell_type": "markdown",
      "metadata": {
        "id": "iP0lFzEJl4jL"
      },
      "source": [
        "**Run the experiment**"
      ]
    },
    {
      "cell_type": "code",
      "execution_count": 19,
      "metadata": {
        "colab": {
          "base_uri": "https://localhost:8080/"
        },
        "id": "i-tuUnxWl7eQ",
        "outputId": "848a717a-d248-458e-d445-661e464624e5"
      },
      "outputs": [
        {
          "name": "stdout",
          "output_type": "stream",
          "text": [
            "\n",
            "######################################################################\n",
            "# Gamma = 0.0\n",
            "######################################################################\n",
            "\n",
            "=== Baseline (model only) ===\n",
            "Prompt: Describe who saw the dog (SOV).\n",
            " 1. कुकुर उसले देख्यो  | model_logp=-4.90  | pcfg_logp=nan  | score=nan\n",
            " 2. उसले कुकुर लाई देख्यो  | model_logp=-5.00  | pcfg_logp=nan  | score=nan\n",
            " 3. उसले कुकुर देख्यो  | model_logp=-5.10  | pcfg_logp=nan  | score=nan\n",
            "\n",
            "=== With PCFG (γ=0.0) ===\n",
            "Prompt: Describe who saw the dog (SOV).\n",
            " 1. कुकुर उसले देख्यो  | model_logp=-4.90  | pcfg_logp=-1000000000.00  | score=-4.90\n",
            " 2. उसले कुकुर लाई देख्यो  | model_logp=-5.00  | pcfg_logp=-4.53  | score=-5.00\n",
            " 3. उसले कुकुर देख्यो  | model_logp=-5.10  | pcfg_logp=-3.95  | score=-5.10\n",
            "\n",
            "=== Baseline (model only) ===\n",
            "Prompt: Who brought the letter (SOV)?\n",
            " 1. पत्र हामीले ल्यायो  | model_logp=-5.60  | pcfg_logp=nan  | score=nan\n",
            " 2. हामीले पत्र लाई ल्यायो  | model_logp=-5.70  | pcfg_logp=nan  | score=nan\n",
            " 3. हामीले पत्र ल्यायो  | model_logp=-6.00  | pcfg_logp=nan  | score=nan\n",
            "\n",
            "=== With PCFG (γ=0.0) ===\n",
            "Prompt: Who brought the letter (SOV)?\n",
            " 1. पत्र हामीले ल्यायो  | model_logp=-5.60  | pcfg_logp=-1000000000.00  | score=-5.60\n",
            " 2. हामीले पत्र लाई ल्यायो  | model_logp=-5.70  | pcfg_logp=-5.70  | score=-5.70\n",
            " 3. हामीले पत्र ल्यायो  | model_logp=-6.00  | pcfg_logp=-5.12  | score=-6.00\n",
            "\n",
            "=== Baseline (model only) ===\n",
            "Prompt: Who saw the letter (SOV)?\n",
            " 1. पत्र विद्यार्थीले देख्यो  | model_logp=-5.40  | pcfg_logp=nan  | score=nan\n",
            " 2. विद्यार्थीले पत्र लाई देख्यो  | model_logp=-5.50  | pcfg_logp=nan  | score=nan\n",
            " 3. विद्यार्थीले पत्र देख्यो  | model_logp=-5.90  | pcfg_logp=nan  | score=nan\n",
            "\n",
            "=== With PCFG (γ=0.0) ===\n",
            "Prompt: Who saw the letter (SOV)?\n",
            " 1. पत्र विद्यार्थीले देख्यो  | model_logp=-5.40  | pcfg_logp=-1000000000.00  | score=-5.40\n",
            " 2. विद्यार्थीले पत्र लाई देख्यो  | model_logp=-5.50  | pcfg_logp=-5.38  | score=-5.50\n",
            " 3. विद्यार्थीले पत्र देख्यो  | model_logp=-5.90  | pcfg_logp=-4.80  | score=-5.90\n",
            "\n",
            "######################################################################\n",
            "# Gamma = 0.1\n",
            "######################################################################\n",
            "\n",
            "=== Baseline (model only) ===\n",
            "Prompt: Describe who saw the dog (SOV).\n",
            " 1. कुकुर उसले देख्यो  | model_logp=-4.90  | pcfg_logp=nan  | score=nan\n",
            " 2. उसले कुकुर लाई देख्यो  | model_logp=-5.00  | pcfg_logp=nan  | score=nan\n",
            " 3. उसले कुकुर देख्यो  | model_logp=-5.10  | pcfg_logp=nan  | score=nan\n",
            "\n",
            "=== With PCFG (γ=0.1) ===\n",
            "Prompt: Describe who saw the dog (SOV).\n",
            " 1. उसले कुकुर लाई देख्यो  | model_logp=-5.00  | pcfg_logp=-4.53  | score=-5.45\n",
            " 2. उसले कुकुर देख्यो  | model_logp=-5.10  | pcfg_logp=-3.95  | score=-5.49\n",
            " 3. कुकुर उसले देख्यो  | model_logp=-4.90  | pcfg_logp=-1000000000.00  | score=-100000004.90\n",
            "\n",
            "=== Baseline (model only) ===\n",
            "Prompt: Who brought the letter (SOV)?\n",
            " 1. पत्र हामीले ल्यायो  | model_logp=-5.60  | pcfg_logp=nan  | score=nan\n",
            " 2. हामीले पत्र लाई ल्यायो  | model_logp=-5.70  | pcfg_logp=nan  | score=nan\n",
            " 3. हामीले पत्र ल्यायो  | model_logp=-6.00  | pcfg_logp=nan  | score=nan\n",
            "\n",
            "=== With PCFG (γ=0.1) ===\n",
            "Prompt: Who brought the letter (SOV)?\n",
            " 1. हामीले पत्र लाई ल्यायो  | model_logp=-5.70  | pcfg_logp=-5.70  | score=-6.27\n",
            " 2. हामीले पत्र ल्यायो  | model_logp=-6.00  | pcfg_logp=-5.12  | score=-6.51\n",
            " 3. पत्र हामीले ल्यायो  | model_logp=-5.60  | pcfg_logp=-1000000000.00  | score=-100000005.60\n",
            "\n",
            "=== Baseline (model only) ===\n",
            "Prompt: Who saw the letter (SOV)?\n",
            " 1. पत्र विद्यार्थीले देख्यो  | model_logp=-5.40  | pcfg_logp=nan  | score=nan\n",
            " 2. विद्यार्थीले पत्र लाई देख्यो  | model_logp=-5.50  | pcfg_logp=nan  | score=nan\n",
            " 3. विद्यार्थीले पत्र देख्यो  | model_logp=-5.90  | pcfg_logp=nan  | score=nan\n",
            "\n",
            "=== With PCFG (γ=0.1) ===\n",
            "Prompt: Who saw the letter (SOV)?\n",
            " 1. विद्यार्थीले पत्र लाई देख्यो  | model_logp=-5.50  | pcfg_logp=-5.38  | score=-6.04\n",
            " 2. विद्यार्थीले पत्र देख्यो  | model_logp=-5.90  | pcfg_logp=-4.80  | score=-6.38\n",
            " 3. पत्र विद्यार्थीले देख्यो  | model_logp=-5.40  | pcfg_logp=-1000000000.00  | score=-100000005.40\n",
            "\n",
            "######################################################################\n",
            "# Gamma = 0.2\n",
            "######################################################################\n",
            "\n",
            "=== Baseline (model only) ===\n",
            "Prompt: Describe who saw the dog (SOV).\n",
            " 1. कुकुर उसले देख्यो  | model_logp=-4.90  | pcfg_logp=nan  | score=nan\n",
            " 2. उसले कुकुर लाई देख्यो  | model_logp=-5.00  | pcfg_logp=nan  | score=nan\n",
            " 3. उसले कुकुर देख्यो  | model_logp=-5.10  | pcfg_logp=nan  | score=nan\n",
            "\n",
            "=== With PCFG (γ=0.2) ===\n",
            "Prompt: Describe who saw the dog (SOV).\n",
            " 1. उसले कुकुर देख्यो  | model_logp=-5.10  | pcfg_logp=-3.95  | score=-5.89\n",
            " 2. उसले कुकुर लाई देख्यो  | model_logp=-5.00  | pcfg_logp=-4.53  | score=-5.91\n",
            " 3. कुकुर उसले देख्यो  | model_logp=-4.90  | pcfg_logp=-1000000000.00  | score=-200000004.90\n",
            "\n",
            "=== Baseline (model only) ===\n",
            "Prompt: Who brought the letter (SOV)?\n",
            " 1. पत्र हामीले ल्यायो  | model_logp=-5.60  | pcfg_logp=nan  | score=nan\n",
            " 2. हामीले पत्र लाई ल्यायो  | model_logp=-5.70  | pcfg_logp=nan  | score=nan\n",
            " 3. हामीले पत्र ल्यायो  | model_logp=-6.00  | pcfg_logp=nan  | score=nan\n",
            "\n",
            "=== With PCFG (γ=0.2) ===\n",
            "Prompt: Who brought the letter (SOV)?\n",
            " 1. हामीले पत्र लाई ल्यायो  | model_logp=-5.70  | pcfg_logp=-5.70  | score=-6.84\n",
            " 2. हामीले पत्र ल्यायो  | model_logp=-6.00  | pcfg_logp=-5.12  | score=-7.02\n",
            " 3. पत्र हामीले ल्यायो  | model_logp=-5.60  | pcfg_logp=-1000000000.00  | score=-200000005.60\n",
            "\n",
            "=== Baseline (model only) ===\n",
            "Prompt: Who saw the letter (SOV)?\n",
            " 1. पत्र विद्यार्थीले देख्यो  | model_logp=-5.40  | pcfg_logp=nan  | score=nan\n",
            " 2. विद्यार्थीले पत्र लाई देख्यो  | model_logp=-5.50  | pcfg_logp=nan  | score=nan\n",
            " 3. विद्यार्थीले पत्र देख्यो  | model_logp=-5.90  | pcfg_logp=nan  | score=nan\n",
            "\n",
            "=== With PCFG (γ=0.2) ===\n",
            "Prompt: Who saw the letter (SOV)?\n",
            " 1. विद्यार्थीले पत्र लाई देख्यो  | model_logp=-5.50  | pcfg_logp=-5.38  | score=-6.58\n",
            " 2. विद्यार्थीले पत्र देख्यो  | model_logp=-5.90  | pcfg_logp=-4.80  | score=-6.86\n",
            " 3. पत्र विद्यार्थीले देख्यो  | model_logp=-5.40  | pcfg_logp=-1000000000.00  | score=-200000005.40\n",
            "\n",
            "######################################################################\n",
            "# Gamma = 0.4\n",
            "######################################################################\n",
            "\n",
            "=== Baseline (model only) ===\n",
            "Prompt: Describe who saw the dog (SOV).\n",
            " 1. कुकुर उसले देख्यो  | model_logp=-4.90  | pcfg_logp=nan  | score=nan\n",
            " 2. उसले कुकुर लाई देख्यो  | model_logp=-5.00  | pcfg_logp=nan  | score=nan\n",
            " 3. उसले कुकुर देख्यो  | model_logp=-5.10  | pcfg_logp=nan  | score=nan\n",
            "\n",
            "=== With PCFG (γ=0.4) ===\n",
            "Prompt: Describe who saw the dog (SOV).\n",
            " 1. उसले कुकुर देख्यो  | model_logp=-5.10  | pcfg_logp=-3.95  | score=-6.68\n",
            " 2. उसले कुकुर लाई देख्यो  | model_logp=-5.00  | pcfg_logp=-4.53  | score=-6.81\n",
            " 3. कुकुर उसले देख्यो  | model_logp=-4.90  | pcfg_logp=-1000000000.00  | score=-400000004.90\n",
            "\n",
            "=== Baseline (model only) ===\n",
            "Prompt: Who brought the letter (SOV)?\n",
            " 1. पत्र हामीले ल्यायो  | model_logp=-5.60  | pcfg_logp=nan  | score=nan\n",
            " 2. हामीले पत्र लाई ल्यायो  | model_logp=-5.70  | pcfg_logp=nan  | score=nan\n",
            " 3. हामीले पत्र ल्यायो  | model_logp=-6.00  | pcfg_logp=nan  | score=nan\n",
            "\n",
            "=== With PCFG (γ=0.4) ===\n",
            "Prompt: Who brought the letter (SOV)?\n",
            " 1. हामीले पत्र लाई ल्यायो  | model_logp=-5.70  | pcfg_logp=-5.70  | score=-7.98\n",
            " 2. हामीले पत्र ल्यायो  | model_logp=-6.00  | pcfg_logp=-5.12  | score=-8.05\n",
            " 3. पत्र हामीले ल्यायो  | model_logp=-5.60  | pcfg_logp=-1000000000.00  | score=-400000005.60\n",
            "\n",
            "=== Baseline (model only) ===\n",
            "Prompt: Who saw the letter (SOV)?\n",
            " 1. पत्र विद्यार्थीले देख्यो  | model_logp=-5.40  | pcfg_logp=nan  | score=nan\n",
            " 2. विद्यार्थीले पत्र लाई देख्यो  | model_logp=-5.50  | pcfg_logp=nan  | score=nan\n",
            " 3. विद्यार्थीले पत्र देख्यो  | model_logp=-5.90  | pcfg_logp=nan  | score=nan\n",
            "\n",
            "=== With PCFG (γ=0.4) ===\n",
            "Prompt: Who saw the letter (SOV)?\n",
            " 1. विद्यार्थीले पत्र लाई देख्यो  | model_logp=-5.50  | pcfg_logp=-5.38  | score=-7.65\n",
            " 2. विद्यार्थीले पत्र देख्यो  | model_logp=-5.90  | pcfg_logp=-4.80  | score=-7.82\n",
            " 3. पत्र विद्यार्थीले देख्यो  | model_logp=-5.40  | pcfg_logp=-1000000000.00  | score=-400000005.40\n"
          ]
        }
      ],
      "source": [
        "def pretty_print(prompt: str, ranked: List[Dict[str, object]], head: str):\n",
        "    print(f\"\\n=== {head} ===\")\n",
        "    print(\"Prompt:\", prompt)\n",
        "    for i, r in enumerate(ranked, 1):\n",
        "        print(f\"{i:>2}. {r['text']}  | model_logp={r['model_logp']:.2f}  \"\n",
        "              f\"| pcfg_logp={r.get('pcfg_logp', float('nan')):.2f}  | score={r.get('score', float('nan')):.2f}\")\n",
        "\n",
        "# Compare baseline vs grammar-aware ranking for γ in {0, 0.1, 0.2, 0.4}\n",
        "gammas = [0.0, 0.1, 0.2, 0.4]\n",
        "for gamma in gammas:\n",
        "    print(\"\\n\" + \"#\"*70)\n",
        "    print(f\"# Gamma = {gamma}\")\n",
        "    print(\"#\"*70)\n",
        "    for item in data:\n",
        "        base = rank_baseline(item[\"candidates\"])\n",
        "        gram = rank_with_grammar(item[\"candidates\"], α=1.0, γ=gamma)\n",
        "        pretty_print(item[\"prompt\"], base, head=\"Baseline (model only)\")\n",
        "        pretty_print(item[\"prompt\"], gram, head=f\"With PCFG (γ={gamma})\")"
      ]
    },
    {
      "cell_type": "markdown",
      "metadata": {},
      "source": [
        "## Assignment\n",
        "Use LLM model to generate the top-n sentences and rank them based on the grammer.\n",
        "\n",
        "Language: English or Nepali\n"
      ]
    }
  ],
  "metadata": {
    "accelerator": "GPU",
    "colab": {
      "gpuType": "T4",
      "provenance": []
    },
    "kernelspec": {
      "display_name": "Python 3",
      "name": "python3"
    },
    "language_info": {
      "codemirror_mode": {
        "name": "ipython",
        "version": 3
      },
      "file_extension": ".py",
      "mimetype": "text/x-python",
      "name": "python",
      "nbconvert_exporter": "python",
      "pygments_lexer": "ipython3",
      "version": "3.10.12"
    }
  },
  "nbformat": 4,
  "nbformat_minor": 0
}
