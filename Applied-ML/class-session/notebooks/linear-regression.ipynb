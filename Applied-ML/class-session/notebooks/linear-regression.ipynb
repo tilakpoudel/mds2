{
 "cells": [
  {
   "cell_type": "markdown",
   "id": "69ba113d",
   "metadata": {},
   "source": [
    "# Linear Regression"
   ]
  },
  {
   "cell_type": "code",
   "execution_count": 19,
   "id": "e4b63333",
   "metadata": {},
   "outputs": [],
   "source": [
    "import numpy as np\n",
    "\n",
    "np.random.seed(10)  # For reproducibility"
   ]
  },
  {
   "cell_type": "code",
   "execution_count": 20,
   "id": "3b0d4bb5",
   "metadata": {},
   "outputs": [
    {
     "name": "stdout",
     "output_type": "stream",
     "text": [
      "<class 'numpy.ndarray'>\n"
     ]
    }
   ],
   "source": [
    "n = 10000000\n",
    "\n",
    "x = np.random.rand(n)\n",
    "y = np.random.rand(n)\n",
    "# print(x)\n",
    "# print(y)\n",
    "print(type(x))"
   ]
  },
  {
   "cell_type": "code",
   "execution_count": 21,
   "id": "cd55d158",
   "metadata": {},
   "outputs": [
    {
     "data": {
      "text/plain": [
       "((10000000,), (10000000,))"
      ]
     },
     "execution_count": 21,
     "metadata": {},
     "output_type": "execute_result"
    }
   ],
   "source": [
    "# Generate 100 random number\n",
    "x.shape, y.shape"
   ]
  },
  {
   "cell_type": "code",
   "execution_count": 22,
   "id": "14fcc182",
   "metadata": {},
   "outputs": [],
   "source": [
    "import time\n",
    "\n",
    "# start_time = time.time()\n",
    "\n",
    "# for i in range(len(x)):\n",
    "#     # print(f\"x[{i}] = {x[i]}\")\n",
    "#     sum = x[i] + y[i]\n",
    "#     # print(f\"sum_{i} = {sum}\")\n",
    "\n",
    "# end_time = time.time()\n",
    "\n",
    "# print(\"Execution time =\", end_time - start_time)"
   ]
  },
  {
   "cell_type": "code",
   "execution_count": 23,
   "id": "dddd4a2d",
   "metadata": {},
   "outputs": [
    {
     "name": "stdout",
     "output_type": "stream",
     "text": [
      "Execution time = 0.0627443790435791\n"
     ]
    }
   ],
   "source": [
    "start_time = time.time()\n",
    "z = np.add(x,y)\n",
    "\n",
    "end_time = time.time()\n",
    "print(\"Execution time =\", end_time - start_time)"
   ]
  },
  {
   "cell_type": "code",
   "execution_count": 24,
   "id": "83ad2138",
   "metadata": {},
   "outputs": [
    {
     "name": "stdout",
     "output_type": "stream",
     "text": [
      "(100,)\n",
      "[217.52965869 255.7476268  377.08385258 323.15310958 371.00022103\n",
      " 269.38712856 339.93005946 371.72708543 311.46864548 229.24484097\n",
      " 205.0759146  371.36856826 265.44667535 325.20838321 351.72210097\n",
      " 277.68723691 369.99576013 243.6492485  237.90149348 245.38729983\n",
      " 309.87967615 341.60016051 321.00739897 261.57213634 391.35762296\n",
      " 381.12754698 351.73940374 237.93478366 267.42991244 387.54217216\n",
      " 339.59724468 265.68019079 371.25705868 245.81613233 241.7074627\n",
      " 251.04254324 385.53718573 383.94944203 265.40050621 205.06724436\n",
      " 337.94097891 331.40062203 235.52617448 265.1551935  289.53388046\n",
      " 297.34687063 255.09999167 217.83760969 295.1635753  337.44118001\n",
      " 215.74377277 243.03153663 331.76250972 249.9651691  401.95101239\n",
      " 269.05609826 321.25652776 385.66540449 283.14364264 291.29178602\n",
      " 269.72795494 235.43296227 333.19081954 237.49238062 253.98516778\n",
      " 361.57959142 327.4924717  397.70894107 387.85853826 287.12223314\n",
      " 269.88490998 299.2627348  321.01540854 395.3478576  329.62181667\n",
      " 277.90246429 255.60527517 323.44000742 321.44920695 273.68388649\n",
      " 241.29840703 235.27289232 393.55827505 233.31898468 249.13207685\n",
      " 213.87126442 243.66618354 377.71165324 297.94830156 273.39252386\n",
      " 215.26222502 209.19628976 297.54963264 355.40134737 367.43954589\n",
      " 357.71291415 285.96068541 291.24961538 237.23319272 245.39790991]\n"
     ]
    }
   ],
   "source": [
    "w = 2\n",
    "b = 5\n",
    "# y = 2x + 5\n",
    "x = np.random.randint(100, 200, 100)\n",
    "random_noise = np.random.rand(100)\n",
    "y = 2 * x + 5 + random_noise\n",
    "\n",
    "print(y.shape)\n",
    "print(y)"
   ]
  },
  {
   "cell_type": "code",
   "execution_count": 25,
   "id": "b33e2b56",
   "metadata": {},
   "outputs": [
    {
     "data": {
      "text/plain": [
       "((100,), (100,))"
      ]
     },
     "execution_count": 25,
     "metadata": {},
     "output_type": "execute_result"
    }
   ],
   "source": [
    "x.shape, y.shape"
   ]
  },
  {
   "cell_type": "code",
   "execution_count": 26,
   "id": "1703cc8d",
   "metadata": {},
   "outputs": [
    {
     "name": "stdout",
     "output_type": "stream",
     "text": [
      "0.5787669992409038 0.2672503772909416\n"
     ]
    }
   ],
   "source": [
    "w1 = np.random.rand()\n",
    "w0 = np.random.rand()\n",
    "\n",
    "print(w1, w0)"
   ]
  },
  {
   "cell_type": "code",
   "execution_count": 27,
   "id": "70f75eef",
   "metadata": {},
   "outputs": [
    {
     "name": "stdout",
     "output_type": "stream",
     "text": [
      "[ 61.6165523   72.61312528 107.91791224  92.29120326 106.18161124\n",
      "  76.66449428  96.92133925 106.18161124  88.81860126  65.08915429\n",
      "  58.1439503  106.18161124  75.50696028  92.86997026 100.39394125\n",
      "  78.97956227 105.60284424  69.14052329  67.40422229  69.71929029\n",
      "  88.23983426  97.50010625  91.71243626  74.34942628 111.96928123\n",
      " 109.07544623 100.39394125  67.40422229  76.08572728 110.81174723\n",
      "  96.92133925  75.50696028 106.18161124  69.71929029  68.56175629\n",
      "  71.45559128 110.23298023 109.65421323  75.50696028  58.1439503\n",
      "  96.34257225  94.60627125  66.82545529  75.50696028  82.45216427\n",
      "  84.76723227  72.61312528  61.6165523   84.18846527  96.34257225\n",
      "  61.0377853   69.14052329  94.60627125  70.87682428 114.86311623\n",
      "  76.66449428  91.71243626 110.23298023  80.71586327  83.03093127\n",
      "  76.66449428  66.82545529  95.18503825  67.40422229  72.03435828\n",
      " 103.28777624  93.44873726 113.70558223 110.81174723  81.87339727\n",
      "  76.66449428  85.34599927  91.71243626 113.12681523  94.02750425\n",
      "  78.97956227  72.61312528  92.29120326  91.71243626  77.82202828\n",
      "  68.56175629  66.82545529 112.54804823  66.24668829  70.87682428\n",
      "  60.4590183   69.14052329 107.91791224  84.76723227  77.82202828\n",
      "  61.0377853   59.3014843   84.76723227 101.55147524 105.02407724\n",
      " 102.13024224  81.29463027  83.03093127  67.40422229  69.71929029]\n"
     ]
    }
   ],
   "source": [
    "y_predicted = w1 * x + w0\n",
    "print(y_predicted)\n"
   ]
  },
  {
   "cell_type": "code",
   "execution_count": 28,
   "id": "565e80f6",
   "metadata": {},
   "outputs": [
    {
     "name": "stdout",
     "output_type": "stream",
     "text": [
      "-0.002130988165178112\n"
     ]
    }
   ],
   "source": [
    "# calculate error\n",
    "error = y_predicted - y\n",
    "print(np.sum(error) / n)"
   ]
  },
  {
   "cell_type": "code",
   "execution_count": 29,
   "id": "53b778ad",
   "metadata": {},
   "outputs": [
    {
     "name": "stdout",
     "output_type": "stream",
     "text": [
      "0.6110616742652591 0.2674634761074594\n"
     ]
    }
   ],
   "source": [
    "# weight updated rule\n",
    "learning_rate = 0.1\n",
    "\n",
    "w1 = w1 - learning_rate * np.dot(error, x) / n\n",
    "w0 = w0 - learning_rate * np.sum(error) / n\n",
    "\n",
    "print(w1, w0)"
   ]
  },
  {
   "cell_type": "code",
   "execution_count": 30,
   "id": "5431fdee",
   "metadata": {},
   "outputs": [
    {
     "data": {
      "text/plain": [
       "-3229467.5024355394"
      ]
     },
     "execution_count": 30,
     "metadata": {},
     "output_type": "execute_result"
    }
   ],
   "source": [
    "np.dot(error, x)"
   ]
  },
  {
   "cell_type": "code",
   "execution_count": null,
   "id": "1e668d03",
   "metadata": {},
   "outputs": [
    {
     "name": "stdout",
     "output_type": "stream",
     "text": [
      "Epoch: 0/100, Average error: 284.5674070041507\n",
      "Epoch: 1/100, Average error: 284.63050006265127\n",
      "Epoch: 2/100, Average error: 284.6936071185009\n",
      "Epoch: 3/100, Average error: 284.75672817480506\n",
      "Epoch: 4/100, Average error: 284.8198632346697\n",
      "Epoch: 5/100, Average error: 284.8830123012016\n",
      "Epoch: 6/100, Average error: 284.9461753775082\n",
      "Epoch: 7/100, Average error: 285.0093524666976\n",
      "Epoch: 8/100, Average error: 285.07254357187844\n",
      "Epoch: 9/100, Average error: 285.13574869616036\n",
      "Epoch: 10/100, Average error: 285.19896784265353\n",
      "Epoch: 11/100, Average error: 285.26220101446876\n",
      "Epoch: 12/100, Average error: 285.3254482147176\n",
      "Epoch: 13/100, Average error: 285.3887094465123\n",
      "Epoch: 14/100, Average error: 285.45198471296584\n",
      "Epoch: 15/100, Average error: 285.51527401719176\n",
      "Epoch: 16/100, Average error: 285.5785773623045\n",
      "Epoch: 17/100, Average error: 285.6418947514189\n",
      "Epoch: 18/100, Average error: 285.7052261876507\n",
      "Epoch: 19/100, Average error: 285.7685716741164\n",
      "Epoch: 20/100, Average error: 285.831931213933\n",
      "Epoch: 21/100, Average error: 285.8953048102182\n",
      "Epoch: 22/100, Average error: 285.9586924660906\n",
      "Epoch: 23/100, Average error: 286.0220941846693\n",
      "Epoch: 24/100, Average error: 286.08550996907405\n",
      "Epoch: 25/100, Average error: 286.1489398224256\n",
      "Epoch: 26/100, Average error: 286.21238374784497\n",
      "Epoch: 27/100, Average error: 286.2758417484542\n",
      "Epoch: 28/100, Average error: 286.33931382737586\n",
      "Epoch: 29/100, Average error: 286.40279998773326\n",
      "Epoch: 30/100, Average error: 286.46630023265044\n",
      "Epoch: 31/100, Average error: 286.52981456525197\n",
      "Epoch: 32/100, Average error: 286.59334298866344\n",
      "Epoch: 33/100, Average error: 286.6568855060108\n",
      "Epoch: 34/100, Average error: 286.7204421204208\n",
      "Epoch: 35/100, Average error: 286.784012835021\n",
      "Epoch: 36/100, Average error: 286.8475976529395\n",
      "Epoch: 37/100, Average error: 286.9111965773052\n",
      "Epoch: 38/100, Average error: 286.9748096112475\n",
      "Epoch: 39/100, Average error: 287.0384367578969\n",
      "Epoch: 40/100, Average error: 287.10207802038417\n",
      "Epoch: 41/100, Average error: 287.16573340184095\n",
      "Epoch: 42/100, Average error: 287.22940290539964\n",
      "Epoch: 43/100, Average error: 287.2930865341931\n",
      "Epoch: 44/100, Average error: 287.35678429135527\n",
      "Epoch: 45/100, Average error: 287.4204961800205\n",
      "Epoch: 46/100, Average error: 287.4842222033237\n",
      "Epoch: 47/100, Average error: 287.547962364401\n",
      "Epoch: 48/100, Average error: 287.61171666638865\n",
      "Epoch: 49/100, Average error: 287.675485112424\n",
      "Epoch: 50/100, Average error: 287.73926770564475\n",
      "Epoch: 51/100, Average error: 287.8030644491896\n",
      "Epoch: 52/100, Average error: 287.8668753461979\n",
      "Epoch: 53/100, Average error: 287.93070039980955\n",
      "Epoch: 54/100, Average error: 287.9945396131653\n",
      "Epoch: 55/100, Average error: 288.05839298940646\n",
      "Epoch: 56/100, Average error: 288.12226053167507\n",
      "Epoch: 57/100, Average error: 288.1861422431139\n",
      "Epoch: 58/100, Average error: 288.2500381268665\n",
      "Epoch: 59/100, Average error: 288.31394818607697\n",
      "Epoch: 60/100, Average error: 288.3778724238902\n",
      "Epoch: 61/100, Average error: 288.4418108434518\n",
      "Epoch: 62/100, Average error: 288.5057634479079\n",
      "Epoch: 63/100, Average error: 288.5697302404055\n",
      "Epoch: 64/100, Average error: 288.6337112240923\n",
      "Epoch: 65/100, Average error: 288.69770640211647\n",
      "Epoch: 66/100, Average error: 288.76171577762744\n",
      "Epoch: 67/100, Average error: 288.82573935377457\n",
      "Epoch: 68/100, Average error: 288.8897771337085\n",
      "Epoch: 69/100, Average error: 288.9538291205803\n",
      "Epoch: 70/100, Average error: 289.01789531754184\n",
      "Epoch: 71/100, Average error: 289.0819757277457\n",
      "Epoch: 72/100, Average error: 289.1460703543451\n",
      "Epoch: 73/100, Average error: 289.210179200494\n",
      "Epoch: 74/100, Average error: 289.2743022693469\n",
      "Epoch: 75/100, Average error: 289.3384395640593\n",
      "Epoch: 76/100, Average error: 289.40259108778724\n",
      "Epoch: 77/100, Average error: 289.4667568436874\n",
      "Epoch: 78/100, Average error: 289.5309368349172\n",
      "Epoch: 79/100, Average error: 289.5951310646349\n",
      "Epoch: 80/100, Average error: 289.65933953599927\n",
      "Epoch: 81/100, Average error: 289.7235622521698\n",
      "Epoch: 82/100, Average error: 289.78779921630684\n",
      "Epoch: 83/100, Average error: 289.85205043157123\n",
      "Epoch: 84/100, Average error: 289.9163159011247\n",
      "Epoch: 85/100, Average error: 289.9805956281295\n",
      "Epoch: 86/100, Average error: 290.04488961574884\n",
      "Epoch: 87/100, Average error: 290.1091978671463\n",
      "Epoch: 88/100, Average error: 290.1735203854865\n",
      "Epoch: 89/100, Average error: 290.23785717393446\n",
      "Epoch: 90/100, Average error: 290.3022082356561\n",
      "Epoch: 91/100, Average error: 290.3665735738179\n",
      "Epoch: 92/100, Average error: 290.4309531915873\n",
      "Epoch: 93/100, Average error: 290.49534709213214\n",
      "Epoch: 94/100, Average error: 290.55975527862114\n",
      "Epoch: 95/100, Average error: 290.6241777542235\n",
      "Epoch: 96/100, Average error: 290.6886145221096\n",
      "Epoch: 97/100, Average error: 290.75306558545\n",
      "Epoch: 98/100, Average error: 290.81753094741623\n",
      "Epoch: 99/100, Average error: 290.8820106111804\n",
      "After the completion of training w1= 0.04545297952523988 , w0 = 0.42207083879958124\n"
     ]
    }
   ],
   "source": [
    "w1 = np.random.rand()\n",
    "w0 = np.random.rand()\n",
    "\n",
    "epochs = 100\n",
    "learning_rate = 0.001\n",
    "\n",
    "for t in range(epochs):\n",
    "    y_predicted = w1 * x + w0\n",
    "\n",
    "    error = y - y_predicted\n",
    "\n",
    "    avg_error = np.sum(error) / len(y)\n",
    "\n",
    "    print(f\"Epoch: {t}/{epochs}, Average error: {avg_error}\")\n",
    "\n",
    "    w1 = w1 - learning_rate * np.dot(error, x) / n\n",
    "    w0 = w0 - learning_rate * np.sum(error) / n\n",
    "\n",
    "print(f\"After the completion of training w1= {w1} , w0 = {w0}\")"
   ]
  },
  {
   "cell_type": "code",
   "execution_count": null,
   "id": "48b7ab2f",
   "metadata": {},
   "outputs": [],
   "source": []
  }
 ],
 "metadata": {
  "kernelspec": {
   "display_name": "Python 3",
   "language": "python",
   "name": "python3"
  },
  "language_info": {
   "codemirror_mode": {
    "name": "ipython",
    "version": 3
   },
   "file_extension": ".py",
   "mimetype": "text/x-python",
   "name": "python",
   "nbconvert_exporter": "python",
   "pygments_lexer": "ipython3",
   "version": "3.10.12"
  }
 },
 "nbformat": 4,
 "nbformat_minor": 5
}
