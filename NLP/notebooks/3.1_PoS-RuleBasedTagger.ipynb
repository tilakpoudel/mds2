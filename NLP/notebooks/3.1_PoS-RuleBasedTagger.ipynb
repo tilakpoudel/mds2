{
  "cells": [
    {
      "cell_type": "markdown",
      "metadata": {
        "id": "onVCX3qsefmW"
      },
      "source": [
        "## Rule based tagging\n",
        "\n",
        "When it comes to POS tagging, there are several methods that can be used to assign the appropriate tags to words in a text. One such method is the lexicon-based approach, which uses a statistical algorithm to assign the most frequently assigned POS tag to each token.\n",
        "\n",
        "For instance, the tag “verb” may be assigned to the word “run” if it is used as a verb more often than any other tag.\n",
        "\n",
        "Another approach is the rule-based method, which combines the lexicon-based approach with predefined rules. These rules are designed to handle specific cases that the lexicon-based approach may not be able to handle on its own.\n"
      ]
    },
    {
      "cell_type": "markdown",
      "metadata": {
        "id": "qCOasdSqe1A0"
      },
      "source": [
        "### Reading the tagset\n",
        "\n",
        "Let’s try to understand the tagged dataset by reading it from nltk."
      ]
    },
    {
      "cell_type": "code",
      "execution_count": 1,
      "metadata": {
        "id": "CS2K5DnPfNzd"
      },
      "outputs": [],
      "source": [
        "# Importing libraries\n",
        "import nltk\n",
        "from sklearn.model_selection import train_test_split\n",
        "from nltk.tokenize import word_tokenize"
      ]
    },
    {
      "cell_type": "code",
      "execution_count": 3,
      "metadata": {
        "colab": {
          "base_uri": "https://localhost:8080/"
        },
        "id": "-pzshX6mfL7x",
        "outputId": "805462c9-506c-4f78-95aa-71748ac0dfb9"
      },
      "outputs": [
        {
          "name": "stderr",
          "output_type": "stream",
          "text": [
            "[nltk_data] Error loading treebank: <urlopen error [Errno 104]\n",
            "[nltk_data]     Connection reset by peer>\n"
          ]
        },
        {
          "data": {
            "text/plain": [
              "False"
            ]
          },
          "execution_count": 3,
          "metadata": {},
          "output_type": "execute_result"
        }
      ],
      "source": [
        "nltk.download('treebank')"
      ]
    },
    {
      "cell_type": "code",
      "execution_count": 5,
      "metadata": {
        "id": "P1ow5Sn9e0ht"
      },
      "outputs": [
        {
          "data": {
            "text/plain": [
              "[[('Pierre', 'NNP'),\n",
              "  ('Vinken', 'NNP'),\n",
              "  (',', ','),\n",
              "  ('61', 'CD'),\n",
              "  ('years', 'NNS'),\n",
              "  ('old', 'JJ'),\n",
              "  (',', ','),\n",
              "  ('will', 'MD'),\n",
              "  ('join', 'VB'),\n",
              "  ('the', 'DT'),\n",
              "  ('board', 'NN'),\n",
              "  ('as', 'IN'),\n",
              "  ('a', 'DT'),\n",
              "  ('nonexecutive', 'JJ'),\n",
              "  ('director', 'NN'),\n",
              "  ('Nov.', 'NNP'),\n",
              "  ('29', 'CD'),\n",
              "  ('.', '.')],\n",
              " [('Mr.', 'NNP'),\n",
              "  ('Vinken', 'NNP'),\n",
              "  ('is', 'VBZ'),\n",
              "  ('chairman', 'NN'),\n",
              "  ('of', 'IN'),\n",
              "  ('Elsevier', 'NNP'),\n",
              "  ('N.V.', 'NNP'),\n",
              "  (',', ','),\n",
              "  ('the', 'DT'),\n",
              "  ('Dutch', 'NNP'),\n",
              "  ('publishing', 'VBG'),\n",
              "  ('group', 'NN'),\n",
              "  ('.', '.')],\n",
              " [('Rudolph', 'NNP'),\n",
              "  ('Agnew', 'NNP'),\n",
              "  (',', ','),\n",
              "  ('55', 'CD'),\n",
              "  ('years', 'NNS'),\n",
              "  ('old', 'JJ'),\n",
              "  ('and', 'CC'),\n",
              "  ('former', 'JJ'),\n",
              "  ('chairman', 'NN'),\n",
              "  ('of', 'IN'),\n",
              "  ('Consolidated', 'NNP'),\n",
              "  ('Gold', 'NNP'),\n",
              "  ('Fields', 'NNP'),\n",
              "  ('PLC', 'NNP'),\n",
              "  (',', ','),\n",
              "  ('was', 'VBD'),\n",
              "  ('named', 'VBN'),\n",
              "  ('*-1', '-NONE-'),\n",
              "  ('a', 'DT'),\n",
              "  ('nonexecutive', 'JJ'),\n",
              "  ('director', 'NN'),\n",
              "  ('of', 'IN'),\n",
              "  ('this', 'DT'),\n",
              "  ('British', 'JJ'),\n",
              "  ('industrial', 'JJ'),\n",
              "  ('conglomerate', 'NN'),\n",
              "  ('.', '.')]]"
            ]
          },
          "execution_count": 5,
          "metadata": {},
          "output_type": "execute_result"
        }
      ],
      "source": [
        "# reading the Treebank tagged sentences\n",
        "wsj = list(nltk.corpus.treebank.tagged_sents())\n",
        "# samples: Each sentence is a list of (word, pos) tuples\n",
        "wsj[:3]"
      ]
    },
    {
      "cell_type": "code",
      "execution_count": 6,
      "metadata": {
        "colab": {
          "base_uri": "https://localhost:8080/"
        },
        "id": "MACPrF-hSDSp",
        "outputId": "3e747100-daee-41f5-a545-59cdbed79bbd"
      },
      "outputs": [
        {
          "name": "stdout",
          "output_type": "stream",
          "text": [
            "100676\n"
          ]
        },
        {
          "data": {
            "text/plain": [
              "[('Pierre', 'NNP'),\n",
              " ('Vinken', 'NNP'),\n",
              " (',', ','),\n",
              " ('61', 'CD'),\n",
              " ('years', 'NNS'),\n",
              " ('old', 'JJ'),\n",
              " (',', ','),\n",
              " ('will', 'MD'),\n",
              " ('join', 'VB'),\n",
              " ('the', 'DT')]"
            ]
          },
          "execution_count": 6,
          "metadata": {},
          "output_type": "execute_result"
        }
      ],
      "source": [
        "# converting the list of sents to a list of (word, pos tag) tuples\n",
        "tagged_words = [tup for sent in wsj for tup in sent]\n",
        "print(len(tagged_words))\n",
        "tagged_words[:10]"
      ]
    },
    {
      "cell_type": "markdown",
      "metadata": {
        "id": "KBn8lrAsee51"
      },
      "source": [
        "## EDA\n",
        "\n",
        "- Find the number of unique POS tags in the corpus\n",
        "- Which is the most frequent tag in the corpus\n",
        "- Which tag is most commonly assigned to the word \"bank\".\n",
        "- Which tag is most commonly assigned to the word \"executive\"."
      ]
    },
    {
      "cell_type": "code",
      "execution_count": 7,
      "metadata": {
        "colab": {
          "base_uri": "https://localhost:8080/"
        },
        "id": "NfL7HPf-f9H0",
        "outputId": "56fc6963-5582-4728-bcf2-f3ff72cfdf50"
      },
      "outputs": [
        {
          "data": {
            "text/plain": [
              "46"
            ]
          },
          "execution_count": 7,
          "metadata": {},
          "output_type": "execute_result"
        }
      ],
      "source": [
        "tags = [pair[1] for pair in tagged_words]\n",
        "unique_tags = set(tags)\n",
        "len(unique_tags)"
      ]
    },
    {
      "cell_type": "code",
      "execution_count": 8,
      "metadata": {
        "id": "mzraVqvxgP_z"
      },
      "outputs": [
        {
          "data": {
            "text/plain": [
              "Counter({'NN': 13166,\n",
              "         'IN': 9857,\n",
              "         'NNP': 9410,\n",
              "         'DT': 8165,\n",
              "         '-NONE-': 6592,\n",
              "         'NNS': 6047,\n",
              "         'JJ': 5834,\n",
              "         ',': 4886,\n",
              "         '.': 3874,\n",
              "         'CD': 3546,\n",
              "         'VBD': 3043,\n",
              "         'RB': 2822,\n",
              "         'VB': 2554,\n",
              "         'CC': 2265,\n",
              "         'TO': 2179,\n",
              "         'VBN': 2134,\n",
              "         'VBZ': 2125,\n",
              "         'PRP': 1716,\n",
              "         'VBG': 1460,\n",
              "         'VBP': 1321,\n",
              "         'MD': 927,\n",
              "         'POS': 824,\n",
              "         'PRP$': 766,\n",
              "         '$': 724,\n",
              "         '``': 712,\n",
              "         \"''\": 694,\n",
              "         ':': 563,\n",
              "         'WDT': 445,\n",
              "         'JJR': 381,\n",
              "         'NNPS': 244,\n",
              "         'WP': 241,\n",
              "         'RP': 216,\n",
              "         'JJS': 182,\n",
              "         'WRB': 178,\n",
              "         'RBR': 136,\n",
              "         '-RRB-': 126,\n",
              "         '-LRB-': 120,\n",
              "         'EX': 88,\n",
              "         'RBS': 35,\n",
              "         'PDT': 27,\n",
              "         '#': 16,\n",
              "         'WP$': 14,\n",
              "         'LS': 13,\n",
              "         'FW': 4,\n",
              "         'UH': 3,\n",
              "         'SYM': 1})"
            ]
          },
          "execution_count": 8,
          "metadata": {},
          "output_type": "execute_result"
        }
      ],
      "source": [
        "from collections import Counter\n",
        "tag_counts = Counter(tags)\n",
        "tag_counts"
      ]
    },
    {
      "cell_type": "code",
      "execution_count": 9,
      "metadata": {
        "colab": {
          "base_uri": "https://localhost:8080/"
        },
        "id": "LmlPxXR_gWvr",
        "outputId": "43c38454-7df1-4f7c-aaf9-87bfbcf0d276"
      },
      "outputs": [
        {
          "data": {
            "text/plain": [
              "[('NN', 13166), ('IN', 9857), ('NNP', 9410), ('DT', 8165), ('-NONE-', 6592)]"
            ]
          },
          "execution_count": 9,
          "metadata": {},
          "output_type": "execute_result"
        }
      ],
      "source": [
        "tag_counts.most_common(5)"
      ]
    },
    {
      "cell_type": "code",
      "execution_count": 10,
      "metadata": {
        "id": "p7qfffGAgZeb"
      },
      "outputs": [
        {
          "data": {
            "text/plain": [
              "[('bank', 'NN'),\n",
              " ('Bank', 'NNP'),\n",
              " ('bank', 'NN'),\n",
              " ('Bank', 'NNP'),\n",
              " ('bank', 'NN'),\n",
              " ('Bank', 'NNP'),\n",
              " ('bank', 'NN'),\n",
              " ('Bank', 'NNP'),\n",
              " ('bank', 'NN'),\n",
              " ('bank', 'NN'),\n",
              " ('bank', 'NN'),\n",
              " ('Bank', 'NNP'),\n",
              " ('Bank', 'NNP'),\n",
              " ('Bank', 'NNP'),\n",
              " ('Bank', 'NNP'),\n",
              " ('bank', 'NN'),\n",
              " ('bank', 'NN'),\n",
              " ('bank', 'NN'),\n",
              " ('bank', 'NN'),\n",
              " ('bank', 'NN'),\n",
              " ('Bank', 'NNP'),\n",
              " ('Bank', 'NNP'),\n",
              " ('Bank', 'NNP'),\n",
              " ('bank', 'NN'),\n",
              " ('Bank', 'NNP'),\n",
              " ('Bank', 'NNP'),\n",
              " ('bank', 'NN'),\n",
              " ('Bank', 'NNP'),\n",
              " ('Bank', 'NNP'),\n",
              " ('bank', 'NN'),\n",
              " ('bank', 'NN'),\n",
              " ('Bank', 'NNP'),\n",
              " ('bank', 'NN'),\n",
              " ('bank', 'NN'),\n",
              " ('bank', 'NN'),\n",
              " ('Bank', 'NNP'),\n",
              " ('bank', 'NN'),\n",
              " ('bank', 'NN'),\n",
              " ('bank', 'NN'),\n",
              " ('bank', 'NN'),\n",
              " ('bank', 'NN'),\n",
              " ('Bank', 'NNP'),\n",
              " ('Bank', 'NNP'),\n",
              " ('Bank', 'NNP'),\n",
              " ('bank', 'NN'),\n",
              " ('Bank', 'NNP'),\n",
              " ('Bank', 'NNP'),\n",
              " ('Bank', 'NNP'),\n",
              " ('Bank', 'NNP'),\n",
              " ('Bank', 'NNP'),\n",
              " ('Bank', 'NNP'),\n",
              " ('Bank', 'NNP'),\n",
              " ('Bank', 'NNP'),\n",
              " ('Bank', 'NNP'),\n",
              " ('bank', 'NN'),\n",
              " ('bank', 'NN'),\n",
              " ('Bank', 'NNP'),\n",
              " ('bank', 'NN'),\n",
              " ('bank', 'NN'),\n",
              " ('Bank', 'NNP'),\n",
              " ('bank', 'NN'),\n",
              " ('bank', 'NN'),\n",
              " ('bank', 'NN'),\n",
              " ('bank', 'NN'),\n",
              " ('bank', 'NN'),\n",
              " ('bank', 'NN'),\n",
              " ('bank', 'NN'),\n",
              " ('bank', 'NN'),\n",
              " ('Bank', 'NNP'),\n",
              " ('bank', 'NN')]"
            ]
          },
          "execution_count": 10,
          "metadata": {},
          "output_type": "execute_result"
        }
      ],
      "source": [
        "bank = [pair for pair in tagged_words if pair[0].lower() == 'bank']\n",
        "bank"
      ]
    },
    {
      "cell_type": "code",
      "execution_count": 11,
      "metadata": {
        "id": "i_IfMvyegfGi"
      },
      "outputs": [
        {
          "data": {
            "text/plain": [
              "[('executive', 'NN'),\n",
              " ('executive', 'JJ'),\n",
              " ('executive', 'JJ'),\n",
              " ('executive', 'NN'),\n",
              " ('executive', 'NN'),\n",
              " ('executive', 'NN'),\n",
              " ('executive', 'NN'),\n",
              " ('executive', 'NN'),\n",
              " ('executive', 'NN'),\n",
              " ('executive', 'NN'),\n",
              " ('executive', 'NN'),\n",
              " ('executive', 'NN'),\n",
              " ('executive', 'NN'),\n",
              " ('executive', 'JJ'),\n",
              " ('executive', 'JJ'),\n",
              " ('executive', 'JJ'),\n",
              " ('executive', 'NN'),\n",
              " ('executive', 'JJ'),\n",
              " ('executive', 'NN'),\n",
              " ('executive', 'NN'),\n",
              " ('executive', 'NN'),\n",
              " ('executive', 'NN'),\n",
              " ('executive', 'NN'),\n",
              " ('executive', 'NN'),\n",
              " ('executive', 'NN'),\n",
              " ('executive', 'NN'),\n",
              " ('executive', 'JJ'),\n",
              " ('executive', 'JJ'),\n",
              " ('executive', 'JJ'),\n",
              " ('executive', 'JJ'),\n",
              " ('executive', 'JJ'),\n",
              " ('executive', 'NN'),\n",
              " ('executive', 'NN'),\n",
              " ('executive', 'NN'),\n",
              " ('executive', 'NN'),\n",
              " ('executive', 'NN'),\n",
              " ('executive', 'JJ'),\n",
              " ('executive', 'NN'),\n",
              " ('executive', 'NN'),\n",
              " ('executive', 'NN'),\n",
              " ('executive', 'JJ'),\n",
              " ('executive', 'JJ'),\n",
              " ('executive', 'JJ'),\n",
              " ('executive', 'JJ'),\n",
              " ('executive', 'JJ'),\n",
              " ('executive', 'NN'),\n",
              " ('executive', 'NN'),\n",
              " ('executive', 'JJ'),\n",
              " ('executive', 'JJ'),\n",
              " ('executive', 'NN'),\n",
              " ('executive', 'JJ'),\n",
              " ('executive', 'JJ'),\n",
              " ('executive', 'NN'),\n",
              " ('executive', 'NN'),\n",
              " ('executive', 'JJ'),\n",
              " ('executive', 'NN'),\n",
              " ('executive', 'JJ'),\n",
              " ('executive', 'JJ'),\n",
              " ('executive', 'NN'),\n",
              " ('executive', 'NN'),\n",
              " ('executive', 'NN'),\n",
              " ('executive', 'JJ'),\n",
              " ('executive', 'NN'),\n",
              " ('executive', 'NN'),\n",
              " ('executive', 'JJ'),\n",
              " ('executive', 'JJ'),\n",
              " ('executive', 'NN'),\n",
              " ('executive', 'JJ')]"
            ]
          },
          "execution_count": 11,
          "metadata": {},
          "output_type": "execute_result"
        }
      ],
      "source": [
        "executive = [pair for pair in tagged_words if pair[0].lower() == 'executive']\n",
        "executive"
      ]
    },
    {
      "cell_type": "markdown",
      "metadata": {
        "id": "7wTMDcA9gmnp"
      },
      "source": [
        "## Lexicon and Rule-Based Models for POS Tagging"
      ]
    },
    {
      "cell_type": "code",
      "execution_count": 12,
      "metadata": {
        "colab": {
          "base_uri": "https://localhost:8080/"
        },
        "id": "dnxqUglcgppm",
        "outputId": "1a26f210-e873-48ce-9761-16b866804cdb"
      },
      "outputs": [
        {
          "name": "stdout",
          "output_type": "stream",
          "text": [
            "2739\n",
            "1175\n",
            "[[('The', 'DT'), ('radio-station', 'NN'), ('owner', 'NN'), ('and', 'CC'), ('programmer', 'NN'), ('said', 'VBD'), ('0', '-NONE-'), ('it', 'PRP'), ('was', 'VBD'), ('trying', 'VBG'), ('*-1', '-NONE-'), ('to', 'TO'), ('obtain', 'VB'), ('additional', 'JJ'), ('working', 'JJ'), ('capital', 'NN'), ('from', 'IN'), ('its', 'PRP$'), ('senior', 'JJ'), ('secured', 'VBN'), ('lenders', 'NNS'), ('and', 'CC'), ('other', 'JJ'), ('financial', 'JJ'), ('institutions', 'NNS'), ('.', '.')], [('Few', 'JJ'), ('people', 'NNS'), ('think', 'VBP'), ('0', '-NONE-'), ('Mr.', 'NNP'), ('Spiegel', 'NNP'), ('wants', 'VBZ'), ('*-1', '-NONE-'), ('to', 'TO'), ('run', 'VB'), ('a', 'DT'), ('bread-and-butter', 'JJ'), ('thrift', 'NN'), (',', ','), ('which', 'WDT'), ('current', 'JJ'), ('rules', 'NNS'), ('would', 'MD'), ('force', 'VB'), ('Columbia', 'NNP'), ('to', 'TO'), ('become', 'VB'), ('*T*-2', '-NONE-'), ('.', '.')]]\n"
          ]
        }
      ],
      "source": [
        "# Splitting into Train and Test Sets\n",
        "\n",
        "train_set, test_set = train_test_split(wsj, test_size=0.3)\n",
        "print(len(train_set))\n",
        "print(len(test_set))\n",
        "print(train_set[:2])\n"
      ]
    },
    {
      "cell_type": "markdown",
      "metadata": {
        "id": "ksHzqUsVhAoN"
      },
      "source": [
        "### Unigram lexicon tagger\n",
        "\n",
        "In NLTK, the UnigramTagger() can be used to train such a model."
      ]
    },
    {
      "cell_type": "code",
      "execution_count": 13,
      "metadata": {
        "colab": {
          "base_uri": "https://localhost:8080/"
        },
        "id": "ZPqb4kO0g_n5",
        "outputId": "228e07dd-8e15-487c-86e2-450e927b132c"
      },
      "outputs": [
        {
          "data": {
            "text/plain": [
              "0.8702360543320585"
            ]
          },
          "execution_count": 13,
          "metadata": {},
          "output_type": "execute_result"
        }
      ],
      "source": [
        "# Lexicon (or unigram tagger)\n",
        "unigram_tagger = nltk.UnigramTagger(train_set)\n",
        "unigram_tagger.accuracy(test_set)"
      ]
    },
    {
      "cell_type": "markdown",
      "metadata": {
        "id": "FOkB3ZL2hWYC"
      },
      "source": [
        "### Rule-Based (Regular Expression) Tagger\n",
        "\n",
        "For example, we can specify regexes for various grammatical forms such as gerunds and past tense verbs, 3rd singular present verbs (e.g., creates, moves, makes), modal verbs (e.g., should, would, could), possessive nouns (e.g., partner’s, bank’s), plural nouns (e.g., banks, institutions), cardinal numbers (CD), and so on. In case none of these rules are applicable to a word, we can assign the most frequent tag NN to it."
      ]
    },
    {
      "cell_type": "code",
      "execution_count": 14,
      "metadata": {
        "colab": {
          "base_uri": "https://localhost:8080/"
        },
        "id": "E2CtnMXRhX_7",
        "outputId": "5b395bb7-5be4-496a-b4bb-a1ea164100b8"
      },
      "outputs": [
        {
          "name": "stderr",
          "output_type": "stream",
          "text": [
            "/tmp/ipykernel_12596/1651568597.py:14: DeprecationWarning: \n",
            "  Function evaluate() has been deprecated.  Use accuracy(gold)\n",
            "  instead.\n",
            "  regexp_tagger.evaluate(test_set)\n"
          ]
        },
        {
          "data": {
            "text/plain": [
              "0.21716339179744165"
            ]
          },
          "execution_count": 14,
          "metadata": {},
          "output_type": "execute_result"
        }
      ],
      "source": [
        "# specify patterns for tagging\n",
        "# example from the NLTK book\n",
        "patterns = [\n",
        "    (r'.*ing$', 'VBG'),              # gerund\n",
        "    (r'.*ed$', 'VBD'),               # past tense\n",
        "    (r'.*es$', 'VBZ'),               # 3rd singular present\n",
        "    (r'.*ould$', 'MD'),              # modals\n",
        "    (r'.*\\'s$', 'NN$'),              # possessive nouns\n",
        "    (r'.*s$', 'NNS'),                # plural nouns\n",
        "    (r'^-?[0-9]+(.[0-9]+)?$', 'CD'), # cardinal numbers\n",
        "    (r'.*', 'NN')                    # nouns\n",
        "]\n",
        "regexp_tagger = nltk.RegexpTagger(patterns)\n",
        "regexp_tagger.evaluate(test_set)"
      ]
    },
    {
      "cell_type": "markdown",
      "metadata": {
        "id": "j6UJJlibhvCS"
      },
      "source": [
        "### Combining Rule based with Lexicon PoS Tagger\n",
        "\n",
        "NLTK provides a convenient method to combine taggers using the ‘backup’ argument. In the following code, we create a regex tagger to act as a backup to the lexicon tagger. In other words, if the lexicon tagger is unable to tag a word (e.g., a new word not in the vocabulary), it will use the rule-based tagger to assign a tag. Additionally, note that the rule-based tagger itself is backed up by the ‘NN’ tag."
      ]
    },
    {
      "cell_type": "code",
      "execution_count": 15,
      "metadata": {
        "colab": {
          "base_uri": "https://localhost:8080/"
        },
        "id": "BMg1wLqsh4d4",
        "outputId": "d533999d-adaa-4f6c-ec45-d4b4e7b793cc"
      },
      "outputs": [
        {
          "name": "stderr",
          "output_type": "stream",
          "text": [
            "/tmp/ipykernel_12596/698509074.py:5: DeprecationWarning: \n",
            "  Function evaluate() has been deprecated.  Use accuracy(gold)\n",
            "  instead.\n",
            "  lexicon_tagger.evaluate(test_set)\n"
          ]
        },
        {
          "data": {
            "text/plain": [
              "0.9013912699459317"
            ]
          },
          "execution_count": 15,
          "metadata": {},
          "output_type": "execute_result"
        }
      ],
      "source": [
        "# rule based tagger\n",
        "rule_based_tagger = nltk.RegexpTagger(patterns)\n",
        "# lexicon backed up by the rule-based tagger\n",
        "lexicon_tagger = nltk.UnigramTagger(train_set, backoff=rule_based_tagger)\n",
        "lexicon_tagger.evaluate(test_set)\n"
      ]
    }
  ],
  "metadata": {
    "colab": {
      "provenance": []
    },
    "kernelspec": {
      "display_name": "Python 3",
      "name": "python3"
    },
    "language_info": {
      "codemirror_mode": {
        "name": "ipython",
        "version": 3
      },
      "file_extension": ".py",
      "mimetype": "text/x-python",
      "name": "python",
      "nbconvert_exporter": "python",
      "pygments_lexer": "ipython3",
      "version": "3.12.4"
    }
  },
  "nbformat": 4,
  "nbformat_minor": 0
}
